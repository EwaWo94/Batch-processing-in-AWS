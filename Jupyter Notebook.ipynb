{
 "cells": [
  {
   "cell_type": "code",
   "execution_count": 1,
   "id": "a5bc0cdc",
   "metadata": {
    "scrolled": true
   },
   "outputs": [
    {
     "data": {
      "application/vnd.jupyter.widget-view+json": {
       "model_id": "44c5bd61d2814f369d0c789851663f54",
       "version_major": 2,
       "version_minor": 0
      },
      "text/plain": [
       "VBox()"
      ]
     },
     "metadata": {},
     "output_type": "display_data"
    },
    {
     "name": "stdout",
     "output_type": "stream",
     "text": [
      "Starting Spark application\n"
     ]
    },
    {
     "data": {
      "text/html": [
       "<table>\n",
       "<tr><th>ID</th><th>YARN Application ID</th><th>Kind</th><th>State</th><th>Spark UI</th><th>Driver log</th><th>User</th><th>Current session?</th></tr><tr><td>0</td><td>application_1718225577846_0001</td><td>pyspark</td><td>idle</td><td><a target=\"_blank\" href=\"http://ip-172-31-47-10.ec2.internal:20888/proxy/application_1718225577846_0001/\" class=\"emr-proxy-link\" emr-resource=\"j-3VFKKSCT2PR3U\n",
       "\" application-id=\"application_1718225577846_0001\">Link</a></td><td><a target=\"_blank\" href=\"http://ip-172-31-41-81.ec2.internal:8042/node/containerlogs/container_1718225577846_0001_01_000001/livy\" >Link</a></td><td>None</td><td>✔</td></tr></table>"
      ],
      "text/plain": [
       "<IPython.core.display.HTML object>"
      ]
     },
     "metadata": {},
     "output_type": "display_data"
    },
    {
     "data": {
      "application/vnd.jupyter.widget-view+json": {
       "model_id": "",
       "version_major": 2,
       "version_minor": 0
      },
      "text/plain": [
       "FloatProgress(value=0.0, bar_style='info', description='Progress:', layout=Layout(height='25px', width='50%'),…"
      ]
     },
     "metadata": {},
     "output_type": "display_data"
    },
    {
     "name": "stdout",
     "output_type": "stream",
     "text": [
      "SparkSession available as 'spark'.\n"
     ]
    },
    {
     "data": {
      "application/vnd.jupyter.widget-view+json": {
       "model_id": "",
       "version_major": 2,
       "version_minor": 0
      },
      "text/plain": [
       "FloatProgress(value=0.0, bar_style='info', description='Progress:', layout=Layout(height='25px', width='50%'),…"
      ]
     },
     "metadata": {},
     "output_type": "display_data"
    },
    {
     "name": "stdout",
     "output_type": "stream",
     "text": [
      "Collecting pandas==2.2.2\n",
      "  Downloading pandas-2.2.2-cp39-cp39-manylinux_2_17_x86_64.manylinux2014_x86_64.whl (13.1 MB)\n",
      "Requirement already satisfied: pytz>=2020.1 in /usr/local/lib/python3.9/site-packages (from pandas==2.2.2) (2024.1)\n",
      "Collecting tzdata>=2022.7\n",
      "  Downloading tzdata-2024.1-py2.py3-none-any.whl (345 kB)\n",
      "Collecting numpy>=1.22.4\n",
      "  Downloading numpy-1.26.4-cp39-cp39-manylinux_2_17_x86_64.manylinux2014_x86_64.whl (18.2 MB)\n",
      "Collecting python-dateutil>=2.8.2\n",
      "  Downloading python_dateutil-2.9.0.post0-py2.py3-none-any.whl (229 kB)\n",
      "Requirement already satisfied: six>=1.5 in /usr/local/lib/python3.9/site-packages (from python-dateutil>=2.8.2->pandas==2.2.2) (1.13.0)\n",
      "Installing collected packages: tzdata, python-dateutil, numpy, pandas\n",
      "  Attempting uninstall: python-dateutil\n",
      "    Found existing installation: python-dateutil 2.8.1\n",
      "    Not uninstalling python-dateutil at /usr/lib/python3.9/site-packages, outside environment /mnt/yarn/usercache/livy/appcache/application_1718225577846_0001/container_1718225577846_0001_01_000001/tmp/spark-061b2d9f-9dd6-41fe-8d2b-fa387b191013\n",
      "    Can't uninstall 'python-dateutil'. No files were found to uninstall.\n",
      "Successfully installed numpy-1.26.4 pandas-2.2.2 python-dateutil-2.9.0.post0 tzdata-2024.1\n",
      "\n",
      "Collecting matplotlib\n",
      "  Downloading matplotlib-3.9.0-cp39-cp39-manylinux_2_17_x86_64.manylinux2014_x86_64.whl (8.3 MB)\n",
      "Collecting packaging>=20.0\n",
      "  Downloading packaging-24.1-py3-none-any.whl (53 kB)\n",
      "Collecting importlib-resources>=3.2.0\n",
      "  Downloading importlib_resources-6.4.0-py3-none-any.whl (38 kB)\n",
      "Collecting pillow>=8\n",
      "  Downloading pillow-10.3.0-cp39-cp39-manylinux_2_28_x86_64.whl (4.5 MB)\n",
      "Requirement already satisfied: numpy>=1.23 in ./tmp/spark-061b2d9f-9dd6-41fe-8d2b-fa387b191013/lib64/python3.9/site-packages (from matplotlib) (1.26.4)\n",
      "Collecting kiwisolver>=1.3.1\n",
      "  Downloading kiwisolver-1.4.5-cp39-cp39-manylinux_2_12_x86_64.manylinux2010_x86_64.whl (1.6 MB)\n",
      "Collecting fonttools>=4.22.0\n",
      "  Downloading fonttools-4.53.0-cp39-cp39-manylinux_2_17_x86_64.manylinux2014_x86_64.whl (4.6 MB)\n",
      "Collecting pyparsing>=2.3.1\n",
      "  Downloading pyparsing-3.1.2-py3-none-any.whl (103 kB)\n",
      "Collecting contourpy>=1.0.1\n",
      "  Downloading contourpy-1.2.1-cp39-cp39-manylinux_2_17_x86_64.manylinux2014_x86_64.whl (304 kB)\n",
      "Requirement already satisfied: python-dateutil>=2.7 in ./tmp/spark-061b2d9f-9dd6-41fe-8d2b-fa387b191013/lib/python3.9/site-packages (from matplotlib) (2.9.0.post0)\n",
      "Collecting cycler>=0.10\n",
      "  Downloading cycler-0.12.1-py3-none-any.whl (8.3 kB)\n",
      "Collecting zipp>=3.1.0\n",
      "  Downloading zipp-3.19.2-py3-none-any.whl (9.0 kB)\n",
      "Requirement already satisfied: six>=1.5 in /usr/local/lib/python3.9/site-packages (from python-dateutil>=2.7->matplotlib) (1.13.0)\n",
      "Installing collected packages: zipp, pyparsing, pillow, packaging, kiwisolver, importlib-resources, fonttools, cycler, contourpy, matplotlib\n",
      "Successfully installed contourpy-1.2.1 cycler-0.12.1 fonttools-4.53.0 importlib-resources-6.4.0 kiwisolver-1.4.5 matplotlib-3.9.0 packaging-24.1 pillow-10.3.0 pyparsing-3.1.2 zipp-3.19.2\n",
      "\n",
      "WARNING: The directory '/home/.cache/pip' or its parent directory is not owned or is not writable by the current user. The cache has been disabled. Check the permissions and owner of that directory. If executing pip with sudo, you should use sudo's -H flag.\n",
      "ERROR: pip's dependency resolver does not currently take into account all the packages that are installed. This behaviour is the source of the following dependency conflicts.\n",
      "awscli 2.15.30 requires python-dateutil<=2.8.2,>=2.1, but you have python-dateutil 2.9.0.post0 which is incompatible.\n",
      "\n",
      "WARNING: The directory '/home/.cache/pip' or its parent directory is not owned or is not writable by the current user. The cache has been disabled. Check the permissions and owner of that directory. If executing pip with sudo, you should use sudo's -H flag."
     ]
    }
   ],
   "source": [
    "# Instalacja Pandas i Matplotlib\n",
    "sc.install_pypi_package(\"pandas==2.2.2\")\n",
    "sc.install_pypi_package(\"matplotlib\", \"https://pypi.org/simple\")"
   ]
  },
  {
   "cell_type": "code",
   "execution_count": 2,
   "id": "4bb628be",
   "metadata": {},
   "outputs": [
    {
     "data": {
      "application/vnd.jupyter.widget-view+json": {
       "model_id": "3c0d887b771f41cdbd742e47e8cca0cb",
       "version_major": 2,
       "version_minor": 0
      },
      "text/plain": [
       "VBox()"
      ]
     },
     "metadata": {},
     "output_type": "display_data"
    },
    {
     "data": {
      "application/vnd.jupyter.widget-view+json": {
       "model_id": "",
       "version_major": 2,
       "version_minor": 0
      },
      "text/plain": [
       "FloatProgress(value=0.0, bar_style='info', description='Progress:', layout=Layout(height='25px', width='50%'),…"
      ]
     },
     "metadata": {},
     "output_type": "display_data"
    },
    {
     "name": "stdout",
     "output_type": "stream",
     "text": [
      "Collecting wordcloud\n",
      "  Downloading wordcloud-1.9.3-cp39-cp39-manylinux_2_17_x86_64.manylinux2014_x86_64.whl (513 kB)\n",
      "Requirement already satisfied: matplotlib in ./tmp/spark-061b2d9f-9dd6-41fe-8d2b-fa387b191013/lib64/python3.9/site-packages (from wordcloud) (3.9.0)\n",
      "Requirement already satisfied: numpy>=1.6.1 in ./tmp/spark-061b2d9f-9dd6-41fe-8d2b-fa387b191013/lib64/python3.9/site-packages (from wordcloud) (1.26.4)\n",
      "Requirement already satisfied: pillow in ./tmp/spark-061b2d9f-9dd6-41fe-8d2b-fa387b191013/lib64/python3.9/site-packages (from wordcloud) (10.3.0)\n",
      "Requirement already satisfied: packaging>=20.0 in ./tmp/spark-061b2d9f-9dd6-41fe-8d2b-fa387b191013/lib/python3.9/site-packages (from matplotlib->wordcloud) (24.1)\n",
      "Requirement already satisfied: importlib-resources>=3.2.0 in ./tmp/spark-061b2d9f-9dd6-41fe-8d2b-fa387b191013/lib/python3.9/site-packages (from matplotlib->wordcloud) (6.4.0)\n",
      "Requirement already satisfied: contourpy>=1.0.1 in ./tmp/spark-061b2d9f-9dd6-41fe-8d2b-fa387b191013/lib64/python3.9/site-packages (from matplotlib->wordcloud) (1.2.1)\n",
      "Requirement already satisfied: kiwisolver>=1.3.1 in ./tmp/spark-061b2d9f-9dd6-41fe-8d2b-fa387b191013/lib64/python3.9/site-packages (from matplotlib->wordcloud) (1.4.5)\n",
      "Requirement already satisfied: fonttools>=4.22.0 in ./tmp/spark-061b2d9f-9dd6-41fe-8d2b-fa387b191013/lib64/python3.9/site-packages (from matplotlib->wordcloud) (4.53.0)\n",
      "Requirement already satisfied: pyparsing>=2.3.1 in ./tmp/spark-061b2d9f-9dd6-41fe-8d2b-fa387b191013/lib/python3.9/site-packages (from matplotlib->wordcloud) (3.1.2)\n",
      "Requirement already satisfied: cycler>=0.10 in ./tmp/spark-061b2d9f-9dd6-41fe-8d2b-fa387b191013/lib/python3.9/site-packages (from matplotlib->wordcloud) (0.12.1)\n",
      "Requirement already satisfied: python-dateutil>=2.7 in ./tmp/spark-061b2d9f-9dd6-41fe-8d2b-fa387b191013/lib/python3.9/site-packages (from matplotlib->wordcloud) (2.9.0.post0)\n",
      "Requirement already satisfied: zipp>=3.1.0 in ./tmp/spark-061b2d9f-9dd6-41fe-8d2b-fa387b191013/lib/python3.9/site-packages (from importlib-resources>=3.2.0->matplotlib->wordcloud) (3.19.2)\n",
      "Requirement already satisfied: six>=1.5 in /usr/local/lib/python3.9/site-packages (from python-dateutil>=2.7->matplotlib->wordcloud) (1.13.0)\n",
      "Installing collected packages: wordcloud\n",
      "Successfully installed wordcloud-1.9.3\n",
      "\n",
      "WARNING: The directory '/home/.cache/pip' or its parent directory is not owned or is not writable by the current user. The cache has been disabled. Check the permissions and owner of that directory. If executing pip with sudo, you should use sudo's -H flag."
     ]
    }
   ],
   "source": [
    "sc.install_pypi_package(\"wordcloud\", \"https://pypi.org/simple\")"
   ]
  },
  {
   "cell_type": "code",
   "execution_count": 3,
   "id": "59b5be56",
   "metadata": {},
   "outputs": [
    {
     "data": {
      "application/vnd.jupyter.widget-view+json": {
       "model_id": "5225b951bda84a03814ea967b5b9205c",
       "version_major": 2,
       "version_minor": 0
      },
      "text/plain": [
       "VBox()"
      ]
     },
     "metadata": {},
     "output_type": "display_data"
    },
    {
     "data": {
      "application/vnd.jupyter.widget-view+json": {
       "model_id": "",
       "version_major": 2,
       "version_minor": 0
      },
      "text/plain": [
       "FloatProgress(value=0.0, bar_style='info', description='Progress:', layout=Layout(height='25px', width='50%'),…"
      ]
     },
     "metadata": {},
     "output_type": "display_data"
    }
   ],
   "source": [
    "from pyspark.sql.functions import col, explode, length, expr, sum, avg, stddev, regexp_replace, round, date_format, from_unixtime, to_date, count, min, max\n",
    "import pandas as pd\n",
    "import matplotlib.pyplot as plt\n",
    "import matplotlib\n",
    "from wordcloud import WordCloud\n",
    "from matplotlib.ticker import LogLocator, ScalarFormatter"
   ]
  },
  {
   "cell_type": "code",
   "execution_count": 4,
   "id": "179656d7",
   "metadata": {},
   "outputs": [
    {
     "data": {
      "application/vnd.jupyter.widget-view+json": {
       "model_id": "575572a395c34954bf252885d4bdb04a",
       "version_major": 2,
       "version_minor": 0
      },
      "text/plain": [
       "VBox()"
      ]
     },
     "metadata": {},
     "output_type": "display_data"
    },
    {
     "data": {
      "application/vnd.jupyter.widget-view+json": {
       "model_id": "",
       "version_major": 2,
       "version_minor": 0
      },
      "text/plain": [
       "FloatProgress(value=0.0, bar_style='info', description='Progress:', layout=Layout(height='25px', width='50%'),…"
      ]
     },
     "metadata": {},
     "output_type": "display_data"
    }
   ],
   "source": [
    "# Wczytanie danych z S3\n",
    "posts_df = spark.read.json('s3://raw-allposts/posts.json')"
   ]
  },
  {
   "cell_type": "code",
   "execution_count": 5,
   "id": "f2c2ab88",
   "metadata": {},
   "outputs": [
    {
     "data": {
      "application/vnd.jupyter.widget-view+json": {
       "model_id": "8b978634cc7a43f2939c9af56da0684a",
       "version_major": 2,
       "version_minor": 0
      },
      "text/plain": [
       "VBox()"
      ]
     },
     "metadata": {},
     "output_type": "display_data"
    },
    {
     "data": {
      "application/vnd.jupyter.widget-view+json": {
       "model_id": "",
       "version_major": 2,
       "version_minor": 0
      },
      "text/plain": [
       "FloatProgress(value=0.0, bar_style='info', description='Progress:', layout=Layout(height='25px', width='50%'),…"
      ]
     },
     "metadata": {},
     "output_type": "display_data"
    },
    {
     "name": "stdout",
     "output_type": "stream",
     "text": [
      "+--------------------+-------------+--------------------+-------+---------+-----+--------------------+\n",
      "|                body|creation_date|               owner|post_id|post_type|score|               title|\n",
      "+--------------------+-------------+--------------------+-------+---------+-----+--------------------+\n",
      "|<p>I've made beef...|   1716917390|     {70818, Sylvia}| 128422| question|    0|Dehydrating highe...|\n",
      "|<p>Most chefs rec...|   1289183621|{11626, LeopardSk...|   8934| question|   19|When cooking past...|\n",
      "|<p>Good discussio...|   1716925098|{32556428, Old cr...| 128423|   answer|    0|When cooking past...|\n",
      "|<p>Anchovies, tin...|   1453803359|{7565324, Marc Lu...|  65886| question|    4|Do tinned anchovi...|\n",
      "|<h2>Preamble:</h2...|   1517847516|   {1789986, Daevin}|  87548| question|    5|Homemade sauerkra...|\n",
      "|<p>I would not re...|   1716880708|{32541314, Garden...| 128420|   answer|   -1|Homemade sauerkra...|\n",
      "|<p>I put raw pota...|   1716869892|    {32538063, Andi}| 128419|   answer|    1|Pre-blending Pota...|\n",
      "|<p>What would hap...|   1282666001|{19752, Pr&#228;r...|   5882| question|    5|Pre-blending Pota...|\n",
      "|<p>I am relativel...|   1409677085|     {4974409, Kara}|  46820| question|    3|Cans are all seal...|\n",
      "|<p>I lived in Fra...|   1716859236|  {32535805, Autumn}| 128418|   answer|    1|Cans are all seal...|\n",
      "|<p>Bacteria inocu...|   1716845890|  {32533821, katoda}| 128417|   answer|    1|Do plastic cuttin...|\n",
      "|<p>I've heard on ...|   1593125308|   {509706, Behacad}| 109303| question|   12|Do plastic cuttin...|\n",
      "|<p>The only quest...|   1568149736| {1766087, user9447}| 101262| question|    3|Can store bought ...|\n",
      "|<p>The short answ...|   1716670460|{12489345, Hollis...| 128403|   answer|    0|Can store bought ...|\n",
      "|<p>Some very conf...|   1716828812|{32530070, user11...| 128416|   answer|    1|Does chilli get m...|\n",
      "|<p>I have made a ...|   1476451146| {4429887, S Meaden}|  74737| question|   34|Does chilli get m...|\n",
      "|<p>I bought a set...|   1372112336|      {2939938, Jim}|  34922| question|    1|Seasoning on Magn...|\n",
      "|<p>I have a few c...|   1716807844|{11998458, nick01...| 128415| question|    0|Expired diet soda...|\n",
      "|<p>This is new st...|   1716742872|{32508713, Erekle...| 128408| question|    0|Spots and gray re...|\n",
      "|<p>To me, the spo...|   1716785071|{12489345, Hollis...| 128414|   answer|    0|Spots and gray re...|\n",
      "+--------------------+-------------+--------------------+-------+---------+-----+--------------------+\n",
      "only showing top 20 rows"
     ]
    }
   ],
   "source": [
    "posts_df.show()"
   ]
  },
  {
   "cell_type": "code",
   "execution_count": 6,
   "id": "44bc895f",
   "metadata": {},
   "outputs": [
    {
     "data": {
      "application/vnd.jupyter.widget-view+json": {
       "model_id": "4ab810a83f06461e9cc0cacf72acf6d8",
       "version_major": 2,
       "version_minor": 0
      },
      "text/plain": [
       "VBox()"
      ]
     },
     "metadata": {},
     "output_type": "display_data"
    },
    {
     "data": {
      "application/vnd.jupyter.widget-view+json": {
       "model_id": "",
       "version_major": 2,
       "version_minor": 0
      },
      "text/plain": [
       "FloatProgress(value=0.0, bar_style='info', description='Progress:', layout=Layout(height='25px', width='50%'),…"
      ]
     },
     "metadata": {},
     "output_type": "display_data"
    },
    {
     "name": "stdout",
     "output_type": "stream",
     "text": [
      "root\n",
      " |-- body: string (nullable = true)\n",
      " |-- creation_date: long (nullable = true)\n",
      " |-- owner: struct (nullable = true)\n",
      " |    |-- account_id: long (nullable = true)\n",
      " |    |-- display_name: string (nullable = true)\n",
      " |-- post_id: long (nullable = true)\n",
      " |-- post_type: string (nullable = true)\n",
      " |-- score: long (nullable = true)\n",
      " |-- title: string (nullable = true)"
     ]
    }
   ],
   "source": [
    "posts_df.printSchema()"
   ]
  },
  {
   "cell_type": "code",
   "execution_count": 7,
   "id": "1e41a821",
   "metadata": {},
   "outputs": [
    {
     "data": {
      "application/vnd.jupyter.widget-view+json": {
       "model_id": "f4adf81a728b4a7eaeff4679660d24e9",
       "version_major": 2,
       "version_minor": 0
      },
      "text/plain": [
       "VBox()"
      ]
     },
     "metadata": {},
     "output_type": "display_data"
    },
    {
     "data": {
      "application/vnd.jupyter.widget-view+json": {
       "model_id": "",
       "version_major": 2,
       "version_minor": 0
      },
      "text/plain": [
       "FloatProgress(value=0.0, bar_style='info', description='Progress:', layout=Layout(height='25px', width='50%'),…"
      ]
     },
     "metadata": {},
     "output_type": "display_data"
    }
   ],
   "source": [
    "# Rozpakowanie kolumny owner\n",
    "posts_df = posts_df.withColumn(\"account_id\", col(\"owner.account_id\"))\n",
    "posts_df = posts_df.withColumn(\"user_name\", col(\"owner.display_name\"))"
   ]
  },
  {
   "cell_type": "code",
   "execution_count": 8,
   "id": "837279b1",
   "metadata": {},
   "outputs": [
    {
     "data": {
      "application/vnd.jupyter.widget-view+json": {
       "model_id": "cb0d1ae57cc94fac96ad0ba92e56aeca",
       "version_major": 2,
       "version_minor": 0
      },
      "text/plain": [
       "VBox()"
      ]
     },
     "metadata": {},
     "output_type": "display_data"
    },
    {
     "data": {
      "application/vnd.jupyter.widget-view+json": {
       "model_id": "",
       "version_major": 2,
       "version_minor": 0
      },
      "text/plain": [
       "FloatProgress(value=0.0, bar_style='info', description='Progress:', layout=Layout(height='25px', width='50%'),…"
      ]
     },
     "metadata": {},
     "output_type": "display_data"
    }
   ],
   "source": [
    "# Usunięcie kolumny owner\n",
    "posts_df = posts_df.drop(\"owner\")"
   ]
  },
  {
   "cell_type": "code",
   "execution_count": 9,
   "id": "ad3a3d88",
   "metadata": {},
   "outputs": [
    {
     "data": {
      "application/vnd.jupyter.widget-view+json": {
       "model_id": "93d81f438bcb4118bec7fbb47d472a02",
       "version_major": 2,
       "version_minor": 0
      },
      "text/plain": [
       "VBox()"
      ]
     },
     "metadata": {},
     "output_type": "display_data"
    },
    {
     "data": {
      "application/vnd.jupyter.widget-view+json": {
       "model_id": "",
       "version_major": 2,
       "version_minor": 0
      },
      "text/plain": [
       "FloatProgress(value=0.0, bar_style='info', description='Progress:', layout=Layout(height='25px', width='50%'),…"
      ]
     },
     "metadata": {},
     "output_type": "display_data"
    }
   ],
   "source": [
    "posts_df = posts_df.filter(col(\"account_id\").isNotNull())"
   ]
  },
  {
   "cell_type": "code",
   "execution_count": 10,
   "id": "30ccb06f",
   "metadata": {
    "scrolled": true
   },
   "outputs": [
    {
     "data": {
      "application/vnd.jupyter.widget-view+json": {
       "model_id": "05818d25939249c69bd732fd9412495e",
       "version_major": 2,
       "version_minor": 0
      },
      "text/plain": [
       "VBox()"
      ]
     },
     "metadata": {},
     "output_type": "display_data"
    },
    {
     "data": {
      "application/vnd.jupyter.widget-view+json": {
       "model_id": "",
       "version_major": 2,
       "version_minor": 0
      },
      "text/plain": [
       "FloatProgress(value=0.0, bar_style='info', description='Progress:', layout=Layout(height='25px', width='50%'),…"
      ]
     },
     "metadata": {},
     "output_type": "display_data"
    },
    {
     "name": "stdout",
     "output_type": "stream",
     "text": [
      "+--------------------+-------------+-------+---------+-----+--------------------+----------+--------------------+\n",
      "|                body|creation_date|post_id|post_type|score|               title|account_id|           user_name|\n",
      "+--------------------+-------------+-------+---------+-----+--------------------+----------+--------------------+\n",
      "|<p>I've made beef...|   1716917390| 128422| question|    0|Dehydrating highe...|     70818|              Sylvia|\n",
      "|<p>Most chefs rec...|   1289183621|   8934| question|   19|When cooking past...|     11626|LeopardSkinPillBo...|\n",
      "|<p>Good discussio...|   1716925098| 128423|   answer|    0|When cooking past...|  32556428|      Old cranky guy|\n",
      "|<p>Anchovies, tin...|   1453803359|  65886| question|    4|Do tinned anchovi...|   7565324|          Marc Luxen|\n",
      "|<h2>Preamble:</h2...|   1517847516|  87548| question|    5|Homemade sauerkra...|   1789986|              Daevin|\n",
      "|<p>I would not re...|   1716880708| 128420|   answer|   -1|Homemade sauerkra...|  32541314|Garden Goddess Fe...|\n",
      "|<p>I put raw pota...|   1716869892| 128419|   answer|    1|Pre-blending Pota...|  32538063|                Andi|\n",
      "|<p>What would hap...|   1282666001|   5882| question|    5|Pre-blending Pota...|     19752|     Pr&#228;riewolf|\n",
      "|<p>I am relativel...|   1409677085|  46820| question|    3|Cans are all seal...|   4974409|                Kara|\n",
      "|<p>I lived in Fra...|   1716859236| 128418|   answer|    1|Cans are all seal...|  32535805|              Autumn|\n",
      "|<p>Bacteria inocu...|   1716845890| 128417|   answer|    1|Do plastic cuttin...|  32533821|              katoda|\n",
      "|<p>I've heard on ...|   1593125308| 109303| question|   12|Do plastic cuttin...|    509706|             Behacad|\n",
      "|<p>The only quest...|   1568149736| 101262| question|    3|Can store bought ...|   1766087|            user9447|\n",
      "|<p>The short answ...|   1716670460| 128403|   answer|    0|Can store bought ...|  12489345|      Hollis Hurlbut|\n",
      "|<p>Some very conf...|   1716828812| 128416|   answer|    1|Does chilli get m...|  32530070|          user110424|\n",
      "|<p>I have made a ...|   1476451146|  74737| question|   34|Does chilli get m...|   4429887|            S Meaden|\n",
      "|<p>I bought a set...|   1372112336|  34922| question|    1|Seasoning on Magn...|   2939938|                 Jim|\n",
      "|<p>I have a few c...|   1716807844| 128415| question|    0|Expired diet soda...|  11998458|          nick012000|\n",
      "|<p>This is new st...|   1716742872| 128408| question|    0|Spots and gray re...|  32508713|    Erekle Mamaladze|\n",
      "|<p>To me, the spo...|   1716785071| 128414|   answer|    0|Spots and gray re...|  12489345|      Hollis Hurlbut|\n",
      "+--------------------+-------------+-------+---------+-----+--------------------+----------+--------------------+\n",
      "only showing top 20 rows"
     ]
    }
   ],
   "source": [
    "posts_df.show()"
   ]
  },
  {
   "cell_type": "code",
   "execution_count": 11,
   "id": "bae58d87",
   "metadata": {},
   "outputs": [
    {
     "data": {
      "application/vnd.jupyter.widget-view+json": {
       "model_id": "f9f5e4c006f84070b29b2f243880acc6",
       "version_major": 2,
       "version_minor": 0
      },
      "text/plain": [
       "VBox()"
      ]
     },
     "metadata": {},
     "output_type": "display_data"
    },
    {
     "data": {
      "application/vnd.jupyter.widget-view+json": {
       "model_id": "",
       "version_major": 2,
       "version_minor": 0
      },
      "text/plain": [
       "FloatProgress(value=0.0, bar_style='info', description='Progress:', layout=Layout(height='25px', width='50%'),…"
      ]
     },
     "metadata": {},
     "output_type": "display_data"
    }
   ],
   "source": [
    "# Oczyszczenie kolumny body ze znacznik\u00F3w tekstowych HTML, usunięcie pustych linii i niepotrzebnych bia\u0142ych znak\u00F3w\n",
    "posts_df = posts_df.withColumn(\"body\", regexp_replace(col(\"body\"), \"<[^>]*>\", \"\"))\n",
    "posts_df = posts_df.withColumn(\"body\", regexp_replace(col(\"body\"), \"\\\\s+\", \" \"))\n",
    "posts_df = posts_df.withColumn(\"body\", regexp_replace(col(\"body\"), \"^\\\\s+|\\\\s+$\", \"\"))"
   ]
  },
  {
   "cell_type": "code",
   "execution_count": 12,
   "id": "9df74e1e",
   "metadata": {},
   "outputs": [
    {
     "data": {
      "application/vnd.jupyter.widget-view+json": {
       "model_id": "b88529d76b6549aeb0217bc73a5d23f2",
       "version_major": 2,
       "version_minor": 0
      },
      "text/plain": [
       "VBox()"
      ]
     },
     "metadata": {},
     "output_type": "display_data"
    },
    {
     "data": {
      "application/vnd.jupyter.widget-view+json": {
       "model_id": "",
       "version_major": 2,
       "version_minor": 0
      },
      "text/plain": [
       "FloatProgress(value=0.0, bar_style='info', description='Progress:', layout=Layout(height='25px', width='50%'),…"
      ]
     },
     "metadata": {},
     "output_type": "display_data"
    }
   ],
   "source": [
    "# Zapisanie danych w formacie Parquet na S3\n",
    "posts_df.write.parquet(\"s3://posts-parquet/posts\", mode='overwrite')"
   ]
  },
  {
   "cell_type": "markdown",
   "id": "78c39ab3",
   "metadata": {},
   "source": [
    "## A: liczba post\u00F3w na przestrzeni czasu (lineplot/barplot)"
   ]
  },
  {
   "cell_type": "code",
   "execution_count": 13,
   "id": "e3a9a240",
   "metadata": {},
   "outputs": [
    {
     "data": {
      "application/vnd.jupyter.widget-view+json": {
       "model_id": "0ad192b488144ef593aa6d5caa41c229",
       "version_major": 2,
       "version_minor": 0
      },
      "text/plain": [
       "VBox()"
      ]
     },
     "metadata": {},
     "output_type": "display_data"
    },
    {
     "data": {
      "application/vnd.jupyter.widget-view+json": {
       "model_id": "",
       "version_major": 2,
       "version_minor": 0
      },
      "text/plain": [
       "FloatProgress(value=0.0, bar_style='info', description='Progress:', layout=Layout(height='25px', width='50%'),…"
      ]
     },
     "metadata": {},
     "output_type": "display_data"
    }
   ],
   "source": [
    "# Wybranie potrzenych kolumn\n",
    "posts_timeline_df = posts_df.select('post_id', 'creation_date')"
   ]
  },
  {
   "cell_type": "code",
   "execution_count": 14,
   "id": "54d27a2e",
   "metadata": {},
   "outputs": [
    {
     "data": {
      "application/vnd.jupyter.widget-view+json": {
       "model_id": "2c46290cd5ab4155b4733e1417a2f94f",
       "version_major": 2,
       "version_minor": 0
      },
      "text/plain": [
       "VBox()"
      ]
     },
     "metadata": {},
     "output_type": "display_data"
    },
    {
     "data": {
      "application/vnd.jupyter.widget-view+json": {
       "model_id": "",
       "version_major": 2,
       "version_minor": 0
      },
      "text/plain": [
       "FloatProgress(value=0.0, bar_style='info', description='Progress:', layout=Layout(height='25px', width='50%'),…"
      ]
     },
     "metadata": {},
     "output_type": "display_data"
    }
   ],
   "source": [
    "# Przekszta\u0142cenie kolumny creation_date z epoch na bardziej czytelny (UTC)\n",
    "posts_timeline_df = posts_timeline_df.withColumn(\"creation_date\", from_unixtime(col(\"creation_date\")))\n",
    "posts_timeline_df = posts_timeline_df.withColumn(\"creation_date\", date_format(col(\"creation_date\"), \"yyyy-MM\"))"
   ]
  },
  {
   "cell_type": "code",
   "execution_count": 15,
   "id": "d7c9bdcc",
   "metadata": {},
   "outputs": [
    {
     "data": {
      "application/vnd.jupyter.widget-view+json": {
       "model_id": "d98f6b02ae2e4e36baf802c2f0f1a540",
       "version_major": 2,
       "version_minor": 0
      },
      "text/plain": [
       "VBox()"
      ]
     },
     "metadata": {},
     "output_type": "display_data"
    },
    {
     "data": {
      "application/vnd.jupyter.widget-view+json": {
       "model_id": "",
       "version_major": 2,
       "version_minor": 0
      },
      "text/plain": [
       "FloatProgress(value=0.0, bar_style='info', description='Progress:', layout=Layout(height='25px', width='50%'),…"
      ]
     },
     "metadata": {},
     "output_type": "display_data"
    }
   ],
   "source": [
    "# Zgrupowanie DataFrame po kolumnie 'creation_date' i zliczenie wyst\u0105pie\u0144 'post_id' w ka\u017Cdej grup\n",
    "posts_timeline_df = posts_timeline_df.groupBy(\"creation_date\").agg(count('post_id').alias(\"post_count\")).orderBy('creation_date')"
   ]
  },
  {
   "cell_type": "code",
   "execution_count": 16,
   "id": "fe3b8f7b",
   "metadata": {},
   "outputs": [
    {
     "data": {
      "application/vnd.jupyter.widget-view+json": {
       "model_id": "8c73b2daf8fc4ab3b366ef4587947e8c",
       "version_major": 2,
       "version_minor": 0
      },
      "text/plain": [
       "VBox()"
      ]
     },
     "metadata": {},
     "output_type": "display_data"
    },
    {
     "data": {
      "application/vnd.jupyter.widget-view+json": {
       "model_id": "",
       "version_major": 2,
       "version_minor": 0
      },
      "text/plain": [
       "FloatProgress(value=0.0, bar_style='info', description='Progress:', layout=Layout(height='25px', width='50%'),…"
      ]
     },
     "metadata": {},
     "output_type": "display_data"
    }
   ],
   "source": [
    "# Przekonwertowanie do DF Pandas na potrzeby wizualizacji\n",
    "posts_timeline_pd = posts_timeline_df.toPandas()"
   ]
  },
  {
   "cell_type": "code",
   "execution_count": 17,
   "id": "f99ed35b",
   "metadata": {},
   "outputs": [
    {
     "data": {
      "application/vnd.jupyter.widget-view+json": {
       "model_id": "66e7622bd360421ea6cc2412f97b3f8c",
       "version_major": 2,
       "version_minor": 0
      },
      "text/plain": [
       "VBox()"
      ]
     },
     "metadata": {},
     "output_type": "display_data"
    },
    {
     "data": {
      "application/vnd.jupyter.widget-view+json": {
       "model_id": "",
       "version_major": 2,
       "version_minor": 0
      },
      "text/plain": [
       "FloatProgress(value=0.0, bar_style='info', description='Progress:', layout=Layout(height='25px', width='50%'),…"
      ]
     },
     "metadata": {},
     "output_type": "display_data"
    }
   ],
   "source": [
    "# Przekonwertowanie kolumny creation_date do daty w formacie YYYY-MM\n",
    "posts_timeline_pd['creation_date'] = pd.to_datetime(posts_timeline_pd['creation_date'], format='%Y-%m')"
   ]
  },
  {
   "cell_type": "code",
   "execution_count": 18,
   "id": "b932722d",
   "metadata": {},
   "outputs": [
    {
     "data": {
      "application/vnd.jupyter.widget-view+json": {
       "model_id": "e88120735b55494e8c586bef9a26536e",
       "version_major": 2,
       "version_minor": 0
      },
      "text/plain": [
       "VBox()"
      ]
     },
     "metadata": {},
     "output_type": "display_data"
    },
    {
     "data": {
      "application/vnd.jupyter.widget-view+json": {
       "model_id": "",
       "version_major": 2,
       "version_minor": 0
      },
      "text/plain": [
       "FloatProgress(value=0.0, bar_style='info', description='Progress:', layout=Layout(height='25px', width='50%'),…"
      ]
     },
     "metadata": {},
     "output_type": "display_data"
    }
   ],
   "source": [
    "plt.rcParams['font.family'] = 'Arial'"
   ]
  },
  {
   "cell_type": "code",
   "execution_count": 19,
   "id": "49e62a3f",
   "metadata": {},
   "outputs": [
    {
     "data": {
      "application/vnd.jupyter.widget-view+json": {
       "model_id": "09231c98a73a42208b75471c77f6cd07",
       "version_major": 2,
       "version_minor": 0
      },
      "text/plain": [
       "VBox()"
      ]
     },
     "metadata": {},
     "output_type": "display_data"
    },
    {
     "data": {
      "application/vnd.jupyter.widget-view+json": {
       "model_id": "",
       "version_major": 2,
       "version_minor": 0
      },
      "text/plain": [
       "FloatProgress(value=0.0, bar_style='info', description='Progress:', layout=Layout(height='25px', width='50%'),…"
      ]
     },
     "metadata": {},
     "output_type": "display_data"
    },
    {
     "name": "stdout",
     "output_type": "stream",
     "text": [
      "Text(0, 0.5, 'Liczba post\u00F3w')"
     ]
    }
   ],
   "source": [
    "# Tworzenie wykresu\n",
    "plt.figure(figsize=(10, 6))\n",
    "plt.plot(posts_timeline_pd['creation_date'], posts_timeline_pd['post_count'], linestyle='-', marker='', color='darkblue')\n",
    "plt.title(u\"Liczba post\\u00F3w na przestrzeni czasu\")\n",
    "plt.xlabel(\"Lata\")\n",
    "plt.ylabel(u\"Liczba post\\u00F3w\", name='Arial')"
   ]
  },
  {
   "cell_type": "code",
   "execution_count": 20,
   "id": "6925e093",
   "metadata": {},
   "outputs": [
    {
     "data": {
      "application/vnd.jupyter.widget-view+json": {
       "model_id": "86e5cd1d84cb4e2f8c68001bfc35d03d",
       "version_major": 2,
       "version_minor": 0
      },
      "text/plain": [
       "VBox()"
      ]
     },
     "metadata": {},
     "output_type": "display_data"
    },
    {
     "data": {
      "application/vnd.jupyter.widget-view+json": {
       "model_id": "",
       "version_major": 2,
       "version_minor": 0
      },
      "text/plain": [
       "FloatProgress(value=0.0, bar_style='info', description='Progress:', layout=Layout(height='25px', width='50%'),…"
      ]
     },
     "metadata": {},
     "output_type": "display_data"
    },
    {
     "data": {
      "image/png": "[encoded data removed]",
      "text/plain": [
       "<IPython.core.display.Image object>"
      ]
     },
     "metadata": {},
     "output_type": "display_data"
    }
   ],
   "source": [
    "# Prezentacja wykresu\n",
    "%matplot plt"
   ]
  },
  {
   "cell_type": "markdown",
   "id": "5db263a2",
   "metadata": {},
   "source": [
    "### Wnioski: \n",
    "#### Na pocz\u0105tku wykresu widoczna jest warto\u015Bć odstaj\u0105ca: mo\u017Cliwe, \u017Ce spowodowana wczytaniem skumulowanych wcze\u015Bniej danych z innej bazy. Dane charakteryzuj\u0105 się sezonowo\u015Bci\u0105."
   ]
  },
  {
   "cell_type": "markdown",
   "id": "f02b8e4e",
   "metadata": {},
   "source": [
    "## B: czas na forum (od pojawienia się u\u017Cytkownika do ostatniego posta/komentarza) 10 najd\u0142u\u017Cej aktywnych u\u017Cytkownik\u00F3w"
   ]
  },
  {
   "cell_type": "code",
   "execution_count": 21,
   "id": "42b85e58",
   "metadata": {},
   "outputs": [
    {
     "data": {
      "application/vnd.jupyter.widget-view+json": {
       "model_id": "cb4ec6e3b8b74ae18a1cfaa6e75d493e",
       "version_major": 2,
       "version_minor": 0
      },
      "text/plain": [
       "VBox()"
      ]
     },
     "metadata": {},
     "output_type": "display_data"
    },
    {
     "data": {
      "application/vnd.jupyter.widget-view+json": {
       "model_id": "",
       "version_major": 2,
       "version_minor": 0
      },
      "text/plain": [
       "FloatProgress(value=0.0, bar_style='info', description='Progress:', layout=Layout(height='25px', width='50%'),…"
      ]
     },
     "metadata": {},
     "output_type": "display_data"
    }
   ],
   "source": [
    "# Wyb\u00F3r kolumn\n",
    "users_lifetime = posts_df.select('creation_date', 'post_id', 'account_id', 'user_name')"
   ]
  },
  {
   "cell_type": "code",
   "execution_count": 22,
   "id": "030a55af",
   "metadata": {},
   "outputs": [
    {
     "data": {
      "application/vnd.jupyter.widget-view+json": {
       "model_id": "c4885d1b48ce46c38be2d9bfdc2497bb",
       "version_major": 2,
       "version_minor": 0
      },
      "text/plain": [
       "VBox()"
      ]
     },
     "metadata": {},
     "output_type": "display_data"
    },
    {
     "data": {
      "application/vnd.jupyter.widget-view+json": {
       "model_id": "",
       "version_major": 2,
       "version_minor": 0
      },
      "text/plain": [
       "FloatProgress(value=0.0, bar_style='info', description='Progress:', layout=Layout(height='25px', width='50%'),…"
      ]
     },
     "metadata": {},
     "output_type": "display_data"
    }
   ],
   "source": [
    "# Grupowanie danych\n",
    "users_lifetime = users_lifetime.groupBy('account_id', 'user_name').agg(\n",
    "    min('creation_date').alias('min_creation_date'),\n",
    "    max('creation_date').alias('max_creation_date')\n",
    ")"
   ]
  },
  {
   "cell_type": "code",
   "execution_count": 23,
   "id": "264ba2b3",
   "metadata": {},
   "outputs": [
    {
     "data": {
      "application/vnd.jupyter.widget-view+json": {
       "model_id": "f79c41e1dab04a74aa6d98585dec45e8",
       "version_major": 2,
       "version_minor": 0
      },
      "text/plain": [
       "VBox()"
      ]
     },
     "metadata": {},
     "output_type": "display_data"
    },
    {
     "data": {
      "application/vnd.jupyter.widget-view+json": {
       "model_id": "",
       "version_major": 2,
       "version_minor": 0
      },
      "text/plain": [
       "FloatProgress(value=0.0, bar_style='info', description='Progress:', layout=Layout(height='25px', width='50%'),…"
      ]
     },
     "metadata": {},
     "output_type": "display_data"
    }
   ],
   "source": [
    "# Obliczanie r\u00F3\u017Cnicy dat\n",
    "users_lifetime = users_lifetime.withColumn('date_diff', col('max_creation_date').cast('long') - col('min_creation_date').cast('long'))"
   ]
  },
  {
   "cell_type": "code",
   "execution_count": 24,
   "id": "23fc912e",
   "metadata": {},
   "outputs": [
    {
     "data": {
      "application/vnd.jupyter.widget-view+json": {
       "model_id": "6d47c300f096480fbb3bb69900cbd935",
       "version_major": 2,
       "version_minor": 0
      },
      "text/plain": [
       "VBox()"
      ]
     },
     "metadata": {},
     "output_type": "display_data"
    },
    {
     "data": {
      "application/vnd.jupyter.widget-view+json": {
       "model_id": "",
       "version_major": 2,
       "version_minor": 0
      },
      "text/plain": [
       "FloatProgress(value=0.0, bar_style='info', description='Progress:', layout=Layout(height='25px', width='50%'),…"
      ]
     },
     "metadata": {},
     "output_type": "display_data"
    }
   ],
   "source": [
    "# Sortowanie\n",
    "users_lifetime = users_lifetime.orderBy(\"date_diff\", ascending=False)"
   ]
  },
  {
   "cell_type": "code",
   "execution_count": 25,
   "id": "049b0b42",
   "metadata": {},
   "outputs": [
    {
     "data": {
      "application/vnd.jupyter.widget-view+json": {
       "model_id": "135cc0db47f14ef1a98bbb4181838a47",
       "version_major": 2,
       "version_minor": 0
      },
      "text/plain": [
       "VBox()"
      ]
     },
     "metadata": {},
     "output_type": "display_data"
    },
    {
     "data": {
      "application/vnd.jupyter.widget-view+json": {
       "model_id": "",
       "version_major": 2,
       "version_minor": 0
      },
      "text/plain": [
       "FloatProgress(value=0.0, bar_style='info', description='Progress:', layout=Layout(height='25px', width='50%'),…"
      ]
     },
     "metadata": {},
     "output_type": "display_data"
    }
   ],
   "source": [
    "# Przekonwertowanie dat\n",
    "users_lifetime = users_lifetime.withColumn(\"min_creation_date\", from_unixtime(col(\"min_creation_date\")))\n",
    "users_lifetime = users_lifetime.withColumn(\"max_creation_date\", from_unixtime(col(\"max_creation_date\")))"
   ]
  },
  {
   "cell_type": "code",
   "execution_count": 26,
   "id": "754f3b41",
   "metadata": {},
   "outputs": [
    {
     "data": {
      "application/vnd.jupyter.widget-view+json": {
       "model_id": "ec3f6c2458b742f69b8d19ed872687bd",
       "version_major": 2,
       "version_minor": 0
      },
      "text/plain": [
       "VBox()"
      ]
     },
     "metadata": {},
     "output_type": "display_data"
    },
    {
     "data": {
      "application/vnd.jupyter.widget-view+json": {
       "model_id": "",
       "version_major": 2,
       "version_minor": 0
      },
      "text/plain": [
       "FloatProgress(value=0.0, bar_style='info', description='Progress:', layout=Layout(height='25px', width='50%'),…"
      ]
     },
     "metadata": {},
     "output_type": "display_data"
    }
   ],
   "source": [
    "# Obliczenie lat aktywno\u015Bci\n",
    "users_lifetime = users_lifetime.withColumn(\"date_diff_days\", (col(\"date_diff\") / 86400).cast(\"int\"))\n",
    "users_lifetime = users_lifetime.withColumn(\"active_years\", round(col(\"date_diff_days\") / 365.0, 1))"
   ]
  },
  {
   "cell_type": "code",
   "execution_count": 27,
   "id": "7631c91c",
   "metadata": {},
   "outputs": [
    {
     "data": {
      "application/vnd.jupyter.widget-view+json": {
       "model_id": "0d33defe441243b5acd4c2a6a7b6e371",
       "version_major": 2,
       "version_minor": 0
      },
      "text/plain": [
       "VBox()"
      ]
     },
     "metadata": {},
     "output_type": "display_data"
    },
    {
     "data": {
      "application/vnd.jupyter.widget-view+json": {
       "model_id": "",
       "version_major": 2,
       "version_minor": 0
      },
      "text/plain": [
       "FloatProgress(value=0.0, bar_style='info', description='Progress:', layout=Layout(height='25px', width='50%'),…"
      ]
     },
     "metadata": {},
     "output_type": "display_data"
    },
    {
     "name": "stdout",
     "output_type": "stream",
     "text": [
      "+----------+--------------------+-------------------+-------------------+---------+--------------+------------+\n",
      "|account_id|           user_name|  min_creation_date|  max_creation_date|date_diff|date_diff_days|active_years|\n",
      "+----------+--------------------+-------------------+-------------------+---------+--------------+------------+\n",
      "|     48394|                 Joe|2010-07-09 19:33:51|2024-05-07 19:18:28|436405477|          5050|        13.8|\n",
      "|      5025|                 Rob|2010-07-22 11:02:47|2024-04-08 08:54:25|432769898|          5008|        13.7|\n",
      "|    343080|     Journeyman Geek|2010-08-08 03:43:12|2024-04-22 14:14:54|432556302|          5006|        13.7|\n",
      "|     35726|           beausmith|2010-11-14 01:36:18|2024-05-21 17:44:06|426614868|          4937|        13.5|\n",
      "|     70017|        Kate Gregory|2010-11-01 00:19:28|2024-04-19 19:37:02|424984654|          4918|        13.5|\n",
      "|     54319|    No&#39;am Newman|2010-11-23 16:26:06|2024-04-21 07:41:57|423155751|          4897|        13.4|\n",
      "|    139603|Ward - Trying Cod...|2010-07-16 19:42:45|2023-12-10 21:47:13|422935468|          4895|        13.4|\n",
      "|    266065|            rumtscho|2011-02-01 22:59:56|2024-05-23 09:45:54|419856358|          4859|        13.3|\n",
      "|     41981|       Levi Hackwith|2010-08-03 02:22:50|2023-11-10 16:13:40|418830650|          4847|        13.3|\n",
      "|     41301|            Cascabel|2010-08-08 20:13:00|2023-11-06 23:34:46|418015306|          4838|        13.3|\n",
      "|    112911|          coneslayer|2010-11-11 02:38:55|2024-02-05 14:42:03|417700988|          4834|        13.2|\n",
      "|     52354|                 Tim|2011-01-06 22:25:34|2024-03-28 04:41:32|417248158|          4829|        13.2|\n",
      "|     66296|              Nick T|2010-10-22 19:54:54|2023-12-11 18:59:53|414543899|          4797|        13.1|\n",
      "|    508043|               Carmi|2010-07-17 15:55:31|2023-08-31 12:21:40|414102369|          4792|        13.1|\n",
      "|    171975|                 PLL|2011-01-14 19:16:36|2024-01-28 15:26:56|411423020|          4761|        13.0|\n",
      "|    508342|      Nello Lucchesi|2011-04-01 17:39:05|2024-03-23 00:22:27|409473802|          4739|        13.0|\n",
      "|      4060|         Mark Ransom|2010-12-08 02:23:38|2023-11-21 03:31:53|408762495|          4731|        13.0|\n",
      "|    508057|                 Tom|2010-07-18 12:02:29|2023-06-22 17:15:15|407999566|          4722|        12.9|\n",
      "|     14882|             jcollum|2010-07-16 20:17:44|2023-06-08 20:06:01|406943297|          4709|        12.9|\n",
      "|    160835|           Lagerbaer|2010-12-20 02:41:09|2023-10-22 23:13:51|405203562|          4689|        12.8|\n",
      "+----------+--------------------+-------------------+-------------------+---------+--------------+------------+\n",
      "only showing top 20 rows"
     ]
    }
   ],
   "source": [
    "# Podgl\u0105d danych\n",
    "users_lifetime.show()"
   ]
  },
  {
   "cell_type": "code",
   "execution_count": 28,
   "id": "84268c87",
   "metadata": {},
   "outputs": [
    {
     "data": {
      "application/vnd.jupyter.widget-view+json": {
       "model_id": "16707efbd279452ebb21d28a7e7c16a2",
       "version_major": 2,
       "version_minor": 0
      },
      "text/plain": [
       "VBox()"
      ]
     },
     "metadata": {},
     "output_type": "display_data"
    },
    {
     "data": {
      "application/vnd.jupyter.widget-view+json": {
       "model_id": "",
       "version_major": 2,
       "version_minor": 0
      },
      "text/plain": [
       "FloatProgress(value=0.0, bar_style='info', description='Progress:', layout=Layout(height='25px', width='50%'),…"
      ]
     },
     "metadata": {},
     "output_type": "display_data"
    }
   ],
   "source": [
    "from pyspark.sql.functions import when\n",
    "bins = [(0, 2), (2, 4), (4, 6), (6, 8), (8, 10), (10, 12), (12, 14)]\n",
    "\n",
    "users_lifetime = users_lifetime.withColumn(\n",
    "    \"years_range\",\n",
    "    when((col(\"active_years\") >= 0) & (col(\"active_years\") < 2), \"0-2\")\n",
    "    .when((col(\"active_years\") >= 2) & (col(\"active_years\") < 4), \"2-4\")\n",
    "    .when((col(\"active_years\") >= 4) & (col(\"active_years\") < 6), \"4-6\")\n",
    "    .when((col(\"active_years\") >= 6) & (col(\"active_years\") < 8), \"6-8\")\n",
    "    .when((col(\"active_years\") >= 8) & (col(\"active_years\") < 10), \"8-10\")\n",
    "    .when((col(\"active_years\") >= 10) & (col(\"active_years\") < 12), \"10-12\")\n",
    "    .when((col(\"active_years\") >= 12) & (col(\"active_years\") < 14), \"12-14\")\n",
    ")"
   ]
  },
  {
   "cell_type": "code",
   "execution_count": 29,
   "id": "ce2631de",
   "metadata": {},
   "outputs": [
    {
     "data": {
      "application/vnd.jupyter.widget-view+json": {
       "model_id": "c80fa4c732cb419ea43df9b3d84a48c0",
       "version_major": 2,
       "version_minor": 0
      },
      "text/plain": [
       "VBox()"
      ]
     },
     "metadata": {},
     "output_type": "display_data"
    },
    {
     "data": {
      "application/vnd.jupyter.widget-view+json": {
       "model_id": "",
       "version_major": 2,
       "version_minor": 0
      },
      "text/plain": [
       "FloatProgress(value=0.0, bar_style='info', description='Progress:', layout=Layout(height='25px', width='50%'),…"
      ]
     },
     "metadata": {},
     "output_type": "display_data"
    },
    {
     "name": "stdout",
     "output_type": "stream",
     "text": [
      "+-----------+-----+----------+\n",
      "|years_range|count|percentage|\n",
      "+-----------+-----+----------+\n",
      "|        4-6|  508|      1.86|\n",
      "|        6-8|  301|       1.1|\n",
      "|        0-2|25443|     93.32|\n",
      "|      10-12|   63|      0.23|\n",
      "|       8-10|  166|      0.61|\n",
      "|        2-4|  743|      2.73|\n",
      "|      12-14|   41|      0.15|\n",
      "+-----------+-----+----------+"
     ]
    }
   ],
   "source": [
    "range_counts = users_lifetime.groupBy(\"years_range\").count()\n",
    "\n",
    "total_users = users_lifetime.count()\n",
    "range_percentages = range_counts.withColumn(\"percentage\", round((col(\"count\") / total_users) * 100, 2))\n",
    "\n",
    "\n",
    "range_percentages.orderBy(col('years_range').cast('int')).show()"
   ]
  },
  {
   "cell_type": "code",
   "execution_count": 30,
   "id": "1b4ebba1",
   "metadata": {},
   "outputs": [
    {
     "data": {
      "application/vnd.jupyter.widget-view+json": {
       "model_id": "dc5e15aee8e44cb1b1d060e0d50a71e6",
       "version_major": 2,
       "version_minor": 0
      },
      "text/plain": [
       "VBox()"
      ]
     },
     "metadata": {},
     "output_type": "display_data"
    },
    {
     "data": {
      "application/vnd.jupyter.widget-view+json": {
       "model_id": "",
       "version_major": 2,
       "version_minor": 0
      },
      "text/plain": [
       "FloatProgress(value=0.0, bar_style='info', description='Progress:', layout=Layout(height='25px', width='50%'),…"
      ]
     },
     "metadata": {},
     "output_type": "display_data"
    }
   ],
   "source": [
    "# Wyb\u00F3r top 10 u\u017Cytkownik\u00F3w\n",
    "top_10_active_users = users_lifetime.orderBy(col(\"active_years\").desc()).limit(10)"
   ]
  },
  {
   "cell_type": "code",
   "execution_count": 31,
   "id": "13e2c51c",
   "metadata": {},
   "outputs": [
    {
     "data": {
      "application/vnd.jupyter.widget-view+json": {
       "model_id": "19c56622312e423ab796474df6112bcd",
       "version_major": 2,
       "version_minor": 0
      },
      "text/plain": [
       "VBox()"
      ]
     },
     "metadata": {},
     "output_type": "display_data"
    },
    {
     "data": {
      "application/vnd.jupyter.widget-view+json": {
       "model_id": "",
       "version_major": 2,
       "version_minor": 0
      },
      "text/plain": [
       "FloatProgress(value=0.0, bar_style='info', description='Progress:', layout=Layout(height='25px', width='50%'),…"
      ]
     },
     "metadata": {},
     "output_type": "display_data"
    },
    {
     "name": "stdout",
     "output_type": "stream",
     "text": [
      "+----------+--------------------+-------------------+-------------------+---------+--------------+------------+-----------+\n",
      "|account_id|           user_name|  min_creation_date|  max_creation_date|date_diff|date_diff_days|active_years|years_range|\n",
      "+----------+--------------------+-------------------+-------------------+---------+--------------+------------+-----------+\n",
      "|     48394|                 Joe|2010-07-09 19:33:51|2024-05-07 19:18:28|436405477|          5050|        13.8|      12-14|\n",
      "|      5025|                 Rob|2010-07-22 11:02:47|2024-04-08 08:54:25|432769898|          5008|        13.7|      12-14|\n",
      "|    343080|     Journeyman Geek|2010-08-08 03:43:12|2024-04-22 14:14:54|432556302|          5006|        13.7|      12-14|\n",
      "|     70017|        Kate Gregory|2010-11-01 00:19:28|2024-04-19 19:37:02|424984654|          4918|        13.5|      12-14|\n",
      "|     35726|           beausmith|2010-11-14 01:36:18|2024-05-21 17:44:06|426614868|          4937|        13.5|      12-14|\n",
      "|     54319|    No&#39;am Newman|2010-11-23 16:26:06|2024-04-21 07:41:57|423155751|          4897|        13.4|      12-14|\n",
      "|    139603|Ward - Trying Cod...|2010-07-16 19:42:45|2023-12-10 21:47:13|422935468|          4895|        13.4|      12-14|\n",
      "|     41981|       Levi Hackwith|2010-08-03 02:22:50|2023-11-10 16:13:40|418830650|          4847|        13.3|      12-14|\n",
      "|    266065|            rumtscho|2011-02-01 22:59:56|2024-05-23 09:45:54|419856358|          4859|        13.3|      12-14|\n",
      "|     41301|            Cascabel|2010-08-08 20:13:00|2023-11-06 23:34:46|418015306|          4838|        13.3|      12-14|\n",
      "+----------+--------------------+-------------------+-------------------+---------+--------------+------------+-----------+"
     ]
    }
   ],
   "source": [
    "top_10_active_users.show()"
   ]
  },
  {
   "cell_type": "code",
   "execution_count": 32,
   "id": "67ee3e51",
   "metadata": {},
   "outputs": [
    {
     "data": {
      "application/vnd.jupyter.widget-view+json": {
       "model_id": "0e18a03f24be4e1ba465531d3f9feec9",
       "version_major": 2,
       "version_minor": 0
      },
      "text/plain": [
       "VBox()"
      ]
     },
     "metadata": {},
     "output_type": "display_data"
    },
    {
     "data": {
      "application/vnd.jupyter.widget-view+json": {
       "model_id": "",
       "version_major": 2,
       "version_minor": 0
      },
      "text/plain": [
       "FloatProgress(value=0.0, bar_style='info', description='Progress:', layout=Layout(height='25px', width='50%'),…"
      ]
     },
     "metadata": {},
     "output_type": "display_data"
    }
   ],
   "source": [
    "# Przekonwertowanie do DF Pandas\n",
    "top_10_active_users_pd = top_10_active_users.toPandas()"
   ]
  },
  {
   "cell_type": "code",
   "execution_count": 33,
   "id": "c4df8e2e",
   "metadata": {},
   "outputs": [
    {
     "data": {
      "application/vnd.jupyter.widget-view+json": {
       "model_id": "be627cbf278e4aaf8f13839213754761",
       "version_major": 2,
       "version_minor": 0
      },
      "text/plain": [
       "VBox()"
      ]
     },
     "metadata": {},
     "output_type": "display_data"
    },
    {
     "data": {
      "application/vnd.jupyter.widget-view+json": {
       "model_id": "",
       "version_major": 2,
       "version_minor": 0
      },
      "text/plain": [
       "FloatProgress(value=0.0, bar_style='info', description='Progress:', layout=Layout(height='25px', width='50%'),…"
      ]
     },
     "metadata": {},
     "output_type": "display_data"
    }
   ],
   "source": [
    "# Osie i wykres\n",
    "plt.figure(figsize=(10, 13))\n",
    "x = top_10_active_users_pd['user_name'].apply(str)\n",
    "y = top_10_active_users_pd['active_years']"
   ]
  },
  {
   "cell_type": "code",
   "execution_count": 34,
   "id": "75dcf29f",
   "metadata": {},
   "outputs": [
    {
     "data": {
      "application/vnd.jupyter.widget-view+json": {
       "model_id": "7bc7ac9d69354da6be9f73a70b8fe298",
       "version_major": 2,
       "version_minor": 0
      },
      "text/plain": [
       "VBox()"
      ]
     },
     "metadata": {},
     "output_type": "display_data"
    },
    {
     "data": {
      "application/vnd.jupyter.widget-view+json": {
       "model_id": "",
       "version_major": 2,
       "version_minor": 0
      },
      "text/plain": [
       "FloatProgress(value=0.0, bar_style='info', description='Progress:', layout=Layout(height='25px', width='50%'),…"
      ]
     },
     "metadata": {},
     "output_type": "display_data"
    }
   ],
   "source": [
    "plt.figure(figsize=(10, 8))\n",
    "plt.rc('axes', axisbelow=True)\n",
    "plt.grid(which='major', axis='y', zorder=-1.0)\n",
    "plt.bar(x, y, color='darkblue')\n",
    "plt.xlabel(u'Nazwa u\\u017Cytkownika')\n",
    "plt.ylabel(\"Lata\")\n",
    "plt.title(\"Najd\\u0142u\\u017Cej aktywni u\\u017Cytkownicy\")\n",
    "plt.xticks(rotation=90)\n",
    "plt.tight_layout()"
   ]
  },
  {
   "cell_type": "code",
   "execution_count": 35,
   "id": "62406c9d",
   "metadata": {},
   "outputs": [
    {
     "data": {
      "application/vnd.jupyter.widget-view+json": {
       "model_id": "",
       "version_major": 2,
       "version_minor": 0
      },
      "text/plain": [
       "FloatProgress(value=0.0, bar_style='info', description='Progress:', layout=Layout(height='25px', width='50%'),…"
      ]
     },
     "metadata": {},
     "output_type": "display_data"
    },
    {
     "data": {
      "image/png": "[encoded data removed]",
      "text/plain": [
       "<IPython.core.display.Image object>"
      ]
     },
     "metadata": {},
     "output_type": "display_data"
    }
   ],
   "source": [
    "%matplot plt"
   ]
  },
  {
   "cell_type": "markdown",
   "id": "348d6bcf",
   "metadata": {},
   "source": [
    "## Wnioski:\n",
    "### Najd\u0142u\u017Cej aktywni u\u017Cytkownicy publikuj\u0105 posty od blisko pocz\u0105tku istnienia forum Seasoned Advice"
   ]
  },
  {
   "cell_type": "markdown",
   "id": "52a128c7",
   "metadata": {},
   "source": [
    "## Punkt C: por\u00F3wnanie najwy\u017Cej i najni\u017Cej ocenianych pyta\u0144 (d\u0142ugo\u015Bć, tagi, liczba odpowiedzi)"
   ]
  },
  {
   "cell_type": "code",
   "execution_count": 36,
   "id": "4ec64fcd",
   "metadata": {},
   "outputs": [
    {
     "data": {
      "application/vnd.jupyter.widget-view+json": {
       "model_id": "7428579aa1444317a7550e4f63b7c967",
       "version_major": 2,
       "version_minor": 0
      },
      "text/plain": [
       "VBox()"
      ]
     },
     "metadata": {},
     "output_type": "display_data"
    },
    {
     "data": {
      "application/vnd.jupyter.widget-view+json": {
       "model_id": "",
       "version_major": 2,
       "version_minor": 0
      },
      "text/plain": [
       "FloatProgress(value=0.0, bar_style='info', description='Progress:', layout=Layout(height='25px', width='50%'),…"
      ]
     },
     "metadata": {},
     "output_type": "display_data"
    }
   ],
   "source": [
    "# Wczytanie danych\n",
    "questions_and_answers = spark.read.json('s3://raw-questions/questions.json')"
   ]
  },
  {
   "cell_type": "code",
   "execution_count": 37,
   "id": "2dd5ea11",
   "metadata": {},
   "outputs": [
    {
     "data": {
      "application/vnd.jupyter.widget-view+json": {
       "model_id": "66b86fd775ae4ef9bd956dd204c12d16",
       "version_major": 2,
       "version_minor": 0
      },
      "text/plain": [
       "VBox()"
      ]
     },
     "metadata": {},
     "output_type": "display_data"
    },
    {
     "data": {
      "application/vnd.jupyter.widget-view+json": {
       "model_id": "",
       "version_major": 2,
       "version_minor": 0
      },
      "text/plain": [
       "FloatProgress(value=0.0, bar_style='info', description='Progress:', layout=Layout(height='25px', width='50%'),…"
      ]
     },
     "metadata": {},
     "output_type": "display_data"
    }
   ],
   "source": [
    "# Oczyszczenie kolumny body ze znacznik\u00F3w tekstowych HTML, usunięcie pustych linii i niepotrzebnych bia\u0142ych znak\u00F3w\n",
    "questions_and_answers = questions_and_answers.withColumn(\"body\", regexp_replace(col(\"body\"), \"<[^>]*>\", \"\"))\n",
    "questions_and_answers = questions_and_answers.withColumn(\"body\", regexp_replace(col(\"body\"), \"\\\\s+\", \" \"))\n",
    "questions_and_answers = questions_and_answers.withColumn(\"body\", regexp_replace(col(\"body\"), \"^\\\\s+|\\\\s+$\", \"\"))"
   ]
  },
  {
   "cell_type": "code",
   "execution_count": 38,
   "id": "49764642",
   "metadata": {
    "scrolled": true
   },
   "outputs": [
    {
     "data": {
      "application/vnd.jupyter.widget-view+json": {
       "model_id": "d0040a406fac4bba8d5bf1b555a39e97",
       "version_major": 2,
       "version_minor": 0
      },
      "text/plain": [
       "VBox()"
      ]
     },
     "metadata": {},
     "output_type": "display_data"
    },
    {
     "data": {
      "application/vnd.jupyter.widget-view+json": {
       "model_id": "",
       "version_major": 2,
       "version_minor": 0
      },
      "text/plain": [
       "FloatProgress(value=0.0, bar_style='info', description='Progress:', layout=Layout(height='25px', width='50%'),…"
      ]
     },
     "metadata": {},
     "output_type": "display_data"
    }
   ],
   "source": [
    "# Wyodrębnienie osobnych kolumn spod kolumny 'answers' do nowego dataframe\n",
    "exploded_df = questions_and_answers.withColumn(\"answer\", explode(col(\"answers\")))"
   ]
  },
  {
   "cell_type": "code",
   "execution_count": 39,
   "id": "573cc764",
   "metadata": {},
   "outputs": [
    {
     "data": {
      "application/vnd.jupyter.widget-view+json": {
       "model_id": "d796721180434d6e9cb7d670ef4ec1e1",
       "version_major": 2,
       "version_minor": 0
      },
      "text/plain": [
       "VBox()"
      ]
     },
     "metadata": {},
     "output_type": "display_data"
    },
    {
     "data": {
      "application/vnd.jupyter.widget-view+json": {
       "model_id": "",
       "version_major": 2,
       "version_minor": 0
      },
      "text/plain": [
       "FloatProgress(value=0.0, bar_style='info', description='Progress:', layout=Layout(height='25px', width='50%'),…"
      ]
     },
     "metadata": {},
     "output_type": "display_data"
    }
   ],
   "source": [
    "answers = exploded_df.select(\n",
    "    col(\"answer.answer_id\").alias(\"answer_id\"),\n",
    "    col(\"answer.creation_date\").alias(\"creation_date\"),\n",
    "    col(\"answer.is_accepted\").alias(\"is_accepted\"),\n",
    "    col(\"answer.owner.user_id\").alias(\"user_id\"),\n",
    "    col(\"answer.question_id\").alias(\"question_id\"),\n",
    "    col(\"answer.score\").alias(\"score\")\n",
    ")"
   ]
  },
  {
   "cell_type": "code",
   "execution_count": 40,
   "id": "3955311a",
   "metadata": {
    "scrolled": true
   },
   "outputs": [
    {
     "data": {
      "application/vnd.jupyter.widget-view+json": {
       "model_id": "a7276936f27f4228bec8d65b92bffb18",
       "version_major": 2,
       "version_minor": 0
      },
      "text/plain": [
       "VBox()"
      ]
     },
     "metadata": {},
     "output_type": "display_data"
    },
    {
     "data": {
      "application/vnd.jupyter.widget-view+json": {
       "model_id": "",
       "version_major": 2,
       "version_minor": 0
      },
      "text/plain": [
       "FloatProgress(value=0.0, bar_style='info', description='Progress:', layout=Layout(height='25px', width='50%'),…"
      ]
     },
     "metadata": {},
     "output_type": "display_data"
    }
   ],
   "source": [
    "# usunięcie orygnalnej zagnie\u017Cd\u017Conej kolumny\n",
    "questions = questions_and_answers.drop('answers')"
   ]
  },
  {
   "cell_type": "code",
   "execution_count": 41,
   "id": "85f26001",
   "metadata": {},
   "outputs": [
    {
     "data": {
      "application/vnd.jupyter.widget-view+json": {
       "model_id": "11a88d94ef6b48259ac38169431c2502",
       "version_major": 2,
       "version_minor": 0
      },
      "text/plain": [
       "VBox()"
      ]
     },
     "metadata": {},
     "output_type": "display_data"
    },
    {
     "data": {
      "application/vnd.jupyter.widget-view+json": {
       "model_id": "",
       "version_major": 2,
       "version_minor": 0
      },
      "text/plain": [
       "FloatProgress(value=0.0, bar_style='info', description='Progress:', layout=Layout(height='25px', width='50%'),…"
      ]
     },
     "metadata": {},
     "output_type": "display_data"
    }
   ],
   "source": [
    "# rozpakowanie kolumny 'user_id' spod kolumny 'owner'\n",
    "questions = questions.withColumn('user_id', col('owner.user_id'))"
   ]
  },
  {
   "cell_type": "code",
   "execution_count": 42,
   "id": "93db3952",
   "metadata": {},
   "outputs": [
    {
     "data": {
      "application/vnd.jupyter.widget-view+json": {
       "model_id": "a52c6c4b8cd043cdb39cd5fbf72ad789",
       "version_major": 2,
       "version_minor": 0
      },
      "text/plain": [
       "VBox()"
      ]
     },
     "metadata": {},
     "output_type": "display_data"
    },
    {
     "data": {
      "application/vnd.jupyter.widget-view+json": {
       "model_id": "",
       "version_major": 2,
       "version_minor": 0
      },
      "text/plain": [
       "FloatProgress(value=0.0, bar_style='info', description='Progress:', layout=Layout(height='25px', width='50%'),…"
      ]
     },
     "metadata": {},
     "output_type": "display_data"
    }
   ],
   "source": [
    "# usunięcie oryginalnej gnie\u017Cd\u017C\u0105cej kolumny\n",
    "questions = questions.drop('owner')"
   ]
  },
  {
   "cell_type": "code",
   "execution_count": 43,
   "id": "cbba40d2",
   "metadata": {},
   "outputs": [
    {
     "data": {
      "application/vnd.jupyter.widget-view+json": {
       "model_id": "2185665b83784b748e1651a0102ac738",
       "version_major": 2,
       "version_minor": 0
      },
      "text/plain": [
       "VBox()"
      ]
     },
     "metadata": {},
     "output_type": "display_data"
    },
    {
     "data": {
      "application/vnd.jupyter.widget-view+json": {
       "model_id": "",
       "version_major": 2,
       "version_minor": 0
      },
      "text/plain": [
       "FloatProgress(value=0.0, bar_style='info', description='Progress:', layout=Layout(height='25px', width='50%'),…"
      ]
     },
     "metadata": {},
     "output_type": "display_data"
    }
   ],
   "source": [
    "# Zapisanie danych w formacie Parquet na S3\n",
    "questions.write.parquet(\"s3://questions-parquet/questions\", mode='overwrite')"
   ]
  },
  {
   "cell_type": "code",
   "execution_count": 44,
   "id": "af04ad40",
   "metadata": {},
   "outputs": [
    {
     "data": {
      "application/vnd.jupyter.widget-view+json": {
       "model_id": "d4750fd6675442dd807c5443b3613f6b",
       "version_major": 2,
       "version_minor": 0
      },
      "text/plain": [
       "VBox()"
      ]
     },
     "metadata": {},
     "output_type": "display_data"
    },
    {
     "data": {
      "application/vnd.jupyter.widget-view+json": {
       "model_id": "",
       "version_major": 2,
       "version_minor": 0
      },
      "text/plain": [
       "FloatProgress(value=0.0, bar_style='info', description='Progress:', layout=Layout(height='25px', width='50%'),…"
      ]
     },
     "metadata": {},
     "output_type": "display_data"
    }
   ],
   "source": [
    "answers.write.parquet(\"s3://answers-parquet/answers\", mode='overwrite')"
   ]
  },
  {
   "cell_type": "code",
   "execution_count": 45,
   "id": "8c8ebc23",
   "metadata": {},
   "outputs": [
    {
     "data": {
      "application/vnd.jupyter.widget-view+json": {
       "model_id": "5ebbdb58d5aa4222995a841e61b007ec",
       "version_major": 2,
       "version_minor": 0
      },
      "text/plain": [
       "VBox()"
      ]
     },
     "metadata": {},
     "output_type": "display_data"
    },
    {
     "data": {
      "application/vnd.jupyter.widget-view+json": {
       "model_id": "",
       "version_major": 2,
       "version_minor": 0
      },
      "text/plain": [
       "FloatProgress(value=0.0, bar_style='info', description='Progress:', layout=Layout(height='25px', width='50%'),…"
      ]
     },
     "metadata": {},
     "output_type": "display_data"
    }
   ],
   "source": [
    "# Wyb\u00F3r kolumn\n",
    "min_max_scores_questions = questions.select(\"question_id\", \"tags\", \"title\", \"body\", \"score\", \"answer_count\")"
   ]
  },
  {
   "cell_type": "code",
   "execution_count": 46,
   "id": "04adcab5",
   "metadata": {},
   "outputs": [
    {
     "data": {
      "application/vnd.jupyter.widget-view+json": {
       "model_id": "c67d7621e3e64af99f87e19ad80f2a24",
       "version_major": 2,
       "version_minor": 0
      },
      "text/plain": [
       "VBox()"
      ]
     },
     "metadata": {},
     "output_type": "display_data"
    },
    {
     "data": {
      "application/vnd.jupyter.widget-view+json": {
       "model_id": "",
       "version_major": 2,
       "version_minor": 0
      },
      "text/plain": [
       "FloatProgress(value=0.0, bar_style='info', description='Progress:', layout=Layout(height='25px', width='50%'),…"
      ]
     },
     "metadata": {},
     "output_type": "display_data"
    },
    {
     "name": "stdout",
     "output_type": "stream",
     "text": [
      "DataFrame[question_id: bigint, tags: array<string>, title: string, body: string, score: bigint, answer_count: bigint]"
     ]
    }
   ],
   "source": [
    "min_max_scores_questions.orderBy(col(\"score\").desc())"
   ]
  },
  {
   "cell_type": "code",
   "execution_count": 47,
   "id": "9223e352",
   "metadata": {},
   "outputs": [
    {
     "data": {
      "application/vnd.jupyter.widget-view+json": {
       "model_id": "9429e8ddbb3743e4b8e50f36b4cbcca2",
       "version_major": 2,
       "version_minor": 0
      },
      "text/plain": [
       "VBox()"
      ]
     },
     "metadata": {},
     "output_type": "display_data"
    },
    {
     "data": {
      "application/vnd.jupyter.widget-view+json": {
       "model_id": "",
       "version_major": 2,
       "version_minor": 0
      },
      "text/plain": [
       "FloatProgress(value=0.0, bar_style='info', description='Progress:', layout=Layout(height='25px', width='50%'),…"
      ]
     },
     "metadata": {},
     "output_type": "display_data"
    }
   ],
   "source": [
    "# Szeregowanie danych\n",
    "min_max_scores_questions = min_max_scores_questions.withColumn('score', col('score').cast('integer'))\n",
    "min_max_scores_questions = min_max_scores_questions.orderBy(col(\"score\").desc())"
   ]
  },
  {
   "cell_type": "code",
   "execution_count": 48,
   "id": "f9c4087f",
   "metadata": {},
   "outputs": [
    {
     "data": {
      "application/vnd.jupyter.widget-view+json": {
       "model_id": "d4cdb79e9a094ea6ad39e6637c216a9d",
       "version_major": 2,
       "version_minor": 0
      },
      "text/plain": [
       "VBox()"
      ]
     },
     "metadata": {},
     "output_type": "display_data"
    },
    {
     "data": {
      "application/vnd.jupyter.widget-view+json": {
       "model_id": "",
       "version_major": 2,
       "version_minor": 0
      },
      "text/plain": [
       "FloatProgress(value=0.0, bar_style='info', description='Progress:', layout=Layout(height='25px', width='50%'),…"
      ]
     },
     "metadata": {},
     "output_type": "display_data"
    },
    {
     "name": "stdout",
     "output_type": "stream",
     "text": [
      "+-----------+--------------------+--------------------+--------------------+-----+------------+\n",
      "|question_id|                tags|               title|                body|score|answer_count|\n",
      "+-----------+--------------------+--------------------+--------------------+-----+------------+\n",
      "|        567|[onions, knife-sk...|How can I chop on...|Onions are an exc...|  266|          21|\n",
      "|        784|[language, cultur...|Translating cooki...|This post is an a...|  210|           7|\n",
      "|       2574|[pasta, food-scie...|Why add salt to t...|What is the effec...|  178|          11|\n",
      "|      84310|      [milk, kettle]|Why would boiling...|Or: is it safe fo...|  145|           7|\n",
      "|      79674|           [chicken]|What is this colo...|I smoked a whole ...|  140|           2|\n",
      "|       4708|[equipment, fish,...|Is it possible to...|I heard that ther...|  136|           7|\n",
      "|      56418|[substitutions, f...|How can I tell th...|I received a ship...|  130|           7|\n",
      "|        267|       [meat, steak]|How do you proper...|I love steaks so ...|  123|          26|\n",
      "|        997|[eggs, scrambled-...|Why use milk in s...|I've seen many re...|  115|          13|\n",
      "|         36|[food-safety, sto...|Is it safe to lea...|Is it safe to lea...|  115|          12|\n",
      "|       2690|       [frying, oil]|Do you heat the p...|As the title says...|  114|          14|\n",
      "|       7740|[fruit, microwave...|Why did my banana...|Wow, that sounds ...|  108|           6|\n",
      "|       1260|[food-safety, pot...|Is it safe to eat...|I'm talking about...|  106|          10|\n",
      "|        895| [garlic, shortcuts]|How do you peel g...|How should I appr...|   98|          21|\n",
      "|        184| [equipment, knives]|What knives are &...|I consider myself...|   97|          13|\n",
      "|      81031|    [flavor, grapes]|Why do grape-flav...|Grapes are one of...|   96|           4|\n",
      "|       8919|[food-safety, sto...|Is it safe to put...|I heard that putt...|   96|          10|\n",
      "|      46494|[storage-method, ...|Browning Avocados...|Years ago Koobz a...|   87|           8|\n",
      "|      83219|[food-safety, bee...|Are rare burgers ...|On a recent trip ...|   85|          12|\n",
      "|        641|[cast-iron, seaso...|What&#39;s the be...|I just purchased ...|   85|          10|\n",
      "+-----------+--------------------+--------------------+--------------------+-----+------------+\n",
      "only showing top 20 rows"
     ]
    }
   ],
   "source": [
    "min_max_scores_questions.show()"
   ]
  },
  {
   "cell_type": "code",
   "execution_count": 49,
   "id": "4356cc91",
   "metadata": {},
   "outputs": [
    {
     "data": {
      "application/vnd.jupyter.widget-view+json": {
       "model_id": "31a60f2bf7d44a8993918077b7599d8c",
       "version_major": 2,
       "version_minor": 0
      },
      "text/plain": [
       "VBox()"
      ]
     },
     "metadata": {},
     "output_type": "display_data"
    },
    {
     "data": {
      "application/vnd.jupyter.widget-view+json": {
       "model_id": "",
       "version_major": 2,
       "version_minor": 0
      },
      "text/plain": [
       "FloatProgress(value=0.0, bar_style='info', description='Progress:', layout=Layout(height='25px', width='50%'),…"
      ]
     },
     "metadata": {},
     "output_type": "display_data"
    }
   ],
   "source": [
    "# Dodanie kolumny body_length na potrzeby pytania C\n",
    "min_max_scores_questions = min_max_scores_questions.withColumn(\"body_length\", length(col(\"body\")))"
   ]
  },
  {
   "cell_type": "code",
   "execution_count": 50,
   "id": "24c5bd23",
   "metadata": {},
   "outputs": [
    {
     "data": {
      "application/vnd.jupyter.widget-view+json": {
       "model_id": "bf86f22e1a0e443ca27d514097e25f4b",
       "version_major": 2,
       "version_minor": 0
      },
      "text/plain": [
       "VBox()"
      ]
     },
     "metadata": {},
     "output_type": "display_data"
    },
    {
     "data": {
      "application/vnd.jupyter.widget-view+json": {
       "model_id": "",
       "version_major": 2,
       "version_minor": 0
      },
      "text/plain": [
       "FloatProgress(value=0.0, bar_style='info', description='Progress:', layout=Layout(height='25px', width='50%'),…"
      ]
     },
     "metadata": {},
     "output_type": "display_data"
    }
   ],
   "source": [
    "best_scores = min_max_scores_questions.limit(10).orderBy('score', ascending=True)"
   ]
  },
  {
   "cell_type": "code",
   "execution_count": 51,
   "id": "09b2ea11",
   "metadata": {},
   "outputs": [
    {
     "data": {
      "application/vnd.jupyter.widget-view+json": {
       "model_id": "96397017fbd74640858bf80845f0b172",
       "version_major": 2,
       "version_minor": 0
      },
      "text/plain": [
       "VBox()"
      ]
     },
     "metadata": {},
     "output_type": "display_data"
    },
    {
     "data": {
      "application/vnd.jupyter.widget-view+json": {
       "model_id": "",
       "version_major": 2,
       "version_minor": 0
      },
      "text/plain": [
       "FloatProgress(value=0.0, bar_style='info', description='Progress:', layout=Layout(height='25px', width='50%'),…"
      ]
     },
     "metadata": {},
     "output_type": "display_data"
    }
   ],
   "source": [
    "worst_scores = min_max_scores_questions.orderBy('score', ascending=True).limit(10)"
   ]
  },
  {
   "cell_type": "code",
   "execution_count": 52,
   "id": "f481ded2",
   "metadata": {
    "scrolled": true
   },
   "outputs": [
    {
     "data": {
      "application/vnd.jupyter.widget-view+json": {
       "model_id": "4b186f9bfa5b42fda40bf37829f28795",
       "version_major": 2,
       "version_minor": 0
      },
      "text/plain": [
       "VBox()"
      ]
     },
     "metadata": {},
     "output_type": "display_data"
    },
    {
     "data": {
      "application/vnd.jupyter.widget-view+json": {
       "model_id": "",
       "version_major": 2,
       "version_minor": 0
      },
      "text/plain": [
       "FloatProgress(value=0.0, bar_style='info', description='Progress:', layout=Layout(height='25px', width='50%'),…"
      ]
     },
     "metadata": {},
     "output_type": "display_data"
    },
    {
     "name": "stdout",
     "output_type": "stream",
     "text": [
      "+-----------+--------------------+--------------------+--------------------+-----+------------+-----------+\n",
      "|question_id|                tags|               title|                body|score|answer_count|body_length|\n",
      "+-----------+--------------------+--------------------+--------------------+-----+------------+-----------+\n",
      "|      19209|      [food-science]|Do you guys know ...|They are called c...|   -9|           1|         72|\n",
      "|     113847|            [citrus]|How can even a sm...|Please see the se...|   -7|           1|        135|\n",
      "|      68490|      [flavor, salt]|If salt loses its...|I have a shaker o...|   -7|           1|        438|\n",
      "|      69137|      [oil, coconut]|How to eat coconu...|I'm having troubl...|   -7|           1|       1442|\n",
      "|      79610|    [german-cuisine]|Why are german re...|French, Italian, ...|   -7|           1|        254|\n",
      "|      32781|         [chocolate]|how to stretch wh...|I have several ba...|   -7|           1|        709|\n",
      "|      92319|            [shrimp]|Please help me un...|I cannot figure o...|   -6|           1|       1725|\n",
      "|      84242|       [lemon, lime]|What is the main ...|Lemons and limes ...|   -6|           1|         85|\n",
      "|      82767|[food-safety, sto...|how much differen...|this question out...|   -6|           1|       2123|\n",
      "|      63992|[food-safety, mic...|Microwave Food st...|I heated food in ...|   -6|           1|        193|\n",
      "+-----------+--------------------+--------------------+--------------------+-----+------------+-----------+"
     ]
    }
   ],
   "source": [
    "worst_scores.show()"
   ]
  },
  {
   "cell_type": "markdown",
   "id": "10ff62d5",
   "metadata": {},
   "source": [
    "### wykresy C_1: d\u0142ugo\u015Bć pytania vs. jego ocena"
   ]
  },
  {
   "cell_type": "markdown",
   "id": "9e542121",
   "metadata": {},
   "source": [
    "#### Najwy\u017Cej oceniane pytania"
   ]
  },
  {
   "cell_type": "code",
   "execution_count": 53,
   "id": "3509f896",
   "metadata": {},
   "outputs": [
    {
     "data": {
      "application/vnd.jupyter.widget-view+json": {
       "model_id": "94d0d78d825a493e915bfeea31fb679c",
       "version_major": 2,
       "version_minor": 0
      },
      "text/plain": [
       "VBox()"
      ]
     },
     "metadata": {},
     "output_type": "display_data"
    },
    {
     "data": {
      "application/vnd.jupyter.widget-view+json": {
       "model_id": "",
       "version_major": 2,
       "version_minor": 0
      },
      "text/plain": [
       "FloatProgress(value=0.0, bar_style='info', description='Progress:', layout=Layout(height='25px', width='50%'),…"
      ]
     },
     "metadata": {},
     "output_type": "display_data"
    }
   ],
   "source": [
    "# Wyb\u00F3r kolumn\n",
    "score_len = best_scores.select('score', 'body_length')"
   ]
  },
  {
   "cell_type": "code",
   "execution_count": 54,
   "id": "5161c62e",
   "metadata": {},
   "outputs": [
    {
     "data": {
      "application/vnd.jupyter.widget-view+json": {
       "model_id": "037be4c52006450aa1033578693952ad",
       "version_major": 2,
       "version_minor": 0
      },
      "text/plain": [
       "VBox()"
      ]
     },
     "metadata": {},
     "output_type": "display_data"
    },
    {
     "data": {
      "application/vnd.jupyter.widget-view+json": {
       "model_id": "",
       "version_major": 2,
       "version_minor": 0
      },
      "text/plain": [
       "FloatProgress(value=0.0, bar_style='info', description='Progress:', layout=Layout(height='25px', width='50%'),…"
      ]
     },
     "metadata": {},
     "output_type": "display_data"
    }
   ],
   "source": [
    "# Przekonwertowanie DF do Pandas\n",
    "score_len_pd = score_len.toPandas()"
   ]
  },
  {
   "cell_type": "code",
   "execution_count": 55,
   "id": "abcbbb9d",
   "metadata": {},
   "outputs": [
    {
     "data": {
      "application/vnd.jupyter.widget-view+json": {
       "model_id": "ef525990dfe54032854d9f5540b255b4",
       "version_major": 2,
       "version_minor": 0
      },
      "text/plain": [
       "VBox()"
      ]
     },
     "metadata": {},
     "output_type": "display_data"
    },
    {
     "data": {
      "application/vnd.jupyter.widget-view+json": {
       "model_id": "",
       "version_major": 2,
       "version_minor": 0
      },
      "text/plain": [
       "FloatProgress(value=0.0, bar_style='info', description='Progress:', layout=Layout(height='25px', width='50%'),…"
      ]
     },
     "metadata": {},
     "output_type": "display_data"
    }
   ],
   "source": [
    "# Przygotowanie danych do wykresu\n",
    "\n",
    "x = score_len_pd['score'].astype(str)\n",
    "y = score_len_pd['body_length']"
   ]
  },
  {
   "cell_type": "code",
   "execution_count": 56,
   "id": "1390cc42",
   "metadata": {},
   "outputs": [
    {
     "data": {
      "application/vnd.jupyter.widget-view+json": {
       "model_id": "1c022cf9f59f4e16845f8493f94152fc",
       "version_major": 2,
       "version_minor": 0
      },
      "text/plain": [
       "VBox()"
      ]
     },
     "metadata": {},
     "output_type": "display_data"
    },
    {
     "data": {
      "application/vnd.jupyter.widget-view+json": {
       "model_id": "",
       "version_major": 2,
       "version_minor": 0
      },
      "text/plain": [
       "FloatProgress(value=0.0, bar_style='info', description='Progress:', layout=Layout(height='25px', width='50%'),…"
      ]
     },
     "metadata": {},
     "output_type": "display_data"
    },
    {
     "name": "stdout",
     "output_type": "stream",
     "text": [
      "Text(0.0, 222.05, '222')\n",
      "Text(1.0, 501.05, '501')\n",
      "Text(2.0, 384.05, '384')\n",
      "Text(3.0, 89.05, '89')\n",
      "Text(4.0, 103.05, '103')\n",
      "Text(5.0, 744.05, '744')\n",
      "Text(6.0, 66.05, '66')\n",
      "Text(7.0, 24749.05, '24749')\n",
      "Text(8.0, 208.05, '208')"
     ]
    }
   ],
   "source": [
    "plt.figure(figsize=(12, 8))\n",
    "bars = plt.bar(x, y, color='darkblue')\n",
    "for bar in bars:\n",
    "    yval = bar.get_height()\n",
    "    if yval != 94:  # Pomijanie warto\u015Bci 94\n",
    "        plt.text(bar.get_x() + bar.get_width()/2, yval + 0.05, int(yval), ha='center', va='bottom', fontsize=10, color='black', fontweight='bold')"
   ]
  },
  {
   "cell_type": "code",
   "execution_count": 57,
   "id": "31e9f3f2",
   "metadata": {},
   "outputs": [
    {
     "data": {
      "application/vnd.jupyter.widget-view+json": {
       "model_id": "8fb31bd842144ac2a1666e5b20cd364a",
       "version_major": 2,
       "version_minor": 0
      },
      "text/plain": [
       "VBox()"
      ]
     },
     "metadata": {},
     "output_type": "display_data"
    },
    {
     "data": {
      "application/vnd.jupyter.widget-view+json": {
       "model_id": "",
       "version_major": 2,
       "version_minor": 0
      },
      "text/plain": [
       "FloatProgress(value=0.0, bar_style='info', description='Progress:', layout=Layout(height='25px', width='50%'),…"
      ]
     },
     "metadata": {},
     "output_type": "display_data"
    }
   ],
   "source": [
    "# Konfiguracja osi\n",
    "plt.xlabel('Ocena pytania')\n",
    "plt.yscale('log')\n",
    "ax = plt.gca()\n",
    "ax.yaxis.set_major_locator(LogLocator(base=10, numticks=15))\n",
    "ax.yaxis.set_major_formatter(ScalarFormatter())\n",
    "plt.ylabel(u\"Ilo\\u015B\\u0107 znak\\u00F3w (log)\")\n",
    "plt.title(u\"D\\u0142ugo\\u015B\\u0107 najwy\\u017Cej ocenionych pyta\\u0144\")\n",
    "plt.subplots_adjust(top=0.9, bottom=0.1, left=0.1, right=0.9)"
   ]
  },
  {
   "cell_type": "code",
   "execution_count": 58,
   "id": "439a9049",
   "metadata": {},
   "outputs": [
    {
     "data": {
      "application/vnd.jupyter.widget-view+json": {
       "model_id": "1242249d2817424a816d4261a605a9dd",
       "version_major": 2,
       "version_minor": 0
      },
      "text/plain": [
       "VBox()"
      ]
     },
     "metadata": {},
     "output_type": "display_data"
    },
    {
     "data": {
      "application/vnd.jupyter.widget-view+json": {
       "model_id": "",
       "version_major": 2,
       "version_minor": 0
      },
      "text/plain": [
       "FloatProgress(value=0.0, bar_style='info', description='Progress:', layout=Layout(height='25px', width='50%'),…"
      ]
     },
     "metadata": {},
     "output_type": "display_data"
    }
   ],
   "source": [
    "plt.subplots_adjust(top=0.9, bottom=0.1, left=0.1, right=0.9)"
   ]
  },
  {
   "cell_type": "markdown",
   "id": "c08eda1c",
   "metadata": {},
   "source": [
    "Komentarz: Z powodu jednej warto\u015Bci znacznie odstaj\u0105cej od pozosta\u0142ych, na osi y zosta\u0142a zastosowana skala logarytmiczna."
   ]
  },
  {
   "cell_type": "code",
   "execution_count": 59,
   "id": "ac728253",
   "metadata": {},
   "outputs": [
    {
     "data": {
      "application/vnd.jupyter.widget-view+json": {
       "model_id": "0cda12680a2141e4891234f19efb4fed",
       "version_major": 2,
       "version_minor": 0
      },
      "text/plain": [
       "VBox()"
      ]
     },
     "metadata": {},
     "output_type": "display_data"
    },
    {
     "data": {
      "application/vnd.jupyter.widget-view+json": {
       "model_id": "",
       "version_major": 2,
       "version_minor": 0
      },
      "text/plain": [
       "FloatProgress(value=0.0, bar_style='info', description='Progress:', layout=Layout(height='25px', width='50%'),…"
      ]
     },
     "metadata": {},
     "output_type": "display_data"
    },
    {
     "data": {
      "image/png": "[encoded data removed]",
      "text/plain": [
       "<IPython.core.display.Image object>"
      ]
     },
     "metadata": {},
     "output_type": "display_data"
    }
   ],
   "source": [
    "# Wykres\n",
    "%matplot plt"
   ]
  },
  {
   "cell_type": "markdown",
   "id": "2cc488f3",
   "metadata": {},
   "source": [
    "## Wnioski:\n",
    "### Większo\u015Bć z 10 najwy\u017Cej ocenianych pyta\u0144 ma od 100 do 1000 znak\u00F3w. Jedno pytanie jest niestandardowo d\u0142ugie i zosta\u0142o bardzo wysoko ocenione, jednak poniewa\u017C nie wyst\u0105pi\u0142o \u017Cadne inne pytanie podobnej d\u0142ugo\u015Bci , mo\u017Cna je uznać za wyj\u0105tek."
   ]
  },
  {
   "cell_type": "markdown",
   "id": "380d6547",
   "metadata": {},
   "source": [
    "#### Najni\u017Cej oceniane pytania"
   ]
  },
  {
   "cell_type": "code",
   "execution_count": 60,
   "id": "97b83175",
   "metadata": {},
   "outputs": [
    {
     "data": {
      "application/vnd.jupyter.widget-view+json": {
       "model_id": "3b852ac12f6b4d9a8cddf8918bb37e7c",
       "version_major": 2,
       "version_minor": 0
      },
      "text/plain": [
       "VBox()"
      ]
     },
     "metadata": {},
     "output_type": "display_data"
    },
    {
     "data": {
      "application/vnd.jupyter.widget-view+json": {
       "model_id": "",
       "version_major": 2,
       "version_minor": 0
      },
      "text/plain": [
       "FloatProgress(value=0.0, bar_style='info', description='Progress:', layout=Layout(height='25px', width='50%'),…"
      ]
     },
     "metadata": {},
     "output_type": "display_data"
    }
   ],
   "source": [
    "# Przekonwertowanie DF do Pandas\n",
    "worst_scores_pd = worst_scores.toPandas()"
   ]
  },
  {
   "cell_type": "code",
   "execution_count": 61,
   "id": "a1c98aaf",
   "metadata": {},
   "outputs": [
    {
     "data": {
      "application/vnd.jupyter.widget-view+json": {
       "model_id": "9f0b6ea7feb74e3894472c34f96a2228",
       "version_major": 2,
       "version_minor": 0
      },
      "text/plain": [
       "VBox()"
      ]
     },
     "metadata": {},
     "output_type": "display_data"
    },
    {
     "data": {
      "application/vnd.jupyter.widget-view+json": {
       "model_id": "",
       "version_major": 2,
       "version_minor": 0
      },
      "text/plain": [
       "FloatProgress(value=0.0, bar_style='info', description='Progress:', layout=Layout(height='25px', width='50%'),…"
      ]
     },
     "metadata": {},
     "output_type": "display_data"
    },
    {
     "name": "stdout",
     "output_type": "stream",
     "text": [
      "   question_id              tags  ... answer_count body_length\n",
      "0        19209    [food-science]  ...            1          72\n",
      "1       113847          [citrus]  ...            1         135\n",
      "2        68490    [flavor, salt]  ...            1         438\n",
      "3        69137    [oil, coconut]  ...            1        1442\n",
      "4        79610  [german-cuisine]  ...            1         254\n",
      "\n",
      "[5 rows x 7 columns]"
     ]
    }
   ],
   "source": [
    "worst_scores_pd.head()"
   ]
  },
  {
   "cell_type": "code",
   "execution_count": 62,
   "id": "58d180cb",
   "metadata": {
    "scrolled": true
   },
   "outputs": [
    {
     "data": {
      "application/vnd.jupyter.widget-view+json": {
       "model_id": "8d69f9707e2f4dd8b658944c28dbbf92",
       "version_major": 2,
       "version_minor": 0
      },
      "text/plain": [
       "VBox()"
      ]
     },
     "metadata": {},
     "output_type": "display_data"
    },
    {
     "data": {
      "application/vnd.jupyter.widget-view+json": {
       "model_id": "",
       "version_major": 2,
       "version_minor": 0
      },
      "text/plain": [
       "FloatProgress(value=0.0, bar_style='info', description='Progress:', layout=Layout(height='25px', width='50%'),…"
      ]
     },
     "metadata": {},
     "output_type": "display_data"
    },
    {
     "name": "stdout",
     "output_type": "stream",
     "text": [
      "Text(0.0, 72.05, '72')\n",
      "Text(1.0, 135.05, '135')\n",
      "Text(2.0, 438.05, '438')\n",
      "Text(3.0, 1442.05, '1442')\n",
      "Text(4.0, 254.05, '254')\n",
      "Text(5.0, 709.05, '709')\n",
      "Text(6.0, 1725.05, '1725')\n",
      "Text(7.0, 85.05, '85')\n",
      "Text(8.0, 2123.05, '2123')\n",
      "Text(9.0, 193.05, '193')"
     ]
    }
   ],
   "source": [
    "# Przygotowanie danych do wykresu\n",
    "\n",
    "x = worst_scores_pd.index\n",
    "y = worst_scores_pd['body_length']\n",
    "\n",
    "labels = worst_scores_pd['score'].astype(str)\n",
    "plt.figure(figsize=(14, 8))\n",
    "plt.bar(x, y, color='darkblue')\n",
    "x_labels = [f'{score}\\n(ID: {qid})' for qid, score in zip(worst_scores_pd['question_id'], worst_scores_pd['score'])]\n",
    "\n",
    "plt.xticks(ticks=x, labels=x_labels, rotation=45, ha='center')\n",
    "plt.xlabel('Ocena pytania')\n",
    "plt.ylabel(\"Ilo\\u015B\\u0107 znak\\u00F3w\")\n",
    "plt.title('D\\u0142ugo\\u015B\\u0107 najni\\u017Cej ocenionych pyta\\u0144')\n",
    "\n",
    "bars = plt.bar(x, y, color='darkblue')\n",
    "for bar in bars:\n",
    "    yval = bar.get_height()\n",
    "    plt.text(bar.get_x() + bar.get_width()/2, yval + 0.05, int(yval), ha='center', va='bottom', fontsize=10, color='black', fontweight='bold')"
   ]
  },
  {
   "cell_type": "code",
   "execution_count": 63,
   "id": "bbb1a220",
   "metadata": {},
   "outputs": [
    {
     "data": {
      "application/vnd.jupyter.widget-view+json": {
       "model_id": "e9c77f337f49433a99f197762c7a5299",
       "version_major": 2,
       "version_minor": 0
      },
      "text/plain": [
       "VBox()"
      ]
     },
     "metadata": {},
     "output_type": "display_data"
    },
    {
     "data": {
      "application/vnd.jupyter.widget-view+json": {
       "model_id": "",
       "version_major": 2,
       "version_minor": 0
      },
      "text/plain": [
       "FloatProgress(value=0.0, bar_style='info', description='Progress:', layout=Layout(height='25px', width='50%'),…"
      ]
     },
     "metadata": {},
     "output_type": "display_data"
    },
    {
     "data": {
      "image/png": "[encoded data removed]",
      "text/plain": [
       "<IPython.core.display.Image object>"
      ]
     },
     "metadata": {},
     "output_type": "display_data"
    }
   ],
   "source": [
    "# Wykres\n",
    "%matplot plt"
   ]
  },
  {
   "cell_type": "markdown",
   "id": "c2d7ab07",
   "metadata": {},
   "source": [
    "### Wykresy C_2: Liczba odpowiedzi dla najwy\u017Cej i najni\u017Cej ocenionych pyta\u0144"
   ]
  },
  {
   "cell_type": "markdown",
   "id": "dcc7f95e",
   "metadata": {},
   "source": [
    "#### Najwy\u017Cej oceniane pytania"
   ]
  },
  {
   "cell_type": "code",
   "execution_count": 64,
   "id": "4743719b",
   "metadata": {},
   "outputs": [
    {
     "data": {
      "application/vnd.jupyter.widget-view+json": {
       "model_id": "9944a0471f8a4c8d91deed97bcf3f6f0",
       "version_major": 2,
       "version_minor": 0
      },
      "text/plain": [
       "VBox()"
      ]
     },
     "metadata": {},
     "output_type": "display_data"
    },
    {
     "data": {
      "application/vnd.jupyter.widget-view+json": {
       "model_id": "",
       "version_major": 2,
       "version_minor": 0
      },
      "text/plain": [
       "FloatProgress(value=0.0, bar_style='info', description='Progress:', layout=Layout(height='25px', width='50%'),…"
      ]
     },
     "metadata": {},
     "output_type": "display_data"
    }
   ],
   "source": [
    "# Wyb\u00F3r danych do Dataframe i przekonwertowanie ze Spark DF do Pandas\n",
    "\n",
    "best_questions_and_its_answers = best_scores.select('score', 'answer_count')\n",
    "best_questions_and_its_answers_pd = best_scores.toPandas()"
   ]
  },
  {
   "cell_type": "code",
   "execution_count": 65,
   "id": "2b4edeb7",
   "metadata": {},
   "outputs": [
    {
     "data": {
      "application/vnd.jupyter.widget-view+json": {
       "model_id": "322299c4e4b04c8da0a51cd6d776a961",
       "version_major": 2,
       "version_minor": 0
      },
      "text/plain": [
       "VBox()"
      ]
     },
     "metadata": {},
     "output_type": "display_data"
    },
    {
     "data": {
      "application/vnd.jupyter.widget-view+json": {
       "model_id": "",
       "version_major": 2,
       "version_minor": 0
      },
      "text/plain": [
       "FloatProgress(value=0.0, bar_style='info', description='Progress:', layout=Layout(height='25px', width='50%'),…"
      ]
     },
     "metadata": {},
     "output_type": "display_data"
    }
   ],
   "source": [
    "# Przygotowanie danych do wykresu\n",
    "\n",
    "#x = best_questions_and_its_answers_pd.index\n",
    "y = best_questions_and_its_answers_pd.groupby('score').sum()['answer_count']\n",
    "x = best_questions_and_its_answers_pd.groupby('score').sum().index"
   ]
  },
  {
   "cell_type": "markdown",
   "id": "e5722e4f",
   "metadata": {},
   "source": [
    "Wniosek: dla najlepszych 10 ocen jest du\u017Ca r\u00F3\u017Cnica w ocenach, dlatego na wykresie odleg\u0142o\u015Bci pomiędzy s\u0142upkami s\u0105 znacznie większe"
   ]
  },
  {
   "cell_type": "code",
   "execution_count": 66,
   "id": "e6adda08",
   "metadata": {},
   "outputs": [
    {
     "data": {
      "application/vnd.jupyter.widget-view+json": {
       "model_id": "e79d5f3139e64b2da2dec8920e0a5178",
       "version_major": 2,
       "version_minor": 0
      },
      "text/plain": [
       "VBox()"
      ]
     },
     "metadata": {},
     "output_type": "display_data"
    },
    {
     "data": {
      "application/vnd.jupyter.widget-view+json": {
       "model_id": "",
       "version_major": 2,
       "version_minor": 0
      },
      "text/plain": [
       "FloatProgress(value=0.0, bar_style='info', description='Progress:', layout=Layout(height='25px', width='50%'),…"
      ]
     },
     "metadata": {},
     "output_type": "display_data"
    },
    {
     "name": "stdout",
     "output_type": "stream",
     "text": [
      "Text(0.5, 1.0, 'Liczba odpowiedzi dla najwy\u017Cej ocenionych pyta\u0144')"
     ]
    }
   ],
   "source": [
    "# Wykres\n",
    "\n",
    "plt.figure(figsize=(10, 6))\n",
    "plt.bar(x, y, color='darkblue')\n",
    "#plt.xticks(ticks=x, labels=labels)\n",
    "plt.xlabel('Ocena pytania')\n",
    "plt.ylabel(\"Liczba odpowiedzi\")\n",
    "plt.title(u\"Liczba odpowiedzi dla najwy\\u017Cej ocenionych pyta\\u0144\")"
   ]
  },
  {
   "cell_type": "code",
   "execution_count": 67,
   "id": "3db3a857",
   "metadata": {},
   "outputs": [
    {
     "data": {
      "application/vnd.jupyter.widget-view+json": {
       "model_id": "dadadc1f4a744a488d501a2e8e93fcc5",
       "version_major": 2,
       "version_minor": 0
      },
      "text/plain": [
       "VBox()"
      ]
     },
     "metadata": {},
     "output_type": "display_data"
    },
    {
     "data": {
      "application/vnd.jupyter.widget-view+json": {
       "model_id": "",
       "version_major": 2,
       "version_minor": 0
      },
      "text/plain": [
       "FloatProgress(value=0.0, bar_style='info', description='Progress:', layout=Layout(height='25px', width='50%'),…"
      ]
     },
     "metadata": {},
     "output_type": "display_data"
    },
    {
     "data": {
      "image/png": "[encoded data removed]",
      "text/plain": [
       "<IPython.core.display.Image object>"
      ]
     },
     "metadata": {},
     "output_type": "display_data"
    }
   ],
   "source": [
    "# Wykres\n",
    "%matplot plt"
   ]
  },
  {
   "cell_type": "markdown",
   "id": "17f6e5fb",
   "metadata": {},
   "source": [
    "#### Najni\u017Cej oceniane pytania"
   ]
  },
  {
   "cell_type": "code",
   "execution_count": 68,
   "id": "ba201ca3",
   "metadata": {},
   "outputs": [
    {
     "data": {
      "application/vnd.jupyter.widget-view+json": {
       "model_id": "b1e616f6ecb541d2a873c049617f34fd",
       "version_major": 2,
       "version_minor": 0
      },
      "text/plain": [
       "VBox()"
      ]
     },
     "metadata": {},
     "output_type": "display_data"
    },
    {
     "data": {
      "application/vnd.jupyter.widget-view+json": {
       "model_id": "",
       "version_major": 2,
       "version_minor": 0
      },
      "text/plain": [
       "FloatProgress(value=0.0, bar_style='info', description='Progress:', layout=Layout(height='25px', width='50%'),…"
      ]
     },
     "metadata": {},
     "output_type": "display_data"
    }
   ],
   "source": [
    "# Wyb\u00F3r danych do Dataframe i przekonwertowanie ze Spark DF do Pandas\n",
    "\n",
    "worst_questions_and_its_answers = worst_scores.select('score', 'answer_count')\n",
    "worst_questions_and_its_answers_pd = worst_questions_and_its_answers.toPandas()"
   ]
  },
  {
   "cell_type": "code",
   "execution_count": 69,
   "id": "c977c14d",
   "metadata": {},
   "outputs": [
    {
     "data": {
      "application/vnd.jupyter.widget-view+json": {
       "model_id": "fbd874c4befb44b891bbc10c57b3ecbf",
       "version_major": 2,
       "version_minor": 0
      },
      "text/plain": [
       "VBox()"
      ]
     },
     "metadata": {},
     "output_type": "display_data"
    },
    {
     "data": {
      "application/vnd.jupyter.widget-view+json": {
       "model_id": "",
       "version_major": 2,
       "version_minor": 0
      },
      "text/plain": [
       "FloatProgress(value=0.0, bar_style='info', description='Progress:', layout=Layout(height='25px', width='50%'),…"
      ]
     },
     "metadata": {},
     "output_type": "display_data"
    }
   ],
   "source": [
    "# Przygotowanie danych do wykresu\n",
    "\n",
    "#x = worst_questions_and_its_answers_pd.index \n",
    "y = worst_questions_and_its_answers_pd.groupby('score').sum()['answer_count']\n",
    "x = worst_questions_and_its_answers_pd.groupby('score').sum().index"
   ]
  },
  {
   "cell_type": "code",
   "execution_count": 70,
   "id": "457043e6",
   "metadata": {},
   "outputs": [
    {
     "data": {
      "application/vnd.jupyter.widget-view+json": {
       "model_id": "f7981b283b03462b93e72f7db05707f9",
       "version_major": 2,
       "version_minor": 0
      },
      "text/plain": [
       "VBox()"
      ]
     },
     "metadata": {},
     "output_type": "display_data"
    },
    {
     "data": {
      "application/vnd.jupyter.widget-view+json": {
       "model_id": "",
       "version_major": 2,
       "version_minor": 0
      },
      "text/plain": [
       "FloatProgress(value=0.0, bar_style='info', description='Progress:', layout=Layout(height='25px', width='50%'),…"
      ]
     },
     "metadata": {},
     "output_type": "display_data"
    }
   ],
   "source": [
    "worst_questions_and_its_answers_pd.score = worst_questions_and_its_answers_pd.score.astype(int)"
   ]
  },
  {
   "cell_type": "code",
   "execution_count": 71,
   "id": "084f0c62",
   "metadata": {},
   "outputs": [
    {
     "data": {
      "application/vnd.jupyter.widget-view+json": {
       "model_id": "9ab9cd7f1b164f4b81c4744eee49b8db",
       "version_major": 2,
       "version_minor": 0
      },
      "text/plain": [
       "VBox()"
      ]
     },
     "metadata": {},
     "output_type": "display_data"
    },
    {
     "data": {
      "application/vnd.jupyter.widget-view+json": {
       "model_id": "",
       "version_major": 2,
       "version_minor": 0
      },
      "text/plain": [
       "FloatProgress(value=0.0, bar_style='info', description='Progress:', layout=Layout(height='25px', width='50%'),…"
      ]
     },
     "metadata": {},
     "output_type": "display_data"
    },
    {
     "name": "stdout",
     "output_type": "stream",
     "text": [
      "       answer_count\n",
      "score              \n",
      "-9                1\n",
      "-7                5\n",
      "-6                4"
     ]
    }
   ],
   "source": [
    "worst_questions_and_its_answers_pd.groupby('score').sum()"
   ]
  },
  {
   "cell_type": "code",
   "execution_count": 72,
   "id": "6201575b",
   "metadata": {},
   "outputs": [
    {
     "data": {
      "application/vnd.jupyter.widget-view+json": {
       "model_id": "1b86a81b1c0b4173955648b6e746bb0c",
       "version_major": 2,
       "version_minor": 0
      },
      "text/plain": [
       "VBox()"
      ]
     },
     "metadata": {},
     "output_type": "display_data"
    },
    {
     "data": {
      "application/vnd.jupyter.widget-view+json": {
       "model_id": "",
       "version_major": 2,
       "version_minor": 0
      },
      "text/plain": [
       "FloatProgress(value=0.0, bar_style='info', description='Progress:', layout=Layout(height='25px', width='50%'),…"
      ]
     },
     "metadata": {},
     "output_type": "display_data"
    },
    {
     "name": "stdout",
     "output_type": "stream",
     "text": [
      "Text(0.5, 1.0, 'Liczba odpowiedzi dla najni\u017Cej ocenionych pyta\u0144')"
     ]
    }
   ],
   "source": [
    "# Wykres\n",
    "\n",
    "plt.figure(figsize=(10, 6))\n",
    "plt.bar(x, y, color='darkblue')\n",
    "#plt.xticks(ticks=x, labels=labels)\n",
    "plt.yticks(ticks=range(0, int(y.max()) + 1))\n",
    "plt.xlabel('Ocena pytania')\n",
    "plt.ylabel(\"Liczba odpowiedzi\")\n",
    "plt.title(\"Liczba odpowiedzi dla najni\\u017Cej ocenionych pyta\\u0144\")"
   ]
  },
  {
   "cell_type": "code",
   "execution_count": 73,
   "id": "88bbe5b3",
   "metadata": {},
   "outputs": [
    {
     "data": {
      "application/vnd.jupyter.widget-view+json": {
       "model_id": "fc1895bfb0664553817884498a66f439",
       "version_major": 2,
       "version_minor": 0
      },
      "text/plain": [
       "VBox()"
      ]
     },
     "metadata": {},
     "output_type": "display_data"
    },
    {
     "data": {
      "application/vnd.jupyter.widget-view+json": {
       "model_id": "",
       "version_major": 2,
       "version_minor": 0
      },
      "text/plain": [
       "FloatProgress(value=0.0, bar_style='info', description='Progress:', layout=Layout(height='25px', width='50%'),…"
      ]
     },
     "metadata": {},
     "output_type": "display_data"
    },
    {
     "data": {
      "image/png": "[encoded data removed]",
      "text/plain": [
       "<IPython.core.display.Image object>"
      ]
     },
     "metadata": {},
     "output_type": "display_data"
    }
   ],
   "source": [
    "# Wykres\n",
    "%matplot plt"
   ]
  },
  {
   "cell_type": "markdown",
   "id": "c11ded6d",
   "metadata": {},
   "source": [
    "### C_3: Tagi najwy\u017Cej i najni\u017Cej ocenianych pyta\u0144"
   ]
  },
  {
   "cell_type": "markdown",
   "id": "54c3d9f0",
   "metadata": {},
   "source": [
    "#### Najwy\u017Cej oceniane pytania"
   ]
  },
  {
   "cell_type": "code",
   "execution_count": 74,
   "id": "a5107b83",
   "metadata": {},
   "outputs": [
    {
     "data": {
      "application/vnd.jupyter.widget-view+json": {
       "model_id": "8d82ceda86a94675995554a7be5b5619",
       "version_major": 2,
       "version_minor": 0
      },
      "text/plain": [
       "VBox()"
      ]
     },
     "metadata": {},
     "output_type": "display_data"
    },
    {
     "data": {
      "application/vnd.jupyter.widget-view+json": {
       "model_id": "",
       "version_major": 2,
       "version_minor": 0
      },
      "text/plain": [
       "FloatProgress(value=0.0, bar_style='info', description='Progress:', layout=Layout(height='25px', width='50%'),…"
      ]
     },
     "metadata": {},
     "output_type": "display_data"
    },
    {
     "name": "stdout",
     "output_type": "stream",
     "text": [
      "+-------------------+-----+\n",
      "|                col|count|\n",
      "+-------------------+-----+\n",
      "|        food-safety|    1|\n",
      "|     storage-method|    1|\n",
      "|   storage-lifetime|    1|\n",
      "|             butter|    1|\n",
      "|               eggs|    1|\n",
      "|     scrambled-eggs|    1|\n",
      "|               meat|    1|\n",
      "|              steak|    1|\n",
      "|      substitutions|    1|\n",
      "|food-identification|    1|\n",
      "|        cut-of-meat|    1|\n",
      "|         butchering|    1|\n",
      "|             rabbit|    1|\n",
      "|          equipment|    1|\n",
      "|               fish|    1|\n",
      "|          sous-vide|    1|\n",
      "|            chicken|    1|\n",
      "|               milk|    1|\n",
      "|             kettle|    1|\n",
      "|              pasta|    1|\n",
      "+-------------------+-----+\n",
      "only showing top 20 rows"
     ]
    }
   ],
   "source": [
    "best_tags = best_scores.select(explode('tags'))\n",
    "tag_counts = best_tags.groupBy(\"col\").count()\n",
    "tag_counts.show()"
   ]
  },
  {
   "cell_type": "markdown",
   "id": "f4e4590c",
   "metadata": {},
   "source": [
    "#### Najni\u017Cej oceniane pytania"
   ]
  },
  {
   "cell_type": "code",
   "execution_count": 75,
   "id": "da354732",
   "metadata": {},
   "outputs": [
    {
     "data": {
      "application/vnd.jupyter.widget-view+json": {
       "model_id": "484ed0352a5e4e2c8ee3f0d8aa1f530e",
       "version_major": 2,
       "version_minor": 0
      },
      "text/plain": [
       "VBox()"
      ]
     },
     "metadata": {},
     "output_type": "display_data"
    },
    {
     "data": {
      "application/vnd.jupyter.widget-view+json": {
       "model_id": "",
       "version_major": 2,
       "version_minor": 0
      },
      "text/plain": [
       "FloatProgress(value=0.0, bar_style='info', description='Progress:', layout=Layout(height='25px', width='50%'),…"
      ]
     },
     "metadata": {},
     "output_type": "display_data"
    },
    {
     "name": "stdout",
     "output_type": "stream",
     "text": [
      "+--------------+-----+\n",
      "|           col|count|\n",
      "+--------------+-----+\n",
      "|  food-science|    2|\n",
      "|        citrus|    1|\n",
      "|        flavor|    1|\n",
      "|          salt|    1|\n",
      "|           oil|    1|\n",
      "|       coconut|    1|\n",
      "|german-cuisine|    1|\n",
      "|     chocolate|    1|\n",
      "|        shrimp|    1|\n",
      "|         lemon|    1|\n",
      "|          lime|    1|\n",
      "|   food-safety|    2|\n",
      "|storage-method|    1|\n",
      "|   temperature|    1|\n",
      "|  refrigerator|    1|\n",
      "|     microwave|    1|\n",
      "+--------------+-----+"
     ]
    }
   ],
   "source": [
    "worst_tags = worst_scores.select(explode('tags'))\n",
    "tag_counts_worst = worst_tags.groupBy('col').count()\n",
    "tag_counts_worst.show()"
   ]
  },
  {
   "cell_type": "markdown",
   "id": "e5051916",
   "metadata": {},
   "source": [
    "Pojedyncze tagi dla najgorszych i najlepszych pyta\u0144 - wizualizacja prezentowa\u0142aby r\u00F3wne s\u0142upki"
   ]
  },
  {
   "cell_type": "markdown",
   "id": "0cb0159d",
   "metadata": {},
   "source": [
    "## D: procent przypadk\u00F3w kiedy najwy\u017Cej oceniana odpowied\u017A to niezaakceptowana odpowied\u017A"
   ]
  },
  {
   "cell_type": "code",
   "execution_count": 76,
   "id": "0867578a",
   "metadata": {},
   "outputs": [
    {
     "data": {
      "application/vnd.jupyter.widget-view+json": {
       "model_id": "aedb54a7394b48c2b6e23e3944e4b40b",
       "version_major": 2,
       "version_minor": 0
      },
      "text/plain": [
       "VBox()"
      ]
     },
     "metadata": {},
     "output_type": "display_data"
    },
    {
     "data": {
      "application/vnd.jupyter.widget-view+json": {
       "model_id": "",
       "version_major": 2,
       "version_minor": 0
      },
      "text/plain": [
       "FloatProgress(value=0.0, bar_style='info', description='Progress:', layout=Layout(height='25px', width='50%'),…"
      ]
     },
     "metadata": {},
     "output_type": "display_data"
    },
    {
     "name": "stdout",
     "output_type": "stream",
     "text": [
      "+---------+-------------+-----------+-------+-----------+-----+\n",
      "|answer_id|creation_date|is_accepted|user_id|question_id|score|\n",
      "+---------+-------------+-----------+-------+-----------+-----+\n",
      "|     8946|   1289227283|      false|   2047|       8934|   -1|\n",
      "|     8947|   1289229299|      false|   3237|       8934|    0|\n",
      "|     8949|   1289243174|       true|   2882|       8934|   20|\n",
      "|    42592|   1394216197|      false|  23667|       8934|    8|\n",
      "|    57819|   1432764110|      false|  35811|       8934|   -1|\n",
      "|    71765|   1469827911|      false|  48398|       8934|    1|\n",
      "|   103073|   1572025419|      false|  26942|       8934|    2|\n",
      "|   125745|   1699275462|      false| 106816|       8934|   -1|\n",
      "|   128423|   1716925098|      false| 110442|       8934|    0|\n",
      "|    65887|   1453804008|      false|  20183|      65886|    8|\n",
      "|    65907|   1453836815|       true|  12565|      65886|    9|\n",
      "|    87552|   1517851411|       true|   2001|      87548|    5|\n",
      "|    87559|   1517867215|      false|  60418|      87548|   -1|\n",
      "|   128420|   1716880708|      false| 110434|      87548|   -1|\n",
      "|     5886|   1282670171|      false|    218|       5882|    0|\n",
      "|     5887|   1282670233|       true|    220|       5882|    5|\n",
      "|    76898|   1482966698|      false|  53197|       5882|    6|\n",
      "|   128419|   1716869892|      false| 110430|       5882|    1|\n",
      "|    46828|   1409700544|      false|  21513|      46820|    2|\n",
      "|   128418|   1716859236|      false| 110427|      46820|    1|\n",
      "+---------+-------------+-----------+-------+-----------+-----+\n",
      "only showing top 20 rows"
     ]
    }
   ],
   "source": [
    "answers.show()"
   ]
  },
  {
   "cell_type": "code",
   "execution_count": 77,
   "id": "c979a8c0",
   "metadata": {},
   "outputs": [
    {
     "data": {
      "application/vnd.jupyter.widget-view+json": {
       "model_id": "a37506eb45c844aca3723e657f6cbeda",
       "version_major": 2,
       "version_minor": 0
      },
      "text/plain": [
       "VBox()"
      ]
     },
     "metadata": {},
     "output_type": "display_data"
    },
    {
     "data": {
      "application/vnd.jupyter.widget-view+json": {
       "model_id": "",
       "version_major": 2,
       "version_minor": 0
      },
      "text/plain": [
       "FloatProgress(value=0.0, bar_style='info', description='Progress:', layout=Layout(height='25px', width='50%'),…"
      ]
     },
     "metadata": {},
     "output_type": "display_data"
    }
   ],
   "source": [
    "# Filtracja wierszy, gdzie is_answered to True (czyli pytanie zosta\u0142o odpowiedziane)\n",
    "answered_df = answers.filter(col(\"is_answered\") == True)"
   ]
  },
  {
   "cell_type": "code",
   "execution_count": 78,
   "id": "cbcad2c3",
   "metadata": {},
   "outputs": [
    {
     "data": {
      "application/vnd.jupyter.widget-view+json": {
       "model_id": "a2669a5a287e4948ba1c555455fe05f4",
       "version_major": 2,
       "version_minor": 0
      },
      "text/plain": [
       "VBox()"
      ]
     },
     "metadata": {},
     "output_type": "display_data"
    },
    {
     "data": {
      "application/vnd.jupyter.widget-view+json": {
       "model_id": "",
       "version_major": 2,
       "version_minor": 0
      },
      "text/plain": [
       "FloatProgress(value=0.0, bar_style='info', description='Progress:', layout=Layout(height='25px', width='50%'),…"
      ]
     },
     "metadata": {},
     "output_type": "display_data"
    }
   ],
   "source": [
    "# Znalezienie maksymalnej warto\u015Bci oceny (score) dla ka\u017Cdego id_pytania\n",
    "max_score_df = answers.groupBy(\"question_id\").agg(max(\"score\").alias(\"max_score\"))"
   ]
  },
  {
   "cell_type": "code",
   "execution_count": 79,
   "id": "0ee56e0a",
   "metadata": {},
   "outputs": [
    {
     "data": {
      "application/vnd.jupyter.widget-view+json": {
       "model_id": "e014520a1f51474ea4944531809da2a9",
       "version_major": 2,
       "version_minor": 0
      },
      "text/plain": [
       "VBox()"
      ]
     },
     "metadata": {},
     "output_type": "display_data"
    },
    {
     "data": {
      "application/vnd.jupyter.widget-view+json": {
       "model_id": "",
       "version_major": 2,
       "version_minor": 0
      },
      "text/plain": [
       "FloatProgress(value=0.0, bar_style='info', description='Progress:', layout=Layout(height='25px', width='50%'),…"
      ]
     },
     "metadata": {},
     "output_type": "display_data"
    },
    {
     "name": "stdout",
     "output_type": "stream",
     "text": [
      "+-----------+---------+\n",
      "|question_id|max_score|\n",
      "+-----------+---------+\n",
      "|       9458|       34|\n",
      "|       9460|       12|\n",
      "|       9461|        8|\n",
      "|       9476|        3|\n",
      "|       9477|        5|\n",
      "|       9480|        2|\n",
      "|       9482|        1|\n",
      "|       9491|        4|\n",
      "|       9492|        2|\n",
      "|       9494|        2|\n",
      "|       9499|       25|\n",
      "|       9501|       12|\n",
      "|       9503|       11|\n",
      "|       9507|        1|\n",
      "|       9509|        3|\n",
      "|       9510|        1|\n",
      "|       9511|       11|\n",
      "|       9515|       17|\n",
      "|       9522|       25|\n",
      "|       9526|        6|\n",
      "+-----------+---------+\n",
      "only showing top 20 rows"
     ]
    }
   ],
   "source": [
    "# Podgl\u0105d danych\n",
    "\n",
    "## + wydrukowac tablice\n",
    "max_score_df.show()"
   ]
  },
  {
   "cell_type": "code",
   "execution_count": 80,
   "id": "919bf02c",
   "metadata": {},
   "outputs": [
    {
     "data": {
      "application/vnd.jupyter.widget-view+json": {
       "model_id": "2378ca63ebc8482aac5ddd0340813d5b",
       "version_major": 2,
       "version_minor": 0
      },
      "text/plain": [
       "VBox()"
      ]
     },
     "metadata": {},
     "output_type": "display_data"
    },
    {
     "data": {
      "application/vnd.jupyter.widget-view+json": {
       "model_id": "",
       "version_major": 2,
       "version_minor": 0
      },
      "text/plain": [
       "FloatProgress(value=0.0, bar_style='info', description='Progress:', layout=Layout(height='25px', width='50%'),…"
      ]
     },
     "metadata": {},
     "output_type": "display_data"
    }
   ],
   "source": [
    "# Do\u0142\u0105czenie maksymalnej warto\u015Bci oceny do odpowiedzi\n",
    "answers_max_score_df = answers.join(max_score_df, [\"question_id\"], \"inner\")"
   ]
  },
  {
   "cell_type": "code",
   "execution_count": 81,
   "id": "e8860fbb",
   "metadata": {},
   "outputs": [
    {
     "data": {
      "application/vnd.jupyter.widget-view+json": {
       "model_id": "ec2fa3bc881f494aa66bfdd0886a024c",
       "version_major": 2,
       "version_minor": 0
      },
      "text/plain": [
       "VBox()"
      ]
     },
     "metadata": {},
     "output_type": "display_data"
    },
    {
     "data": {
      "application/vnd.jupyter.widget-view+json": {
       "model_id": "",
       "version_major": 2,
       "version_minor": 0
      },
      "text/plain": [
       "FloatProgress(value=0.0, bar_style='info', description='Progress:', layout=Layout(height='25px', width='50%'),…"
      ]
     },
     "metadata": {},
     "output_type": "display_data"
    }
   ],
   "source": [
    "# Filtracja wierszy, gdzie czy_zaakceptowana to False i ocena jest r\u00F3wna maks_ocena\n",
    "unaccepted_df = answers_max_score_df.filter((~col(\"is_accepted\")) & (col(\"score\") == col(\"max_score\")))"
   ]
  },
  {
   "cell_type": "code",
   "execution_count": 82,
   "id": "345bd7e1",
   "metadata": {},
   "outputs": [
    {
     "data": {
      "application/vnd.jupyter.widget-view+json": {
       "model_id": "0d6fd31e79354c75849542d2787f585a",
       "version_major": 2,
       "version_minor": 0
      },
      "text/plain": [
       "VBox()"
      ]
     },
     "metadata": {},
     "output_type": "display_data"
    },
    {
     "data": {
      "application/vnd.jupyter.widget-view+json": {
       "model_id": "",
       "version_major": 2,
       "version_minor": 0
      },
      "text/plain": [
       "FloatProgress(value=0.0, bar_style='info', description='Progress:', layout=Layout(height='25px', width='50%'),…"
      ]
     },
     "metadata": {},
     "output_type": "display_data"
    }
   ],
   "source": [
    "# Zliczenie wyst\u0105pie\u0144 maks_ocena dla ka\u017Cdego id_pytania\n",
    "max_scores_num_df = unaccepted_df.groupBy(\"question_id\", \"max_score\").agg(count(\"score\").alias(\"max_scores_num\"))"
   ]
  },
  {
   "cell_type": "code",
   "execution_count": 83,
   "id": "e9bf7f64",
   "metadata": {},
   "outputs": [
    {
     "data": {
      "application/vnd.jupyter.widget-view+json": {
       "model_id": "7bae82f1250d4083a45c5af0399b1c7d",
       "version_major": 2,
       "version_minor": 0
      },
      "text/plain": [
       "VBox()"
      ]
     },
     "metadata": {},
     "output_type": "display_data"
    },
    {
     "data": {
      "application/vnd.jupyter.widget-view+json": {
       "model_id": "",
       "version_major": 2,
       "version_minor": 0
      },
      "text/plain": [
       "FloatProgress(value=0.0, bar_style='info', description='Progress:', layout=Layout(height='25px', width='50%'),…"
      ]
     },
     "metadata": {},
     "output_type": "display_data"
    }
   ],
   "source": [
    "# Do\u0142\u0105czenie liczby wyst\u0105pie\u0144 maks_ocena do oryginalnego DataFrame\n",
    "unaccepted_with_max = unaccepted_df.join(max_scores_num_df, [\"question_id\", \"max_score\"], \"left_outer\")"
   ]
  },
  {
   "cell_type": "code",
   "execution_count": 84,
   "id": "75dac0a0",
   "metadata": {},
   "outputs": [
    {
     "data": {
      "application/vnd.jupyter.widget-view+json": {
       "model_id": "4bc1d03c6a8843d5b195d79ab90bcb27",
       "version_major": 2,
       "version_minor": 0
      },
      "text/plain": [
       "VBox()"
      ]
     },
     "metadata": {},
     "output_type": "display_data"
    },
    {
     "data": {
      "application/vnd.jupyter.widget-view+json": {
       "model_id": "",
       "version_major": 2,
       "version_minor": 0
      },
      "text/plain": [
       "FloatProgress(value=0.0, bar_style='info', description='Progress:', layout=Layout(height='25px', width='50%'),…"
      ]
     },
     "metadata": {},
     "output_type": "display_data"
    }
   ],
   "source": [
    "# Dodanie nowej kolumny, czy warunek jest spe\u0142niony dla danego wiersza\n",
    "conditioned_data_df = unaccepted_with_max.withColumn(\"condition_met\", expr(\"is_accepted = false AND score = max_score AND max_scores_num = 1\"))"
   ]
  },
  {
   "cell_type": "code",
   "execution_count": 85,
   "id": "9f5a067b",
   "metadata": {},
   "outputs": [
    {
     "data": {
      "application/vnd.jupyter.widget-view+json": {
       "model_id": "bdae06f703d04e3ab26e9d5c3bb46e4a",
       "version_major": 2,
       "version_minor": 0
      },
      "text/plain": [
       "VBox()"
      ]
     },
     "metadata": {},
     "output_type": "display_data"
    },
    {
     "data": {
      "application/vnd.jupyter.widget-view+json": {
       "model_id": "",
       "version_major": 2,
       "version_minor": 0
      },
      "text/plain": [
       "FloatProgress(value=0.0, bar_style='info', description='Progress:', layout=Layout(height='25px', width='50%'),…"
      ]
     },
     "metadata": {},
     "output_type": "display_data"
    }
   ],
   "source": [
    "# Filtracja DataFrame, aby zawiera\u0142 tylko wiersze, gdzie warunek jest spe\u0142niony\n",
    "result_df = conditioned_data_df.filter(col(\"condition_met\"))"
   ]
  },
  {
   "cell_type": "code",
   "execution_count": 86,
   "id": "82a362ad",
   "metadata": {},
   "outputs": [
    {
     "data": {
      "application/vnd.jupyter.widget-view+json": {
       "model_id": "358095eacef741f49430e193f92b97eb",
       "version_major": 2,
       "version_minor": 0
      },
      "text/plain": [
       "VBox()"
      ]
     },
     "metadata": {},
     "output_type": "display_data"
    },
    {
     "data": {
      "application/vnd.jupyter.widget-view+json": {
       "model_id": "",
       "version_major": 2,
       "version_minor": 0
      },
      "text/plain": [
       "FloatProgress(value=0.0, bar_style='info', description='Progress:', layout=Layout(height='25px', width='50%'),…"
      ]
     },
     "metadata": {},
     "output_type": "display_data"
    }
   ],
   "source": [
    "# Obliczenie ca\u0142kowitej liczby unikalnych odpowiedzi\n",
    "total_unique_answers = answers.select(\"answer_id\").distinct().count()"
   ]
  },
  {
   "cell_type": "code",
   "execution_count": 87,
   "id": "09c366fe",
   "metadata": {},
   "outputs": [
    {
     "data": {
      "application/vnd.jupyter.widget-view+json": {
       "model_id": "4017c3f806bc4990a7dd720b9dcb5fcd",
       "version_major": 2,
       "version_minor": 0
      },
      "text/plain": [
       "VBox()"
      ]
     },
     "metadata": {},
     "output_type": "display_data"
    },
    {
     "data": {
      "application/vnd.jupyter.widget-view+json": {
       "model_id": "",
       "version_major": 2,
       "version_minor": 0
      },
      "text/plain": [
       "FloatProgress(value=0.0, bar_style='info', description='Progress:', layout=Layout(height='25px', width='50%'),…"
      ]
     },
     "metadata": {},
     "output_type": "display_data"
    }
   ],
   "source": [
    "# Obliczenie liczby niezaakceptowanych najwy\u017Cej ocenionych odpowiedzi\n",
    "non_accepted_answers = result_df.select(\"answer_id\").distinct().count()"
   ]
  },
  {
   "cell_type": "code",
   "execution_count": 88,
   "id": "9f69a69a",
   "metadata": {},
   "outputs": [
    {
     "data": {
      "application/vnd.jupyter.widget-view+json": {
       "model_id": "9787c82236fa40fe8c575ca8f34e6c31",
       "version_major": 2,
       "version_minor": 0
      },
      "text/plain": [
       "VBox()"
      ]
     },
     "metadata": {},
     "output_type": "display_data"
    },
    {
     "data": {
      "application/vnd.jupyter.widget-view+json": {
       "model_id": "",
       "version_major": 2,
       "version_minor": 0
      },
      "text/plain": [
       "FloatProgress(value=0.0, bar_style='info', description='Progress:', layout=Layout(height='25px', width='50%'),…"
      ]
     },
     "metadata": {},
     "output_type": "display_data"
    }
   ],
   "source": [
    "# Obliczenie procentu niezaakceptowanych najwy\u017Cej ocenionych odpowiedzi\n",
    "percentage_non_accepted = (non_accepted_answers * 100) / total_unique_answers"
   ]
  },
  {
   "cell_type": "code",
   "execution_count": 89,
   "id": "086edfe2",
   "metadata": {},
   "outputs": [
    {
     "data": {
      "application/vnd.jupyter.widget-view+json": {
       "model_id": "c9f3a02192294e4a94a9422cef96f35e",
       "version_major": 2,
       "version_minor": 0
      },
      "text/plain": [
       "VBox()"
      ]
     },
     "metadata": {},
     "output_type": "display_data"
    },
    {
     "data": {
      "application/vnd.jupyter.widget-view+json": {
       "model_id": "",
       "version_major": 2,
       "version_minor": 0
      },
      "text/plain": [
       "FloatProgress(value=0.0, bar_style='info', description='Progress:', layout=Layout(height='25px', width='50%'),…"
      ]
     },
     "metadata": {},
     "output_type": "display_data"
    },
    {
     "name": "stdout",
     "output_type": "stream",
     "text": [
      "Procent przypadk?w, w kt?rych najwy?ej oceniona odpowied? to niezaakceptowana odpowied?: 21.39%"
     ]
    }
   ],
   "source": [
    "print(f\"Procent przypadk\u00F3w, w kt\u00F3rych najwy\u017Cej oceniona odpowied\u017A to niezaakceptowana odpowied\u017A: {percentage_non_accepted:.2f}%\")"
   ]
  },
  {
   "cell_type": "markdown",
   "id": "a8c90c86",
   "metadata": {},
   "source": [
    "##  E: rozk\u0142ad ocen odpowiedzi zaakceptowanych vs pozosta\u0142ych (\u015Brednia, odchylenie, minimum, maksimum)"
   ]
  },
  {
   "cell_type": "code",
   "execution_count": 90,
   "id": "f0bef5b6",
   "metadata": {},
   "outputs": [
    {
     "data": {
      "application/vnd.jupyter.widget-view+json": {
       "model_id": "7a7e83c8153c4c6897bca19cfe9f874d",
       "version_major": 2,
       "version_minor": 0
      },
      "text/plain": [
       "VBox()"
      ]
     },
     "metadata": {},
     "output_type": "display_data"
    },
    {
     "data": {
      "application/vnd.jupyter.widget-view+json": {
       "model_id": "",
       "version_major": 2,
       "version_minor": 0
      },
      "text/plain": [
       "FloatProgress(value=0.0, bar_style='info', description='Progress:', layout=Layout(height='25px', width='50%'),…"
      ]
     },
     "metadata": {},
     "output_type": "display_data"
    }
   ],
   "source": [
    "accepted_stats = answers.filter(answers[\"is_accepted\"] == True) \\\n",
    "     .agg(avg(\"score\").alias(\"mean_accepted\"),\n",
    "          stddev(\"score\").alias(\"stddev_accepted\"),\n",
    "          min(\"score\").alias(\"min_accepted\"),\n",
    "          max(\"score\").alias(\"max_accepted\")) \\\n",
    "     .collect()[0]"
   ]
  },
  {
   "cell_type": "code",
   "execution_count": 91,
   "id": "cde3a1ae",
   "metadata": {},
   "outputs": [
    {
     "data": {
      "application/vnd.jupyter.widget-view+json": {
       "model_id": "b8b6aaa3b67a4f4889a233975f889377",
       "version_major": 2,
       "version_minor": 0
      },
      "text/plain": [
       "VBox()"
      ]
     },
     "metadata": {},
     "output_type": "display_data"
    },
    {
     "data": {
      "application/vnd.jupyter.widget-view+json": {
       "model_id": "",
       "version_major": 2,
       "version_minor": 0
      },
      "text/plain": [
       "FloatProgress(value=0.0, bar_style='info', description='Progress:', layout=Layout(height='25px', width='50%'),…"
      ]
     },
     "metadata": {},
     "output_type": "display_data"
    }
   ],
   "source": [
    "not_accepted_stats = answers.filter(answers[\"is_accepted\"] != True) \\\n",
    "     .agg(avg(\"score\").alias(\"mean_not_accepted\"),\n",
    "          stddev(\"score\").alias(\"stddev_not_accepted\"),\n",
    "          min(\"score\").alias(\"min_not_accepted\"),\n",
    "          max(\"score\").alias(\"max_not_accepted\")) \\\n",
    "     .collect()[0]"
   ]
  },
  {
   "cell_type": "code",
   "execution_count": 92,
   "id": "46123c99",
   "metadata": {},
   "outputs": [
    {
     "data": {
      "application/vnd.jupyter.widget-view+json": {
       "model_id": "a5a4a94fe4644393a5a6e03552936e8a",
       "version_major": 2,
       "version_minor": 0
      },
      "text/plain": [
       "VBox()"
      ]
     },
     "metadata": {},
     "output_type": "display_data"
    },
    {
     "data": {
      "application/vnd.jupyter.widget-view+json": {
       "model_id": "",
       "version_major": 2,
       "version_minor": 0
      },
      "text/plain": [
       "FloatProgress(value=0.0, bar_style='info', description='Progress:', layout=Layout(height='25px', width='50%'),…"
      ]
     },
     "metadata": {},
     "output_type": "display_data"
    },
    {
     "name": "stdout",
     "output_type": "stream",
     "text": [
      "Rozk?ad ocen zaakceptowanych:\n",
      "?rednia: 8.029717682020802\n",
      "Odchylenie standardowe: 9.924284698264712\n",
      "Minimum: -6\n",
      "Maksimum: 210"
     ]
    }
   ],
   "source": [
    "print(\"Rozk\u0142ad ocen zaakceptowanych:\")\n",
    "print(\"\u015Arednia:\", accepted_stats[\"mean_accepted\"])\n",
    "print(\"Odchylenie standardowe:\", accepted_stats[\"stddev_accepted\"])\n",
    "print(\"Minimum:\", accepted_stats[\"min_accepted\"])\n",
    "print(\"Maksimum:\", accepted_stats[\"max_accepted\"])"
   ]
  },
  {
   "cell_type": "code",
   "execution_count": 93,
   "id": "4229f90b",
   "metadata": {},
   "outputs": [
    {
     "data": {
      "application/vnd.jupyter.widget-view+json": {
       "model_id": "ec61116c8a2e488f880b951d1829592a",
       "version_major": 2,
       "version_minor": 0
      },
      "text/plain": [
       "VBox()"
      ]
     },
     "metadata": {},
     "output_type": "display_data"
    },
    {
     "data": {
      "application/vnd.jupyter.widget-view+json": {
       "model_id": "",
       "version_major": 2,
       "version_minor": 0
      },
      "text/plain": [
       "FloatProgress(value=0.0, bar_style='info', description='Progress:', layout=Layout(height='25px', width='50%'),…"
      ]
     },
     "metadata": {},
     "output_type": "display_data"
    },
    {
     "name": "stdout",
     "output_type": "stream",
     "text": [
      "\n",
      "Rozk?ad ocen niezaakceptowanych:\n",
      "?rednia: 2.9985682624982837\n",
      "Odchylenie standardowe: 5.3348306868801245\n",
      "Minimum: -14\n",
      "Maksimum: 271"
     ]
    }
   ],
   "source": [
    "print(\"\\nRozk\u0142ad ocen niezaakceptowanych:\")\n",
    "print(\"\u015Arednia:\", not_accepted_stats[\"mean_not_accepted\"])\n",
    "print(\"Odchylenie standardowe:\", not_accepted_stats[\"stddev_not_accepted\"])\n",
    "print(\"Minimum:\", not_accepted_stats[\"min_not_accepted\"])\n",
    "print(\"Maksimum:\", not_accepted_stats[\"max_not_accepted\"])"
   ]
  },
  {
   "cell_type": "code",
   "execution_count": 94,
   "id": "5f5c1cf2",
   "metadata": {},
   "outputs": [
    {
     "data": {
      "application/vnd.jupyter.widget-view+json": {
       "model_id": "4379adf5894b4544a3baa7d3ffcf1878",
       "version_major": 2,
       "version_minor": 0
      },
      "text/plain": [
       "VBox()"
      ]
     },
     "metadata": {},
     "output_type": "display_data"
    },
    {
     "data": {
      "application/vnd.jupyter.widget-view+json": {
       "model_id": "",
       "version_major": 2,
       "version_minor": 0
      },
      "text/plain": [
       "FloatProgress(value=0.0, bar_style='info', description='Progress:', layout=Layout(height='25px', width='50%'),…"
      ]
     },
     "metadata": {},
     "output_type": "display_data"
    },
    {
     "name": "stderr",
     "output_type": "stream",
     "text": [
      "An error was encountered:\n",
      "name 'accepted_scores_below_50' is not defined\n",
      "Traceback (most recent call last):\n",
      "NameError: name 'accepted_scores_below_50' is not defined\n",
      "\n"
     ]
    }
   ],
   "source": [
    "import numpy as np\n",
    "accepted_scores = answers.filter(answers[\"is_accepted\"] == True).select(\"score\").toPandas()[\"score\"]\n",
    "not_accepted_scores = answers.filter(answers[\"is_accepted\"] != True).select(\"score\").toPandas()[\"score\"]\n",
    "accepted_scores = np.clip(accepted_scores, -6, 210)\n",
    "not_accepted_scores = np.clip(not_accepted_scores, -6, 210)\n",
    "\n",
    "accepted_scores_below_30 = accepted_scores[accepted_scores <= 50]\n",
    "not_accepted_scores_below_30 = not_accepted_scores[not_accepted_scores <= 50]\n",
    "\n",
    "plt.figure(figsize=(12, 6))\n",
    "\n",
    "# Histogram dla zaakceptowanych ocen (do 50)\n",
    "plt.subplot(1, 2, 1)\n",
    "plt.hist(accepted_scores_below_50, bins=30, edgecolor='black', color='green', alpha=0.7)\n",
    "plt.axvline(np.mean(accepted_scores_below_50), color='k', linestyle='dashed', linewidth=1)\n",
    "plt.text(np.mean(accepted_scores_below_50)*1.1, plt.ylim()[1]*0.9, f'Mean: {accepted_stats[\"mean_accepted\"]:.2f}', color='black')\n",
    "plt.title('Oceny odpowiedzi zaakceptowanych (do 50)')\n",
    "plt.xlabel('Ocena')\n",
    "plt.ylabel(u'Liczba wyst\u0105pie\\u0144')\n",
    "plt.grid(True)\n",
    "\n",
    "# Histogram dla niezaakceptowanych ocen (do 50)\n",
    "plt.subplot(1, 2, 2)\n",
    "plt.hist(not_accepted_scores_below_50, bins=30, edgecolor='black', color='red', alpha=0.7)\n",
    "plt.axvline(np.mean(not_accepted_scores_below_50), color='k', linestyle='dashed', linewidth=1)\n",
    "plt.text(np.mean(not_accepted_scores_below_50)*1.1, plt.ylim()[1]*0.9, f'Mean: {not_accepted_stats[\"mean_not_accepted\"]:.2f}')\n",
    "plt.title('Oceny odpowiedzi niezaakceptowanych (do 50)')\n",
    "plt.xlabel('Ocena')\n",
    "plt.ylabel(u'Liczba wyst\u0105pie\\u0144')\n",
    "plt.grid(True)\n",
    "\n",
    "plt.tight_layout()\n",
    "\n",
    "%matplot plt"
   ]
  },
  {
   "cell_type": "markdown",
   "id": "26cbf271",
   "metadata": {},
   "source": [
    "+ histogram "
   ]
  },
  {
   "cell_type": "markdown",
   "id": "9b2c607e",
   "metadata": {},
   "source": [
    "## F: top 3 tagi kt\u00F3re wygenerowa\u0142y najwięcej wy\u015Bwietle\u0144"
   ]
  },
  {
   "cell_type": "code",
   "execution_count": 95,
   "id": "6b1a5474",
   "metadata": {},
   "outputs": [
    {
     "data": {
      "application/vnd.jupyter.widget-view+json": {
       "model_id": "8354b190d3ff439b91c6242484cf8c98",
       "version_major": 2,
       "version_minor": 0
      },
      "text/plain": [
       "VBox()"
      ]
     },
     "metadata": {},
     "output_type": "display_data"
    },
    {
     "data": {
      "application/vnd.jupyter.widget-view+json": {
       "model_id": "",
       "version_major": 2,
       "version_minor": 0
      },
      "text/plain": [
       "FloatProgress(value=0.0, bar_style='info', description='Progress:', layout=Layout(height='25px', width='50%'),…"
      ]
     },
     "metadata": {},
     "output_type": "display_data"
    }
   ],
   "source": [
    "# Wyb\u00F3r potrzebnych kolumn z dataframe questions\n",
    "tags_df = questions.select('tags', 'view_count').orderBy('view_count')"
   ]
  },
  {
   "cell_type": "code",
   "execution_count": 96,
   "id": "96093edf",
   "metadata": {},
   "outputs": [
    {
     "data": {
      "application/vnd.jupyter.widget-view+json": {
       "model_id": "4bf08bd636134a1c8d3e773b91ef9ccd",
       "version_major": 2,
       "version_minor": 0
      },
      "text/plain": [
       "VBox()"
      ]
     },
     "metadata": {},
     "output_type": "display_data"
    },
    {
     "data": {
      "application/vnd.jupyter.widget-view+json": {
       "model_id": "",
       "version_major": 2,
       "version_minor": 0
      },
      "text/plain": [
       "FloatProgress(value=0.0, bar_style='info', description='Progress:', layout=Layout(height='25px', width='50%'),…"
      ]
     },
     "metadata": {},
     "output_type": "display_data"
    }
   ],
   "source": [
    "# Wyci\u0105gnięcie tag\u00F3w z listy\n",
    "tags_exploded = tags_df.select(explode('tags').alias('tag'), 'view_count')"
   ]
  },
  {
   "cell_type": "code",
   "execution_count": 97,
   "id": "568768e1",
   "metadata": {},
   "outputs": [
    {
     "data": {
      "application/vnd.jupyter.widget-view+json": {
       "model_id": "2162a3620fcf4adfa87a39b178016b71",
       "version_major": 2,
       "version_minor": 0
      },
      "text/plain": [
       "VBox()"
      ]
     },
     "metadata": {},
     "output_type": "display_data"
    },
    {
     "data": {
      "application/vnd.jupyter.widget-view+json": {
       "model_id": "",
       "version_major": 2,
       "version_minor": 0
      },
      "text/plain": [
       "FloatProgress(value=0.0, bar_style='info', description='Progress:', layout=Layout(height='25px', width='50%'),…"
      ]
     },
     "metadata": {},
     "output_type": "display_data"
    },
    {
     "name": "stdout",
     "output_type": "stream",
     "text": [
      "root\n",
      " |-- tag: string (nullable = true)\n",
      " |-- view_count: long (nullable = true)"
     ]
    }
   ],
   "source": [
    "# Sprawdzenie schematu i typu danych\n",
    "tags_exploded.printSchema()"
   ]
  },
  {
   "cell_type": "code",
   "execution_count": 98,
   "id": "1d7fe3bd",
   "metadata": {},
   "outputs": [
    {
     "data": {
      "application/vnd.jupyter.widget-view+json": {
       "model_id": "fd07cfb3405941eba05401827f4a0e7c",
       "version_major": 2,
       "version_minor": 0
      },
      "text/plain": [
       "VBox()"
      ]
     },
     "metadata": {},
     "output_type": "display_data"
    },
    {
     "data": {
      "application/vnd.jupyter.widget-view+json": {
       "model_id": "",
       "version_major": 2,
       "version_minor": 0
      },
      "text/plain": [
       "FloatProgress(value=0.0, bar_style='info', description='Progress:', layout=Layout(height='25px', width='50%'),…"
      ]
     },
     "metadata": {},
     "output_type": "display_data"
    }
   ],
   "source": [
    "# Zmiana formatu danych w kolumnie view_count na int\n",
    "tags_exploded = tags_exploded.withColumn(\"view_count\", col(\"view_count\").cast(\"int\"))"
   ]
  },
  {
   "cell_type": "code",
   "execution_count": 99,
   "id": "42a3a210",
   "metadata": {},
   "outputs": [
    {
     "data": {
      "application/vnd.jupyter.widget-view+json": {
       "model_id": "ed9fd0b8fe62444fa93f5f08b57b123e",
       "version_major": 2,
       "version_minor": 0
      },
      "text/plain": [
       "VBox()"
      ]
     },
     "metadata": {},
     "output_type": "display_data"
    },
    {
     "data": {
      "application/vnd.jupyter.widget-view+json": {
       "model_id": "",
       "version_major": 2,
       "version_minor": 0
      },
      "text/plain": [
       "FloatProgress(value=0.0, bar_style='info', description='Progress:', layout=Layout(height='25px', width='50%'),…"
      ]
     },
     "metadata": {},
     "output_type": "display_data"
    }
   ],
   "source": [
    "# Zgrupowanie danych po tagach i zsumowanie liczby wy\u015Bwietle\u0144\n",
    "tag_view_counts = tags_exploded.groupBy('tag').agg(sum(('view_count')).alias('view_count')).orderBy(\"view_count\", ascending=False)"
   ]
  },
  {
   "cell_type": "code",
   "execution_count": 100,
   "id": "c0655bd2",
   "metadata": {},
   "outputs": [
    {
     "data": {
      "application/vnd.jupyter.widget-view+json": {
       "model_id": "5be8a5d451ca4760af431b6682a3f7e6",
       "version_major": 2,
       "version_minor": 0
      },
      "text/plain": [
       "VBox()"
      ]
     },
     "metadata": {},
     "output_type": "display_data"
    },
    {
     "data": {
      "application/vnd.jupyter.widget-view+json": {
       "model_id": "",
       "version_major": 2,
       "version_minor": 0
      },
      "text/plain": [
       "FloatProgress(value=0.0, bar_style='info', description='Progress:', layout=Layout(height='25px', width='50%'),…"
      ]
     },
     "metadata": {},
     "output_type": "display_data"
    },
    {
     "name": "stdout",
     "output_type": "stream",
     "text": [
      "+----------------+----------+\n",
      "|             tag|view_count|\n",
      "+----------------+----------+\n",
      "|     food-safety|  58357991|\n",
      "|          baking|  35617122|\n",
      "|   substitutions|  32589352|\n",
      "|         chicken|  17472495|\n",
      "|           bread|  16093433|\n",
      "|            meat|  13747495|\n",
      "|            eggs|  13528525|\n",
      "|       equipment|  13477325|\n",
      "|  storage-method|  13180828|\n",
      "|storage-lifetime|  12888530|\n",
      "|     temperature|  11347282|\n",
      "|            oven|  10288086|\n",
      "|           pasta|   9311750|\n",
      "|    refrigerator|   9171406|\n",
      "|           sauce|   8758006|\n",
      "|            rice|   8227807|\n",
      "|            beef|   8052813|\n",
      "|          coffee|   7842555|\n",
      "|        freezing|   7695303|\n",
      "|           dough|   7437758|\n",
      "+----------------+----------+\n",
      "only showing top 20 rows"
     ]
    }
   ],
   "source": [
    "# Podgl\u0105d danych\n",
    "tag_view_counts.show()"
   ]
  },
  {
   "cell_type": "code",
   "execution_count": 101,
   "id": "79f8235e",
   "metadata": {},
   "outputs": [
    {
     "data": {
      "application/vnd.jupyter.widget-view+json": {
       "model_id": "c124f04e13fd437cb3a52ef41a2e4b32",
       "version_major": 2,
       "version_minor": 0
      },
      "text/plain": [
       "VBox()"
      ]
     },
     "metadata": {},
     "output_type": "display_data"
    },
    {
     "data": {
      "application/vnd.jupyter.widget-view+json": {
       "model_id": "",
       "version_major": 2,
       "version_minor": 0
      },
      "text/plain": [
       "FloatProgress(value=0.0, bar_style='info', description='Progress:', layout=Layout(height='25px', width='50%'),…"
      ]
     },
     "metadata": {},
     "output_type": "display_data"
    }
   ],
   "source": [
    "# Wyb\u00F3r top 3 tag\u00F3w z najwy\u017Csz\u0105 liczb\u0105 wy\u015Bwietle\u0144\n",
    "top_3_tags = tag_view_counts.limit(3)"
   ]
  },
  {
   "cell_type": "code",
   "execution_count": 102,
   "id": "d94bf54e",
   "metadata": {
    "scrolled": false
   },
   "outputs": [
    {
     "data": {
      "application/vnd.jupyter.widget-view+json": {
       "model_id": "b1a448a89f0043369b51df9014051412",
       "version_major": 2,
       "version_minor": 0
      },
      "text/plain": [
       "VBox()"
      ]
     },
     "metadata": {},
     "output_type": "display_data"
    },
    {
     "data": {
      "application/vnd.jupyter.widget-view+json": {
       "model_id": "",
       "version_major": 2,
       "version_minor": 0
      },
      "text/plain": [
       "FloatProgress(value=0.0, bar_style='info', description='Progress:', layout=Layout(height='25px', width='50%'),…"
      ]
     },
     "metadata": {},
     "output_type": "display_data"
    },
    {
     "name": "stdout",
     "output_type": "stream",
     "text": [
      "+-------------+----------+\n",
      "|          tag|view_count|\n",
      "+-------------+----------+\n",
      "|  food-safety|  58357991|\n",
      "|       baking|  35617122|\n",
      "|substitutions|  32589352|\n",
      "+-------------+----------+"
     ]
    }
   ],
   "source": [
    "# Wynik:\n",
    "top_3_tags.show()"
   ]
  },
  {
   "cell_type": "markdown",
   "id": "e48fb1f7",
   "metadata": {},
   "source": [
    "## G: liczba post\u00F3w w czasie dla ka\u017Cdego z top N tag\u00F3w (lineplot/barplot) "
   ]
  },
  {
   "cell_type": "code",
   "execution_count": 103,
   "id": "8102af75",
   "metadata": {},
   "outputs": [
    {
     "data": {
      "application/vnd.jupyter.widget-view+json": {
       "model_id": "72b051b600674a9ea748d195dda84c71",
       "version_major": 2,
       "version_minor": 0
      },
      "text/plain": [
       "VBox()"
      ]
     },
     "metadata": {},
     "output_type": "display_data"
    },
    {
     "data": {
      "application/vnd.jupyter.widget-view+json": {
       "model_id": "",
       "version_major": 2,
       "version_minor": 0
      },
      "text/plain": [
       "FloatProgress(value=0.0, bar_style='info', description='Progress:', layout=Layout(height='25px', width='50%'),…"
      ]
     },
     "metadata": {},
     "output_type": "display_data"
    }
   ],
   "source": [
    "# Wyb\u00F3r potrzebnych kolumn\n",
    "tags_in_time = questions.select('creation_date', 'tags')"
   ]
  },
  {
   "cell_type": "code",
   "execution_count": 104,
   "id": "109c60a7",
   "metadata": {},
   "outputs": [
    {
     "data": {
      "application/vnd.jupyter.widget-view+json": {
       "model_id": "4c3d8120f0454deb8d5c866eef6174de",
       "version_major": 2,
       "version_minor": 0
      },
      "text/plain": [
       "VBox()"
      ]
     },
     "metadata": {},
     "output_type": "display_data"
    },
    {
     "data": {
      "application/vnd.jupyter.widget-view+json": {
       "model_id": "",
       "version_major": 2,
       "version_minor": 0
      },
      "text/plain": [
       "FloatProgress(value=0.0, bar_style='info', description='Progress:', layout=Layout(height='25px', width='50%'),…"
      ]
     },
     "metadata": {},
     "output_type": "display_data"
    },
    {
     "name": "stdout",
     "output_type": "stream",
     "text": [
      "+-------------+--------------------+\n",
      "|creation_date|                tags|\n",
      "+-------------+--------------------+\n",
      "|   1716917390|[beef, dehydratin...|\n",
      "|   1289183621|[pasta, salt, boi...|\n",
      "|   1453803359|[food-safety, foo...|\n",
      "|   1517847516|[food-safety, fer...|\n",
      "|   1282666001| [potatoes, blender]|\n",
      "|   1409677085|  [boiling, canning]|\n",
      "|   1593125308|[food-safety, cut...|\n",
      "|   1568149736|[fermentation, ga...|\n",
      "|   1476451146|[beans, chili-pep...|\n",
      "|   1372112336|[maintenance, alu...|\n",
      "|   1716807844|[food-preservatio...|\n",
      "|   1716742872|[food-safety, coo...|\n",
      "|   1713715990|          [extracts]|\n",
      "|   1716764946|[chicken, vegetab...|\n",
      "|   1551551439|[baking, bread, y...|\n",
      "|   1716679688|  [flavor, tomatoes]|\n",
      "|   1716689366|[butter, fat, nut...|\n",
      "|   1560891180|[mixing, meringue...|\n",
      "|   1297706431|        [mayonnaise]|\n",
      "|   1716248048|[deep-frying, chi...|\n",
      "+-------------+--------------------+\n",
      "only showing top 20 rows"
     ]
    }
   ],
   "source": [
    "# Podgl\u0105d danych\n",
    "tags_in_time.show()"
   ]
  },
  {
   "cell_type": "code",
   "execution_count": 105,
   "id": "1012af09",
   "metadata": {},
   "outputs": [
    {
     "data": {
      "application/vnd.jupyter.widget-view+json": {
       "model_id": "f9953ce8ec5e449ea3bb3111cf0beea1",
       "version_major": 2,
       "version_minor": 0
      },
      "text/plain": [
       "VBox()"
      ]
     },
     "metadata": {},
     "output_type": "display_data"
    },
    {
     "data": {
      "application/vnd.jupyter.widget-view+json": {
       "model_id": "",
       "version_major": 2,
       "version_minor": 0
      },
      "text/plain": [
       "FloatProgress(value=0.0, bar_style='info', description='Progress:', layout=Layout(height='25px', width='50%'),…"
      ]
     },
     "metadata": {},
     "output_type": "display_data"
    }
   ],
   "source": [
    "# Przekonwertowanie daty z formatu EPOCH na UTC\n",
    "tags_in_time = tags_in_time.withColumn('creation_date', from_unixtime(col('creation_date')))"
   ]
  },
  {
   "cell_type": "code",
   "execution_count": 106,
   "id": "08288786",
   "metadata": {},
   "outputs": [
    {
     "data": {
      "application/vnd.jupyter.widget-view+json": {
       "model_id": "1340fd98454b4d798e5a20a576002dfc",
       "version_major": 2,
       "version_minor": 0
      },
      "text/plain": [
       "VBox()"
      ]
     },
     "metadata": {},
     "output_type": "display_data"
    },
    {
     "data": {
      "application/vnd.jupyter.widget-view+json": {
       "model_id": "",
       "version_major": 2,
       "version_minor": 0
      },
      "text/plain": [
       "FloatProgress(value=0.0, bar_style='info', description='Progress:', layout=Layout(height='25px', width='50%'),…"
      ]
     },
     "metadata": {},
     "output_type": "display_data"
    }
   ],
   "source": [
    "# Zmiana formatu z YYYY-MM-DD na YYYY-MM\n",
    "tags_in_time = tags_in_time.withColumn(\"creation_date\", date_format(\"creation_date\", \"yyyy-MM\"))"
   ]
  },
  {
   "cell_type": "code",
   "execution_count": 107,
   "id": "53bd4944",
   "metadata": {},
   "outputs": [
    {
     "data": {
      "application/vnd.jupyter.widget-view+json": {
       "model_id": "9e4ba49cbde6492fa422429baef77d2b",
       "version_major": 2,
       "version_minor": 0
      },
      "text/plain": [
       "VBox()"
      ]
     },
     "metadata": {},
     "output_type": "display_data"
    },
    {
     "data": {
      "application/vnd.jupyter.widget-view+json": {
       "model_id": "",
       "version_major": 2,
       "version_minor": 0
      },
      "text/plain": [
       "FloatProgress(value=0.0, bar_style='info', description='Progress:', layout=Layout(height='25px', width='50%'),…"
      ]
     },
     "metadata": {},
     "output_type": "display_data"
    },
    {
     "name": "stdout",
     "output_type": "stream",
     "text": [
      "+-------------+--------------------+\n",
      "|creation_date|                tags|\n",
      "+-------------+--------------------+\n",
      "|      2024-05|[beef, dehydratin...|\n",
      "|      2010-11|[pasta, salt, boi...|\n",
      "|      2016-01|[food-safety, foo...|\n",
      "|      2018-02|[food-safety, fer...|\n",
      "|      2010-08| [potatoes, blender]|\n",
      "|      2014-09|  [boiling, canning]|\n",
      "|      2020-06|[food-safety, cut...|\n",
      "|      2019-09|[fermentation, ga...|\n",
      "|      2016-10|[beans, chili-pep...|\n",
      "|      2013-06|[maintenance, alu...|\n",
      "|      2024-05|[food-preservatio...|\n",
      "|      2024-05|[food-safety, coo...|\n",
      "|      2024-04|          [extracts]|\n",
      "|      2024-05|[chicken, vegetab...|\n",
      "|      2019-03|[baking, bread, y...|\n",
      "|      2024-05|  [flavor, tomatoes]|\n",
      "|      2024-05|[butter, fat, nut...|\n",
      "|      2019-06|[mixing, meringue...|\n",
      "|      2011-02|        [mayonnaise]|\n",
      "|      2024-05|[deep-frying, chi...|\n",
      "+-------------+--------------------+\n",
      "only showing top 20 rows"
     ]
    }
   ],
   "source": [
    "# Podgl\u0105d danych\n",
    "tags_in_time.show()"
   ]
  },
  {
   "cell_type": "code",
   "execution_count": 108,
   "id": "0c8dbb3f",
   "metadata": {},
   "outputs": [
    {
     "data": {
      "application/vnd.jupyter.widget-view+json": {
       "model_id": "fc07fa402067419c8ac59f0775deeecb",
       "version_major": 2,
       "version_minor": 0
      },
      "text/plain": [
       "VBox()"
      ]
     },
     "metadata": {},
     "output_type": "display_data"
    },
    {
     "data": {
      "application/vnd.jupyter.widget-view+json": {
       "model_id": "",
       "version_major": 2,
       "version_minor": 0
      },
      "text/plain": [
       "FloatProgress(value=0.0, bar_style='info', description='Progress:', layout=Layout(height='25px', width='50%'),…"
      ]
     },
     "metadata": {},
     "output_type": "display_data"
    }
   ],
   "source": [
    "# Wyci\u0105gnięcie tag\u00F3w z listy w kolumnie tags\n",
    "tags_in_time = tags_in_time.select('creation_date', explode('tags').alias('tag'))"
   ]
  },
  {
   "cell_type": "code",
   "execution_count": 109,
   "id": "0e743060",
   "metadata": {},
   "outputs": [
    {
     "data": {
      "application/vnd.jupyter.widget-view+json": {
       "model_id": "2cd6a03807974da1843e25a35e258275",
       "version_major": 2,
       "version_minor": 0
      },
      "text/plain": [
       "VBox()"
      ]
     },
     "metadata": {},
     "output_type": "display_data"
    },
    {
     "data": {
      "application/vnd.jupyter.widget-view+json": {
       "model_id": "",
       "version_major": 2,
       "version_minor": 0
      },
      "text/plain": [
       "FloatProgress(value=0.0, bar_style='info', description='Progress:', layout=Layout(height='25px', width='50%'),…"
      ]
     },
     "metadata": {},
     "output_type": "display_data"
    }
   ],
   "source": [
    "# Filtrowanie danych po tagach z dataframe'u top_3_tags \n",
    "unique_tags = [row[\"tag\"] for row in top_3_tags.select(\"tag\").collect()]\n",
    "tags_in_time = tags_in_time.filter(col(\"tag\").isin(unique_tags))"
   ]
  },
  {
   "cell_type": "code",
   "execution_count": 110,
   "id": "0bccc444",
   "metadata": {},
   "outputs": [
    {
     "data": {
      "application/vnd.jupyter.widget-view+json": {
       "model_id": "7253114049cf44078d53f3b32502acca",
       "version_major": 2,
       "version_minor": 0
      },
      "text/plain": [
       "VBox()"
      ]
     },
     "metadata": {},
     "output_type": "display_data"
    },
    {
     "data": {
      "application/vnd.jupyter.widget-view+json": {
       "model_id": "",
       "version_major": 2,
       "version_minor": 0
      },
      "text/plain": [
       "FloatProgress(value=0.0, bar_style='info', description='Progress:', layout=Layout(height='25px', width='50%'),…"
      ]
     },
     "metadata": {},
     "output_type": "display_data"
    }
   ],
   "source": [
    "# Grupowanie danych i zliczenie występowania taga w danym miesi\u0105cu w kolumnie post_count\n",
    "tags_in_time = tags_in_time.groupBy(\"creation_date\", \"tag\").agg(count(\"tag\").alias(\"post_count\"))"
   ]
  },
  {
   "cell_type": "code",
   "execution_count": 111,
   "id": "f5c4c599",
   "metadata": {},
   "outputs": [
    {
     "data": {
      "application/vnd.jupyter.widget-view+json": {
       "model_id": "60277b9492f9430ebecb28d295578d65",
       "version_major": 2,
       "version_minor": 0
      },
      "text/plain": [
       "VBox()"
      ]
     },
     "metadata": {},
     "output_type": "display_data"
    },
    {
     "data": {
      "application/vnd.jupyter.widget-view+json": {
       "model_id": "",
       "version_major": 2,
       "version_minor": 0
      },
      "text/plain": [
       "FloatProgress(value=0.0, bar_style='info', description='Progress:', layout=Layout(height='25px', width='50%'),…"
      ]
     },
     "metadata": {},
     "output_type": "display_data"
    },
    {
     "name": "stdout",
     "output_type": "stream",
     "text": [
      "+-------------+-------------+----------+\n",
      "|creation_date|          tag|post_count|\n",
      "+-------------+-------------+----------+\n",
      "|      2011-09|substitutions|        15|\n",
      "|      2017-03|  food-safety|        14|\n",
      "|      2022-09|       baking|         7|\n",
      "|      2013-10|       baking|        19|\n",
      "|      2016-04|  food-safety|        18|\n",
      "|      2018-08|       baking|        13|\n",
      "|      2022-07|  food-safety|         7|\n",
      "|      2019-05|       baking|        12|\n",
      "|      2015-12|  food-safety|        14|\n",
      "|      2016-11|substitutions|        12|\n",
      "|      2018-04|  food-safety|        14|\n",
      "|      2019-09|       baking|        14|\n",
      "|      2016-08|substitutions|        11|\n",
      "|      2011-07|  food-safety|        11|\n",
      "|      2022-08|  food-safety|        14|\n",
      "|      2022-04|  food-safety|         7|\n",
      "|      2023-04|       baking|         6|\n",
      "|      2020-11|  food-safety|         9|\n",
      "|      2020-03|substitutions|        11|\n",
      "|      2014-08|  food-safety|        15|\n",
      "+-------------+-------------+----------+\n",
      "only showing top 20 rows"
     ]
    }
   ],
   "source": [
    "# Podgl\u0105d danych\n",
    "tags_in_time.show()"
   ]
  },
  {
   "cell_type": "code",
   "execution_count": 112,
   "id": "1c1b6b5f",
   "metadata": {},
   "outputs": [
    {
     "data": {
      "application/vnd.jupyter.widget-view+json": {
       "model_id": "5d946c9c873e47a78e75cf185c034722",
       "version_major": 2,
       "version_minor": 0
      },
      "text/plain": [
       "VBox()"
      ]
     },
     "metadata": {},
     "output_type": "display_data"
    },
    {
     "data": {
      "application/vnd.jupyter.widget-view+json": {
       "model_id": "",
       "version_major": 2,
       "version_minor": 0
      },
      "text/plain": [
       "FloatProgress(value=0.0, bar_style='info', description='Progress:', layout=Layout(height='25px', width='50%'),…"
      ]
     },
     "metadata": {},
     "output_type": "display_data"
    }
   ],
   "source": [
    "# Zamiana dataframe na Pandas\n",
    "tags_in_time_pd = tags_in_time.toPandas()"
   ]
  },
  {
   "cell_type": "code",
   "execution_count": 113,
   "id": "ef12bbc8",
   "metadata": {},
   "outputs": [
    {
     "data": {
      "application/vnd.jupyter.widget-view+json": {
       "model_id": "f1a6fe89dcc448b98ae934c4211e2aaf",
       "version_major": 2,
       "version_minor": 0
      },
      "text/plain": [
       "VBox()"
      ]
     },
     "metadata": {},
     "output_type": "display_data"
    },
    {
     "data": {
      "application/vnd.jupyter.widget-view+json": {
       "model_id": "",
       "version_major": 2,
       "version_minor": 0
      },
      "text/plain": [
       "FloatProgress(value=0.0, bar_style='info', description='Progress:', layout=Layout(height='25px', width='50%'),…"
      ]
     },
     "metadata": {},
     "output_type": "display_data"
    }
   ],
   "source": [
    "# Przekszta\u0142cenie dataframe za pomoc\u0105 funkcji pivot\n",
    "pivoted_tags_in_time_pd = tags_in_time_pd.pivot(index=\"creation_date\", columns=\"tag\", values=\"post_count\").fillna(0)"
   ]
  },
  {
   "cell_type": "code",
   "execution_count": 114,
   "id": "8a787de6",
   "metadata": {},
   "outputs": [
    {
     "data": {
      "application/vnd.jupyter.widget-view+json": {
       "model_id": "2ad841cbb04d4c638eedae5cad83c902",
       "version_major": 2,
       "version_minor": 0
      },
      "text/plain": [
       "VBox()"
      ]
     },
     "metadata": {},
     "output_type": "display_data"
    },
    {
     "data": {
      "application/vnd.jupyter.widget-view+json": {
       "model_id": "",
       "version_major": 2,
       "version_minor": 0
      },
      "text/plain": [
       "FloatProgress(value=0.0, bar_style='info', description='Progress:', layout=Layout(height='25px', width='50%'),…"
      ]
     },
     "metadata": {},
     "output_type": "display_data"
    }
   ],
   "source": [
    "pivoted_tags_in_time_pd = pivoted_tags_in_time_pd.sort_index()"
   ]
  },
  {
   "cell_type": "code",
   "execution_count": 115,
   "id": "322f31c3",
   "metadata": {},
   "outputs": [
    {
     "data": {
      "application/vnd.jupyter.widget-view+json": {
       "model_id": "fc18d48cee9446c9b0732c38d2dc3216",
       "version_major": 2,
       "version_minor": 0
      },
      "text/plain": [
       "VBox()"
      ]
     },
     "metadata": {},
     "output_type": "display_data"
    },
    {
     "data": {
      "application/vnd.jupyter.widget-view+json": {
       "model_id": "",
       "version_major": 2,
       "version_minor": 0
      },
      "text/plain": [
       "FloatProgress(value=0.0, bar_style='info', description='Progress:', layout=Layout(height='25px', width='50%'),…"
      ]
     },
     "metadata": {},
     "output_type": "display_data"
    },
    {
     "name": "stdout",
     "output_type": "stream",
     "text": [
      "<Figure size 1400x800 with 0 Axes>"
     ]
    }
   ],
   "source": [
    "# Ustawienie rozmiaru wykresu\n",
    "plt.figure(figsize=(14, 8))"
   ]
  },
  {
   "cell_type": "code",
   "execution_count": 116,
   "id": "ce65e371",
   "metadata": {},
   "outputs": [
    {
     "data": {
      "application/vnd.jupyter.widget-view+json": {
       "model_id": "13f3080dfb3442948b78b5a35343d668",
       "version_major": 2,
       "version_minor": 0
      },
      "text/plain": [
       "VBox()"
      ]
     },
     "metadata": {},
     "output_type": "display_data"
    },
    {
     "data": {
      "application/vnd.jupyter.widget-view+json": {
       "model_id": "",
       "version_major": 2,
       "version_minor": 0
      },
      "text/plain": [
       "FloatProgress(value=0.0, bar_style='info', description='Progress:', layout=Layout(height='25px', width='50%'),…"
      ]
     },
     "metadata": {},
     "output_type": "display_data"
    }
   ],
   "source": [
    "# Tworzenie wykresu\n",
    "pivoted_tags_in_time_pd.plot(kind='line', marker='')\n",
    "plt.title(u'Liczba post\\u00F3w dla ka\\u017Cdego taga w danym miesi\\u0105cu')\n",
    "plt.xlabel('Data')\n",
    "plt.ylabel('Liczba post\\u00F3w')\n",
    "plt.xticks(rotation=45)\n",
    "plt.legend(title='Tagi')\n",
    "plt.grid(True)\n",
    "plt.tight_layout()"
   ]
  },
  {
   "cell_type": "code",
   "execution_count": 117,
   "id": "7d9ffac7",
   "metadata": {
    "scrolled": true
   },
   "outputs": [
    {
     "data": {
      "application/vnd.jupyter.widget-view+json": {
       "model_id": "30d9da0d50c441788c764519857b5ee6",
       "version_major": 2,
       "version_minor": 0
      },
      "text/plain": [
       "VBox()"
      ]
     },
     "metadata": {},
     "output_type": "display_data"
    },
    {
     "data": {
      "application/vnd.jupyter.widget-view+json": {
       "model_id": "",
       "version_major": 2,
       "version_minor": 0
      },
      "text/plain": [
       "FloatProgress(value=0.0, bar_style='info', description='Progress:', layout=Layout(height='25px', width='50%'),…"
      ]
     },
     "metadata": {},
     "output_type": "display_data"
    },
    {
     "data": {
      "image/png": "[encoded data removed]",
      "text/plain": [
       "<IPython.core.display.Image object>"
      ]
     },
     "metadata": {},
     "output_type": "display_data"
    }
   ],
   "source": [
    "# Wykres\n",
    "%matplot plt"
   ]
  },
  {
   "cell_type": "markdown",
   "id": "b9b9d500",
   "metadata": {},
   "source": [
    "Wysokie warto\u015Bci na poczatku wykresu moga swiadczyc o skumulowanych danych z poprzednich okresow, b\u0105d\u017C mog\u0105 być anomali\u0105. Dane maj\u0105 lekki charakter sezonowy: posty z konkretnych tag\u00F3w pojawia\u0142y się w zbli\u017Conych odstępach czasowych, co moze być zwi\u0105zane np. z okresem \u015Bwi\u0105tecznym."
   ]
  },
  {
   "cell_type": "markdown",
   "id": "af695626",
   "metadata": {},
   "source": [
    "## H. Najczę\u015Bciej pojawiaj\u0105ce się s\u0142owa w tytu\u0142ach (z pominięciem stopwords)"
   ]
  },
  {
   "cell_type": "code",
   "execution_count": 118,
   "id": "9a9b428b",
   "metadata": {},
   "outputs": [
    {
     "data": {
      "application/vnd.jupyter.widget-view+json": {
       "model_id": "cf8566783cb8446eab8c9208bc907ba0",
       "version_major": 2,
       "version_minor": 0
      },
      "text/plain": [
       "VBox()"
      ]
     },
     "metadata": {},
     "output_type": "display_data"
    },
    {
     "data": {
      "application/vnd.jupyter.widget-view+json": {
       "model_id": "",
       "version_major": 2,
       "version_minor": 0
      },
      "text/plain": [
       "FloatProgress(value=0.0, bar_style='info', description='Progress:', layout=Layout(height='25px', width='50%'),…"
      ]
     },
     "metadata": {},
     "output_type": "display_data"
    }
   ],
   "source": [
    "titles = questions.select('title').distinct()\n"
   ]
  },
  {
   "cell_type": "code",
   "execution_count": 119,
   "id": "73468e80",
   "metadata": {},
   "outputs": [
    {
     "data": {
      "application/vnd.jupyter.widget-view+json": {
       "model_id": "d0c50d8ff3074db7999db5f41623df39",
       "version_major": 2,
       "version_minor": 0
      },
      "text/plain": [
       "VBox()"
      ]
     },
     "metadata": {},
     "output_type": "display_data"
    },
    {
     "data": {
      "application/vnd.jupyter.widget-view+json": {
       "model_id": "",
       "version_major": 2,
       "version_minor": 0
      },
      "text/plain": [
       "FloatProgress(value=0.0, bar_style='info', description='Progress:', layout=Layout(height='25px', width='50%'),…"
      ]
     },
     "metadata": {},
     "output_type": "display_data"
    }
   ],
   "source": [
    "from pyspark.sql.functions import col, regexp_extract"
   ]
  },
  {
   "cell_type": "code",
   "execution_count": 120,
   "id": "eace3eb1",
   "metadata": {},
   "outputs": [
    {
     "data": {
      "application/vnd.jupyter.widget-view+json": {
       "model_id": "eb8d77d45fa14645ada3d6ed55203602",
       "version_major": 2,
       "version_minor": 0
      },
      "text/plain": [
       "VBox()"
      ]
     },
     "metadata": {},
     "output_type": "display_data"
    },
    {
     "data": {
      "application/vnd.jupyter.widget-view+json": {
       "model_id": "",
       "version_major": 2,
       "version_minor": 0
      },
      "text/plain": [
       "FloatProgress(value=0.0, bar_style='info', description='Progress:', layout=Layout(height='25px', width='50%'),…"
      ]
     },
     "metadata": {},
     "output_type": "display_data"
    },
    {
     "name": "stdout",
     "output_type": "stream",
     "text": [
      "Pattern not found: From:.+\n",
      "\n",
      "Pattern not found: Reply-To:.+\n",
      "\n",
      "Pattern not found: Nntp.+ \n",
      "Pattern not found: Subject:+ \n",
      "Pattern not found: Lines:.+\n",
      "\n",
      "Pattern not found: Organization:+ \n",
      "Pattern not found: \\S+@\\S+\\s\n",
      "Pattern not found: Re:+ \n",
      "Pattern not found: \n",
      "|\t\n",
      "Pattern found: \\S*\\d+\\S*\n",
      "Pattern found: \\s\\W*\\w\\W*\\s\n",
      "Pattern found: \\W+"
     ]
    }
   ],
   "source": [
    "# Szukanie, kt\u00F3rych znacznik\u00F3w nale\u017Cy się pozbyć z kolumny title\n",
    "patterns = [\n",
    "    \"From:.+\\n\",\n",
    "    \"Reply-To:.+\\n\",\n",
    "    \"Nntp.+ \",\n",
    "    \"Subject:+ \",\n",
    "    \"Lines:.+\\n\",\n",
    "    \"Organization:+ \",\n",
    "    \"\\S+@\\S+\\s\",\n",
    "    \"Re:+ \",\n",
    "    \"\\n|\\t\",\n",
    "    \"\\S*\\d+\\S*\",\n",
    "    \"\\s\\W*\\w\\W*\\s\",\n",
    "    \"\\W+\"\n",
    "]\n",
    "\n",
    "for pattern in patterns:\n",
    "    titles = titles.withColumn(\"matched\", regexp_extract(col(\"title\"), pattern, 0))\n",
    "    if titles.filter(col(\"matched\") != \"\").count() > 0:\n",
    "        print(f\"Pattern found: {pattern}\")\n",
    "    else:\n",
    "        print(f\"Pattern not found: {pattern}\")"
   ]
  },
  {
   "cell_type": "code",
   "execution_count": 121,
   "id": "43efc8fa",
   "metadata": {},
   "outputs": [
    {
     "data": {
      "application/vnd.jupyter.widget-view+json": {
       "model_id": "05482dcd33164211a155e0b4a9514550",
       "version_major": 2,
       "version_minor": 0
      },
      "text/plain": [
       "VBox()"
      ]
     },
     "metadata": {},
     "output_type": "display_data"
    },
    {
     "data": {
      "application/vnd.jupyter.widget-view+json": {
       "model_id": "",
       "version_major": 2,
       "version_minor": 0
      },
      "text/plain": [
       "FloatProgress(value=0.0, bar_style='info', description='Progress:', layout=Layout(height='25px', width='50%'),…"
      ]
     },
     "metadata": {},
     "output_type": "display_data"
    }
   ],
   "source": [
    "# Usunięcie pomocniczej kolumny\n",
    "titles = titles.drop('matched')"
   ]
  },
  {
   "cell_type": "code",
   "execution_count": 122,
   "id": "2c4d41e9",
   "metadata": {},
   "outputs": [
    {
     "data": {
      "application/vnd.jupyter.widget-view+json": {
       "model_id": "36461400efd74cd697684b5f9162724a",
       "version_major": 2,
       "version_minor": 0
      },
      "text/plain": [
       "VBox()"
      ]
     },
     "metadata": {},
     "output_type": "display_data"
    },
    {
     "data": {
      "application/vnd.jupyter.widget-view+json": {
       "model_id": "",
       "version_major": 2,
       "version_minor": 0
      },
      "text/plain": [
       "FloatProgress(value=0.0, bar_style='info', description='Progress:', layout=Layout(height='25px', width='50%'),…"
      ]
     },
     "metadata": {},
     "output_type": "display_data"
    }
   ],
   "source": [
    "# Usunięcie zbędnych znacznik\u00F3w\n",
    "titles = titles.withColumn('title', regexp_replace('title', \"\\S*\\d+\\S*\", ' '))\\\n",
    "                 .withColumn('title', regexp_replace('title', \"\\s\\W*\\w\\W*\\s\", ' '))\\\n",
    "                 .withColumn('title', regexp_replace('title', \"\\W+\", ' '))"
   ]
  },
  {
   "cell_type": "code",
   "execution_count": 123,
   "id": "2b108bca",
   "metadata": {},
   "outputs": [
    {
     "data": {
      "application/vnd.jupyter.widget-view+json": {
       "model_id": "30db11aed0894a4289bd44f0244a0163",
       "version_major": 2,
       "version_minor": 0
      },
      "text/plain": [
       "VBox()"
      ]
     },
     "metadata": {},
     "output_type": "display_data"
    },
    {
     "data": {
      "application/vnd.jupyter.widget-view+json": {
       "model_id": "",
       "version_major": 2,
       "version_minor": 0
      },
      "text/plain": [
       "FloatProgress(value=0.0, bar_style='info', description='Progress:', layout=Layout(height='25px', width='50%'),…"
      ]
     },
     "metadata": {},
     "output_type": "display_data"
    }
   ],
   "source": [
    "from pyspark.sql.functions import lower\n",
    "titles = titles.withColumn('title', lower('title'))"
   ]
  },
  {
   "cell_type": "code",
   "execution_count": 124,
   "id": "0e4325dd",
   "metadata": {},
   "outputs": [
    {
     "data": {
      "application/vnd.jupyter.widget-view+json": {
       "model_id": "01300c6cb6b7478baf92fdfc9fe89882",
       "version_major": 2,
       "version_minor": 0
      },
      "text/plain": [
       "VBox()"
      ]
     },
     "metadata": {},
     "output_type": "display_data"
    },
    {
     "data": {
      "application/vnd.jupyter.widget-view+json": {
       "model_id": "",
       "version_major": 2,
       "version_minor": 0
      },
      "text/plain": [
       "FloatProgress(value=0.0, bar_style='info', description='Progress:', layout=Layout(height='25px', width='50%'),…"
      ]
     },
     "metadata": {},
     "output_type": "display_data"
    }
   ],
   "source": [
    "from pyspark.ml.feature import RegexTokenizer"
   ]
  },
  {
   "cell_type": "code",
   "execution_count": 125,
   "id": "5dbc5adc",
   "metadata": {},
   "outputs": [
    {
     "data": {
      "application/vnd.jupyter.widget-view+json": {
       "model_id": "47dad394935245468db2aca8ecb745da",
       "version_major": 2,
       "version_minor": 0
      },
      "text/plain": [
       "VBox()"
      ]
     },
     "metadata": {},
     "output_type": "display_data"
    },
    {
     "data": {
      "application/vnd.jupyter.widget-view+json": {
       "model_id": "",
       "version_major": 2,
       "version_minor": 0
      },
      "text/plain": [
       "FloatProgress(value=0.0, bar_style='info', description='Progress:', layout=Layout(height='25px', width='50%'),…"
      ]
     },
     "metadata": {},
     "output_type": "display_data"
    }
   ],
   "source": [
    "tokenizer = RegexTokenizer(inputCol=\"title\", outputCol=\"words\", pattern=\"\\\\W\")"
   ]
  },
  {
   "cell_type": "code",
   "execution_count": 126,
   "id": "c8bdc4f7",
   "metadata": {},
   "outputs": [
    {
     "data": {
      "application/vnd.jupyter.widget-view+json": {
       "model_id": "a83f0401a8b3483aa1d9aee8261669b4",
       "version_major": 2,
       "version_minor": 0
      },
      "text/plain": [
       "VBox()"
      ]
     },
     "metadata": {},
     "output_type": "display_data"
    },
    {
     "data": {
      "application/vnd.jupyter.widget-view+json": {
       "model_id": "",
       "version_major": 2,
       "version_minor": 0
      },
      "text/plain": [
       "FloatProgress(value=0.0, bar_style='info', description='Progress:', layout=Layout(height='25px', width='50%'),…"
      ]
     },
     "metadata": {},
     "output_type": "display_data"
    }
   ],
   "source": [
    "titles = tokenizer.transform(titles)"
   ]
  },
  {
   "cell_type": "code",
   "execution_count": 127,
   "id": "9cc0f3c9",
   "metadata": {},
   "outputs": [
    {
     "data": {
      "application/vnd.jupyter.widget-view+json": {
       "model_id": "ed875c6480c840319ea5c15679b289dc",
       "version_major": 2,
       "version_minor": 0
      },
      "text/plain": [
       "VBox()"
      ]
     },
     "metadata": {},
     "output_type": "display_data"
    },
    {
     "data": {
      "application/vnd.jupyter.widget-view+json": {
       "model_id": "",
       "version_major": 2,
       "version_minor": 0
      },
      "text/plain": [
       "FloatProgress(value=0.0, bar_style='info', description='Progress:', layout=Layout(height='25px', width='50%'),…"
      ]
     },
     "metadata": {},
     "output_type": "display_data"
    }
   ],
   "source": [
    "from pyspark.ml.feature import StopWordsRemover"
   ]
  },
  {
   "cell_type": "code",
   "execution_count": 128,
   "id": "8ab0b0c4",
   "metadata": {},
   "outputs": [
    {
     "data": {
      "application/vnd.jupyter.widget-view+json": {
       "model_id": "c8459e50937648aab97466d8c3fd509a",
       "version_major": 2,
       "version_minor": 0
      },
      "text/plain": [
       "VBox()"
      ]
     },
     "metadata": {},
     "output_type": "display_data"
    },
    {
     "data": {
      "application/vnd.jupyter.widget-view+json": {
       "model_id": "",
       "version_major": 2,
       "version_minor": 0
      },
      "text/plain": [
       "FloatProgress(value=0.0, bar_style='info', description='Progress:', layout=Layout(height='25px', width='50%'),…"
      ]
     },
     "metadata": {},
     "output_type": "display_data"
    },
    {
     "name": "stdout",
     "output_type": "stream",
     "text": [
      "['i', 'me', 'my', 'myself', 'we', 'our', 'ours', 'ourselves', 'you', 'your', 'yours', 'yourself', 'yourselves', 'he', 'him', 'his', 'himself', 'she', 'her', 'hers', 'herself', 'it', 'its', 'itself', 'they', 'them', 'their', 'theirs', 'themselves', 'what', 'which', 'who', 'whom', 'this', 'that', 'these', 'those', 'am', 'is', 'are', 'was', 'were', 'be', 'been', 'being', 'have', 'has', 'had', 'having', 'do', 'does', 'did', 'doing', 'a', 'an', 'the', 'and', 'but', 'if', 'or', 'because', 'as', 'until', 'while', 'of', 'at', 'by', 'for', 'with', 'about', 'against', 'between', 'into', 'through', 'during', 'before', 'after', 'above', 'below', 'to', 'from', 'up', 'down', 'in', 'out', 'on', 'off', 'over', 'under', 'again', 'further', 'then', 'once', 'here', 'there', 'when', 'where', 'why', 'how', 'all', 'any', 'both', 'each', 'few', 'more', 'most', 'other', 'some', 'such', 'no', 'nor', 'not', 'only', 'own', 'same', 'so', 'than', 'too', 'very', 's', 't', 'can', 'will', 'just', 'don', 'should', 'now', \"i'll\", \"you'll\", \"he'll\", \"she'll\", \"we'll\", \"they'll\", \"i'd\", \"you'd\", \"he'd\", \"she'd\", \"we'd\", \"they'd\", \"i'm\", \"you're\", \"he's\", \"she's\", \"it's\", \"we're\", \"they're\", \"i've\", \"we've\", \"you've\", \"they've\", \"isn't\", \"aren't\", \"wasn't\", \"weren't\", \"haven't\", \"hasn't\", \"hadn't\", \"don't\", \"doesn't\", \"didn't\", \"won't\", \"wouldn't\", \"shan't\", \"shouldn't\", \"mustn't\", \"can't\", \"couldn't\", 'cannot', 'could', \"here's\", \"how's\", \"let's\", 'ought', \"that's\", \"there's\", \"what's\", \"when's\", \"where's\", \"who's\", \"why's\", 'would']"
     ]
    }
   ],
   "source": [
    "sw_remover = StopWordsRemover(inputCol='words', outputCol='words_cleaned')\n",
    "sw_remover.getStopWords()"
   ]
  },
  {
   "cell_type": "code",
   "execution_count": 129,
   "id": "4bf70e12",
   "metadata": {},
   "outputs": [
    {
     "data": {
      "application/vnd.jupyter.widget-view+json": {
       "model_id": "2ef0a44065aa460bb1b94055139e5dcb",
       "version_major": 2,
       "version_minor": 0
      },
      "text/plain": [
       "VBox()"
      ]
     },
     "metadata": {},
     "output_type": "display_data"
    },
    {
     "data": {
      "application/vnd.jupyter.widget-view+json": {
       "model_id": "",
       "version_major": 2,
       "version_minor": 0
      },
      "text/plain": [
       "FloatProgress(value=0.0, bar_style='info', description='Progress:', layout=Layout(height='25px', width='50%'),…"
      ]
     },
     "metadata": {},
     "output_type": "display_data"
    },
    {
     "name": "stdout",
     "output_type": "stream",
     "text": [
      "+--------------------+--------------------+--------------------+\n",
      "|               title|               words|       words_cleaned|\n",
      "+--------------------+--------------------+--------------------+\n",
      "|has my cider ferm...|[has, my, cider, ...|  [cider, fermented]|\n",
      "|how to identify f...|[how, to, identif...|[identify, fresh,...|\n",
      "|first onion or fi...|[first, onion, or...|[first, onion, fi...|\n",
      "|chocolate choux p...|[chocolate, choux...|[chocolate, choux...|\n",
      "|can substitute bl...|[can, substitute,...|[substitute, blac...|\n",
      "+--------------------+--------------------+--------------------+\n",
      "only showing top 5 rows"
     ]
    }
   ],
   "source": [
    "titles = sw_remover.transform(titles)\n",
    "titles.show(5)"
   ]
  },
  {
   "cell_type": "code",
   "execution_count": 130,
   "id": "cf1e17b6",
   "metadata": {},
   "outputs": [
    {
     "data": {
      "application/vnd.jupyter.widget-view+json": {
       "model_id": "166ae064e43642a5b2d0899e34093178",
       "version_major": 2,
       "version_minor": 0
      },
      "text/plain": [
       "VBox()"
      ]
     },
     "metadata": {},
     "output_type": "display_data"
    },
    {
     "data": {
      "application/vnd.jupyter.widget-view+json": {
       "model_id": "",
       "version_major": 2,
       "version_minor": 0
      },
      "text/plain": [
       "FloatProgress(value=0.0, bar_style='info', description='Progress:', layout=Layout(height='25px', width='50%'),…"
      ]
     },
     "metadata": {},
     "output_type": "display_data"
    }
   ],
   "source": [
    "import nltk\n",
    "stemmer = nltk.PorterStemmer()\n",
    "from pyspark.sql.functions import udf\n",
    "from pyspark.sql.types import ArrayType, StringType"
   ]
  },
  {
   "cell_type": "code",
   "execution_count": 131,
   "id": "deed84d2",
   "metadata": {},
   "outputs": [
    {
     "data": {
      "application/vnd.jupyter.widget-view+json": {
       "model_id": "3fc38a456afc40f6b5f8fca86a25af29",
       "version_major": 2,
       "version_minor": 0
      },
      "text/plain": [
       "VBox()"
      ]
     },
     "metadata": {},
     "output_type": "display_data"
    },
    {
     "data": {
      "application/vnd.jupyter.widget-view+json": {
       "model_id": "",
       "version_major": 2,
       "version_minor": 0
      },
      "text/plain": [
       "FloatProgress(value=0.0, bar_style='info', description='Progress:', layout=Layout(height='25px', width='50%'),…"
      ]
     },
     "metadata": {},
     "output_type": "display_data"
    }
   ],
   "source": [
    "def stem_words(words):\n",
    "     return [stemmer.stem(w) for w in words]"
   ]
  },
  {
   "cell_type": "code",
   "execution_count": 132,
   "id": "abf0af84",
   "metadata": {},
   "outputs": [
    {
     "data": {
      "application/vnd.jupyter.widget-view+json": {
       "model_id": "ddd19cf2a7254c0295c1ecc8d5ffdd19",
       "version_major": 2,
       "version_minor": 0
      },
      "text/plain": [
       "VBox()"
      ]
     },
     "metadata": {},
     "output_type": "display_data"
    },
    {
     "data": {
      "application/vnd.jupyter.widget-view+json": {
       "model_id": "",
       "version_major": 2,
       "version_minor": 0
      },
      "text/plain": [
       "FloatProgress(value=0.0, bar_style='info', description='Progress:', layout=Layout(height='25px', width='50%'),…"
      ]
     },
     "metadata": {},
     "output_type": "display_data"
    },
    {
     "name": "stdout",
     "output_type": "stream",
     "text": [
      "root\n",
      " |-- title: string (nullable = true)\n",
      " |-- words: array (nullable = true)\n",
      " |    |-- element: string (containsNull = true)\n",
      " |-- words_cleaned: array (nullable = true)\n",
      " |    |-- element: string (containsNull = true)\n",
      " |-- words_stemmed: array (nullable = true)\n",
      " |    |-- element: string (containsNull = true)\n",
      "\n",
      "+--------------------+--------------------+--------------------+--------------------+\n",
      "|               title|               words|       words_cleaned|       words_stemmed|\n",
      "+--------------------+--------------------+--------------------+--------------------+\n",
      "|has my cider ferm...|[has, my, cider, ...|  [cider, fermented]|    [cider, ferment]|\n",
      "|how to identify f...|[how, to, identif...|[identify, fresh,...|[identifi, fresh,...|\n",
      "|first onion or fi...|[first, onion, or...|[first, onion, fi...|[first, onion, fi...|\n",
      "|chocolate choux p...|[chocolate, choux...|[chocolate, choux...|[chocol, choux, p...|\n",
      "|can substitute bl...|[can, substitute,...|[substitute, blac...|[substitut, black...|\n",
      "|how to make vegan...|[how, to, make, v...|[make, vegan, may...|[make, vegan, may...|\n",
      "|what are these wh...|[what, are, these...|[white, flecks, l...|[white, fleck, le...|\n",
      "|buttercream frost...|[buttercream, fro...|[buttercream, fro...|[buttercream, fro...|\n",
      "|spoiled garlic ok...|[spoiled, garlic,...|[spoiled, garlic,...|[spoil, garlic, o...|\n",
      "|     creamer returns|  [creamer, returns]|  [creamer, returns]|   [creamer, return]|\n",
      "|will artificial s...|[will, artificial...|[artificial, swee...|[artifici, sweete...|\n",
      "|is sausage casing...|[is, sausage, cas...|[sausage, casing,...|[sausag, case, ed...|\n",
      "|what would happen...|[what, would, hap...|[happen, add, win...|[happen, add, win...|\n",
      "|  does pesto go bad |[does, pesto, go,...|    [pesto, go, bad]|    [pesto, go, bad]|\n",
      "|potato ricer subs...|[potato, ricer, s...|[potato, ricer, s...|[potato, ricer, s...|\n",
      "|the three cs spic...|[the, three, cs, ...|[three, cs, spice...|[three, cs, spice...|\n",
      "|what cheeses work...|[what, cheeses, w...|[cheeses, work, m...|[chees, work, mel...|\n",
      "|will msg improve ...|[will, msg, impro...|[msg, improve, ta...|[msg, improv, tas...|\n",
      "|how to store what...|[how, to, store, ...|[store, leftovers...|[store, leftov, a...|\n",
      "|what is the liqui...|[what, is, the, l...|[liquid, often, l...|[liquid, often, l...|\n",
      "+--------------------+--------------------+--------------------+--------------------+\n",
      "only showing top 20 rows"
     ]
    }
   ],
   "source": [
    "stem_words_udf = udf(f=stem_words, returnType=ArrayType(StringType()))\n",
    "titles = titles.withColumn('words_stemmed', stem_words_udf(titles.words_cleaned))\n",
    "titles.printSchema()\n",
    "titles.show()"
   ]
  },
  {
   "cell_type": "code",
   "execution_count": 133,
   "id": "8c068db8",
   "metadata": {},
   "outputs": [
    {
     "data": {
      "application/vnd.jupyter.widget-view+json": {
       "model_id": "8c2cca710fa44a129af87438b8a3d7f2",
       "version_major": 2,
       "version_minor": 0
      },
      "text/plain": [
       "VBox()"
      ]
     },
     "metadata": {},
     "output_type": "display_data"
    },
    {
     "data": {
      "application/vnd.jupyter.widget-view+json": {
       "model_id": "",
       "version_major": 2,
       "version_minor": 0
      },
      "text/plain": [
       "FloatProgress(value=0.0, bar_style='info', description='Progress:', layout=Layout(height='25px', width='50%'),…"
      ]
     },
     "metadata": {},
     "output_type": "display_data"
    }
   ],
   "source": [
    "from pyspark.ml.feature import CountVectorizer, IDF"
   ]
  },
  {
   "cell_type": "code",
   "execution_count": 134,
   "id": "8a16fc5a",
   "metadata": {},
   "outputs": [
    {
     "data": {
      "application/vnd.jupyter.widget-view+json": {
       "model_id": "783528e2039f4bd2a2fd6f71f6df1ec9",
       "version_major": 2,
       "version_minor": 0
      },
      "text/plain": [
       "VBox()"
      ]
     },
     "metadata": {},
     "output_type": "display_data"
    },
    {
     "data": {
      "application/vnd.jupyter.widget-view+json": {
       "model_id": "",
       "version_major": 2,
       "version_minor": 0
      },
      "text/plain": [
       "FloatProgress(value=0.0, bar_style='info', description='Progress:', layout=Layout(height='25px', width='50%'),…"
      ]
     },
     "metadata": {},
     "output_type": "display_data"
    }
   ],
   "source": [
    "count_vectorizer = CountVectorizer(inputCol=\"words_stemmed\", outputCol=\"term_freq\", minDF=2.0, maxDF=0.5)\n",
    "\n",
    "count_vectorizer_model = count_vectorizer.fit(titles)\n",
    "titles = count_vectorizer_model.transform(titles)"
   ]
  },
  {
   "cell_type": "code",
   "execution_count": 135,
   "id": "3ce59179",
   "metadata": {},
   "outputs": [
    {
     "data": {
      "application/vnd.jupyter.widget-view+json": {
       "model_id": "86d324cdfee44b0dac566c324c795b79",
       "version_major": 2,
       "version_minor": 0
      },
      "text/plain": [
       "VBox()"
      ]
     },
     "metadata": {},
     "output_type": "display_data"
    },
    {
     "data": {
      "application/vnd.jupyter.widget-view+json": {
       "model_id": "",
       "version_major": 2,
       "version_minor": 0
      },
      "text/plain": [
       "FloatProgress(value=0.0, bar_style='info', description='Progress:', layout=Layout(height='25px', width='50%'),…"
      ]
     },
     "metadata": {},
     "output_type": "display_data"
    },
    {
     "name": "stdout",
     "output_type": "stream",
     "text": [
      "['cook', 'make', 'use', 'quot', 'bake', 'bread', 'chicken', 'recip', 'food', 'safe', 'substitut', 'egg', 'differ', 'oven', 'sauc', 'pan', 'oil', 'meat', 'water', 'without', 'cake', 'dough', 'fri', 'long', 'milk', 'cream', 'dri', 'get', 'way', 'temperatur', 'store', 'flour', 'sugar', 'butter', 'rice', 'chocol', 'tast', 'time', 'keep', 'chees', 'beef', 'salt', 'roast', 'boil', 'potato', 'vs', 'white', 'best', 'frozen', 'like', 'good', 'fresh', 'eat', 'need', 'much', 'veget', 'flavor', 'cooki', 'powder', 'pot', 'pizza', 'freez', 'bean', 'heat', 'add', 'tomato', 'made', 'hot', 'soup', 'microwav', 'refriger', 'ingredi', 'ad', 'coffe', 'ice', 'pasta', 'raw', 'fish', 'iron', 'cooker', 'mix', 'tea', 'brown', 'prepar', 'fridg', 'prevent', 'dish', 'onion', 'fruit', 'pork', 'yeast', 'homemad', 'cut', 'instead', 'turn', 'season', 'pie', 'grill', 'fat', 'home', 'one', 'sourdough', 'stick', 'garlic', 'remov', 'cast', 'steak', 'clean', 'pepper', 'black', 'top', 'whole', 'sweet', 'possibl', 'juic', 'type', 'stock', 'liquid', 'non', 'steel', 'still', 'green', 'vinegar', 'preserv', 'vide', 'sou', 'put', 'call', 'slow', 'starter', 'leav', 'spice', 'bad', 'pressur', 'wine', 'smoke', 'ferment', 'red', 'crust', 'rise', 'hour', 'turkey', 'lemon', 'yogurt', 'contain', 'replac', 'go', 'day', 'smell', 'can', 'corn', 'ground', 'help', 'coconut', 'seed', 'soak', 'soft', 'kind', 'brine', 'effect', 'pickl', 'appl', 'left', 'look', 'curri', 'insid', 'reduc', 'syrup', 'work', 'stove', 'burn', 'hard', 'less', 'oliv', 'method', 'free', 'base', 'melt', 'textur', 'cold', 'bottom', 'batter', 'peel', 'steam', 'past', 'altern', 'flavour', 'bone', 'ga', 'bitter', 'knife', 'caramel', 'caus', 'jar', 'sour', 'french', 'amount', 'shelf', 'high', 'roll', 'tell', 'broth', 'life', 'skin', 'pastri', 'overnight', 'reheat', 'stew', 'open', 'gluten', 'noodl', 'chang', 'set', 'whip', 'thaw', 'chip', 'avoid', 'mean', 'glass', 'purpos', 'last', 'stainless', 'fill', 'better', 'know', 'separ', 'safeti', 'wash', 'chili', 'electr', 'techniqu', 'freezer', 'cool', 'serv', 'extract', 'soda', 'alcohol', 'low', 'name', 'acid', 'buy', 'larg', 'come', 'process', 'peanut', 'bacon', 'sausag', 'seal', 'realli', 'kitchen', 'plastic', 'take', 'cup', 'canning', 'thicken', 'fix', 'old', 'happen', 'mold', 'color', 'wheat', 'affect', 'mushroom', 'amp', 'nut', 'salad', 'drink', 'warm', 'new', 'room', 'honey', 'date', 'crispi', 'thing', 'breast', 'bag', 'skillet', 'coat', 'first', 'chop', 'vanilla', 'measur', 'regular', 'pancak', 'small', 'machin', 'wok', 'properli', 'deep', 'candi', 'ok', 'salmon', 'metal', 'stop', 'cheesecak', 'edibl', 'chines', 'mani', 'gelatin', 'two', 'banana', 'part', 'bottl', 'thick', 'wrong', 'pud', 'lid', 'product', 'orang', 'bought', 'jam', 'storag', 'rib', 'cocoa', 'size', 'pre', 'induct', 'ratio', 'marinad', 'soy', 'start', 'ginger', 'vacuum', 'sushi', 'ham', 'normal', 'knead', 'longer', 'yolk', 'shape', 'sticki', 'vegan', 'indian', 'convert', 'well', 'form', 'dark', 'layer', 'alway', 'almond', 'adjust', 'muffin', 'qualiti', 'togeth', 'instant', 'style', 'crack', 'done', 'term', 'herb', 'creat', 'burger', 'slice', 'restaur', 'pumpkin', 'stir', 'packag', 'browni', 'problem', 'paper', 'dutch', 'side', 'requir', 'find', 'doubl', 'tender', 'proper', 'stone', 'place', 'carbon', 'someth', 'yellow', 'increas', 'grain', 'air', 'italian', 'marin', 'cover', 'meringu', 'thin', 'becom', 'wet', 'defrost', 'commerci', 'beer', 'consist', 'content', 'meal', 'half', 'lamb', 'temp', 'stay', 'us', 'identifi', 'result', 'oat', 'lentil', 'convect', 'blender', 'spoil', 'shell', 'question', 'uncook', 'foil', 'protein', 'dehydr', 'leftov', 'bbq', 'improv', 'break', 'hand', 'spot', 're', 'okay', 'fall', 'wrap', 'spici', 'save', 'toast', 'chilli', 'piec', 'pure', 'spaghetti', 'custard', 'maker', 'correct', 'expir', 'bubbl', 'reason', 'split', 'produc', 'end', 'salti', 'spong', 'press', 'cookwar', 'sharpen', 'outsid', 'specif', 'necessari', 'lose', 'proof', 'infus', 'recommend', 'tofu', 'bar', 'sandwich', 'extra', 'knive', 'quickli', 'cure', 'give', 'chewi', 'burnt', 'carrot', 'avocado', 'lime', 'crock', 'point', 'squash', 'starch', 'determin', 'crumbl', 'blend', 'actual', 'quantiti', 'mixer', 'sprout', 'brew', 'weight', 'tip', 'right', 'nutrit', 'sear', 'even', 'rest', 'sweeten', 'board', 'light', 'shrimp', 'mustard', 'soggi', 'pack', 'utensil', 'mayonnais', 'want', 'frost', 'japanes', 'dress', 'box', 'fudg', 'advantag', 'natur', 'residu', 'pop', 'tough', 'jelli', 'surfac', 'pea', 'combin', 'american', 'tradit', 'de', 'danger', 'dairi', 'wood', 'popcorn', 'plate', 'thermomet', 'alreadi', 'grind', 'ball', 'ceram', 'uk', 'dessert', 'buttermilk', 'scale', 'tin', 'let', 'loaf', 'versu', 'hold', 'duck', 'creme', 'puff', 'handl', 'mixtur', 'burner', 'bowl', 'hole', 'moist', 'achiev', 'crisp', 'lasagna', 'effici', 'crunchi', 'cultur', 'fire', 'flat', 'stuf', 'littl', 'soften', 'sheet', 'curdl', 'veggi', 'batch', 'waffl', 'thai', 'suppos', 'biscuit', 'enough', 'accident', 'tool', 'gum', 'tri', 'gener', 'absorb', 'foam', 'suitabl', 'simmer', 'matter', 'cinnamon', 'reus', 'big', 'later', 'sauerkraut', 'aluminum', 'heavi', 'gravi', 'pink', 'away', 'apart', 'advic', 'cabbag', 'condens', 'temper', 'back', 'brisket', 'age', 'say', 'minc', 'roux', 'tortilla', 'consid', 'spread', 'brand', 'evapor', 'fulli', 'calori', 'quick', 'kefir', 'similar', 'degre', 'common', 'espresso', 'idea', 'english', 'rid', 'fail', 'mint', 'vegetarian', 'chemic', 'standard', 'root', 'level', 'fast', 'medium', 'chef', 'choos', 'cooktop', 'gone', 'import', 'blue', 'crockpot', 'glaze', 'sourc', 'dumpl', 'cuisin', 'ruin', 'spinach', 'strawberri', 'next', 'mash', 'mouss', 'peopl', 'pineappl', 'cupcak', 'stain', 'casserol', 'smooth', 'item', 'round', 'scratch', 'pound', 'rang', 'fine', 'pull', 'wateri', 'meatbal', 'suggest', 'bath', 'greas', 'charcoal', 'special', 'benefit', 'power', 'order', 'lot', 'spoon', 'anyth', 'simpl', 'year', 'fryer', 'agar', 'tart', 'finish', 'stuff', 'bun', 'e', 'salsa', 'silicon', 'botul', 'macaron', 'patti', 'week', 'etc', 'poach', 'blueberri', 'practic', 'basil', 'equival', 'compar', 'solut', 'forgot', 'shorten', 'leg', 'chickpea', 'concentr', 'risotto', 'lower', 'tray', 'brais', 'pour', 'chill', 'stand', 'risk', 'faster', 'whether', 'activ', 'rust', 'yoghurt', 'turkish', 'seem', 'strong', 'wooden', 'mussel', 'fluffi', 'volum', 'leaf', 'emulsifi', 'dissolv', 'includ', 'pasteur', 'dip', 'solid', 'stovetop', 'issu', 'kimchi', 'crystal', 'multipl', 'curd', 'citru', 'materi', 'consum', 'hamburg', 'dishwash', 'excess', 'bacteria', 'readi', 'addit', 'short', 'calcul', 'caffein', 'sodium', 'refreez', 'flake', 'month', 'overcook', 'crepe', 'cider', 'enamel', 'scrambl', 'prefer', 'exactli', 'runni', 'middl', 'control', 'colour', 'organ', 'minut', 'grinder', 'around', 'moistur', 'broil', 'ripe', 'kosher', 'gummi', 'never', 'peach', 'firm', 'mapl', 'ganach', 'anyon', 'easi', 'parmesan', 'plain', 'rack', 'filter', 'perfect', 'cherri', 'whey', 'processor', 'advanc', 'appropri', 'damag', 'wild', 'self', 'counter', 'parchment', 'avail', 'supermarket', 'develop', 'creami', 'head', 'easili', 'eggplant', 'shoulder', 'rins', 'sink', 'blanch', 'ideal', 'mozzarella', 'shred', 'cornstarch', 'typic', 'mango', 'tabl', 'undercook', 'malt', 'test', 'dens', 'jerki', 'pesto', 'grade', 'barley', 'spring', 'truffl', 'bagel', 'purchas', 'marshmallow', 'agent', 'graini', 'feed', 'copper', 'unopen', 'went', 'tuna', 'contamin', 'sit', 'night', 'crumb', 'optim', 'preheat', 'cocktail', 'bell', 'stabl', 'grape', 'smoothi', 'sometim', 'leaven', 'clear', 'partial', 'omelett', 'oatmeal', 'bit', 'ripen', 'function', 'evenli', 'cube', 'pick', 'crush', 'quinoa', 'kettl', 'label', 'clam', 'vodka', 'clarifi', 'ring', 'complet', 'singl', 'mill', 'correctli', 'liver', 'super', 'cracker', 'someon', 'tartar', 'masala', 'minim', 'blade', 'trick', 'ensur', 'culinari', 'edg', 'harden', 'slightli', 'basic', 'cheap', 'savori', 'besid', 'varieti', 'bulk', 'celeri', 'element', 'kill', 'breakfast', 'ahead', 'must', 'ever', 'intern', 'smoker', 'minimum', 'saut', 'cod', 'dinner', 'fondant', 'origin', 'sesam', 'teflon', 'beet', 'grate', 'real', 'salvag', 'proport', 'barbecu', 'convers', 'g', 'beat', 'blood', 'seafood', 'babi', 'per', 'drain', 'kidney', 'rare', 'state', 'moldi', 'toaster', 'higher', 'poison', 'wing', 'sea', 'exist', 'plant', 'asian', 'anoth', 'unrefriger', 'broccoli', 'substanc', 'properti', 'gritti', 'deal', 'scallop', 'hone', 'maintain', 'option', 'fold', 'secret', 'pit', 'extend', 'rind', 'strip', 'grow', 'hazelnut', 'pleas', 'close', 'gram', 'impact', 'book', 'bind', 'kebab', 'maximum', 'stuck', 'rub', 'percentag', 'ghee', 'line', 'whisk', 'throw', 'rather', 'speed', 'spray', 'thicker', 'smaller', 'dice', 'glucos', 'cranberri', 'allergi', 'skim', 'carb', 'nutrient', 'greek', 'molass', 'brule', 'mexican', 'kept', 'found', 'three', 'groceri', 'stem', 'flame', 'strain', 'bring', 'zest', 'clove', 'rock', 'bland', 'leak', 'treat', 'mushi', 'tini', 'steamer', 'other', 'mess', 'canner', 'devic', 'fan', 'bolognes', 'croissant', 'breadcrumb', 'harm', 'german', 'buttercream', 'variou', 'render', 'live', 'rum', 'sold', 'appear', 'fillet', 'collaps', 'rule', 'least', 'octopu', 'sure', 'purpl', 'humid', 'citric', 'asparagu', 'rye', 'miss', 'squeez', 'prep', 'lettuc', 'almost', 'case', 'certain', 'pectin', 'stabil', 'full', 'float', 'attach', 'goe', 'sorbet', 'quich', 'plan', 'xanthan', 'run', 'incorpor', 'decor', 'hob', 'mark', 'reach', 'unsweeten', 'calcium', 'eaten', 'regard', 'vessel', 'worth', 'zucchini', 'transport', 'dog', 'cumin', 'directli', 'hydrat', 'extrem', 'learn', 'appli', 'center', 'steep', 'crab', 'mortar', 'rais', 'lump', 'oili', 'seitan', 'wait', 'eye', 'signific', 'kale', 'con', 'step', 'check', 'mug', 'nonstick', 'fondu', 'lobster', 'true', 'poultri', 'often', 'meant', 'drip', 'griddl', 'consumpt', 'scone', 'bechamel', 'relat', 'tenderloin', 'rescu', 'stage', 'second', 'broken', 'abl', 'refer', 'market', 'instruct', 'releas', 'freshli', 'far', 'berri', 'got', 'clump', 'toffe', 'thigh', 'christma', 'mould', 'rubberi', 'pyrex', 'paprika', 'gnocchi', 'fatti', 'within', 'cucumb', 'limit', 'unit', 'dal', 'parsley', 'came', 'energi', 'convent', 'pair', 'boneless', 'british', 'select', 'care', 'cacao', 'soap', 'baguett', 'profession', 'remain', 'ricotta', 'anchovi', 'sunflow', 'au', 'number', 'semi', 'wax', 'ask', 'paella', 'scienc', 'baker', 'squar', 'margarin', 'touch', 'loos', 'expens', 'sever', 'discolor', 'adapt', 'silver', 'altitud', 'korean', 'pretzel', 'graham', 'peppercorn', 'granul', 'definit', 'success', 'drop', 'equip', 'cilantro', 'belli', 'chutney', 'pig', 'factor', 'feel', 'hummu', 'jello', 'ph', 'build', 'prawn', 'coriand', 'precook', 'accur', 'bundt', 'mouth', 'steril', 'prime', 'softer', 'pearl', 'weigh', 'rate', 'lard', 'trim', 'everi', 'usual', 'dispos', 'dill', 'shop', 'golden', 'broiler', 'twice', 'weird', 'brie', 'final', 'deflat', 'main', 'behind', 'chunk', 'raisin', 'flan', 'bakeri', 'indic', 'given', 'equal', 'ketchup', 'packet', 'inch', 'block', 'slimi', 'els', 'veal', 'expect', 'polenta', 'alter', 'squid', 'reaction', 'key', 'goat', 'grey', 'pestl', 'cheddar', 'sharp', 'known', 'attempt', 'recogn', 'beverag', 'gel', 'worri', 'also', 'pistachio', 'recov', 'lost', 'saute', 'usag', 'cauliflow', 'marmalad', 'aftertast', 'latt', 'earli', 'farm', 'stale', 'applesauc', 'cornmeal', 'figur', 'door', 'recreat', 'kitchenaid', 'semolina', 'cross', 'russian', 'overflow', 'mode', 'sort', 'walnut', 'lactos', 'fennel', 'accept', 'vitamin', 'show', 'featur', 'paneer', 'transfer', 'joint', 'cookbook', 'juici', 'enhanc', 'buckwheat', 'lb', 'tablespoon', 'veg', 'easiest', 'dispens', 'cottag', 'due', 'hollandais', 'expiri', 'fastest', 'flaki', 'anim', 'chia', 'spatula', 'advis', 'porridg', 'balanc', 'authent', 'unsaf', 'pita', 'prior', 'watermelon', 'par', 'gray', 'spanish', 'virgin', 'larger', 'cashew', 'raspberri', 'post', 'pavlova', 'souffl', 'wasabi', 'kombucha', 'salami', 'leek', 'sanit', 'sirloin', 'bite', 'chemistri', 'follow', 'pecan', 'rehydr', 'liquor', 'mayo', 'tapioca', 'sell', 'hous', 'cayenn', 'replic', 'pro', 'diy', 'retain', 'palm', 'mysteri', 'modifi', 'period', 'falafel', 'move', 'countri', 'sub', 'swiss', 'understand', 'valu', 'msg', 'fiber', 'marbl', 'shake', 'chestnut', 'savouri', 'spoilag', 'strang', 'easier', 'butternut', 'troubl', 'fit', 'doughnut', 'brioch', 'oyster', 'mason', 'loss', 'might', 'poolish', 'resourc', 'propan', 'yorkshir', 'catch', 'pad', 'alfredo', 'portion', 'grass', 'neutral', 'plum', 'allow', 'matcha', 'ramen', 'mass', 'winter', 'gumbo', 'fraich', 'blind', 'begin', 'concern', 'legum', 'condiment', 'ship', 'fli', 'aroma', 'continu', 'choux', 'chuck', 'irish', 'venison', 'straight', 'vinaigrett', 'cereal', 'multi', 'great', 'flatbread', 'approach', 'biryani', 'oppos', 'explod', 'design', 'lead', 'revers', 'delight', 'sign', 'mild', 'compound', 'stretch', 'taco', 'chapati', 'sens', 'hash', 'gingerbread', 'see', 'direct', 'halv', 'tallow', 'brittl', 'unsalt', 'rotisseri', 'snack', 'destroy', 'area', 'bay', 'goos', 'role', 'flesh', 'compon', 'usabl', 'fact', 'choic', 'chiffon', 'mascarpon', 'sound', 'loin', 'garam', 'stack', 'rich', 'car', 'whetston', 'meatloaf', 'flip', 'nutella', 'towel', 'immedi', 'beurr', 'filet', 'lasagn', 'vietnames', 'previous', 'boiler', 'taken', 'core', 'bast', 'discard', 'brussel', 'lean', 'intens', 'menu', 'miso', 'yield', 'tiramisu', 'coupl', 'shini', 'yam', 'butterscotch', 'royal', 'expand', 'soon', 'tasti', 'travel', 'pod', 'aid', 'tamarind', 'torch', 'condit', 'parboil', 'fluid', 'rhubarb', 'rancid', 'donut', 'guidelin', 'troubleshoot', 'exact', 'naan', 'eggnog', 'tear', 'interchang', 'saucepan', 'expos', 'maillard', 'account', 'tube', 'local', 'delici', 'canola', 'pattern', 'solubl', 'approxim', 'pate', 'cow', 'collect', 'balsam', 'usa', 'soymilk', 'apricot', 'space', 'masa', 'whiskey', 'industri', 'confit', 'nice', 'simpli', 'person', 'aluminium', 'refin', 'pipe', 'butt', 'wrapper', 'reliabl', 'reduct', 'odor', 'diet', 'finger', 'sun', 'lye', 'polish', 'dosa', 'suet', 'ravioli', 'contact', 'york', 'basmati', 'deglaz', 'liqueur', 'list', 'sprinkl', 'discolour', 'impart', 'particular', 'artichok', 'maxim', 'kernel', 'miner', 'onlin', 'modern', 'tap', 'marrow', 'couscou', 'shortbread', 'flower', 'sphere', 'uht', 'char', 'artifici', 'north', 'experi', 'acorn', 'cheesecloth', 'star', 'submerg', 'mechan', 'present', 'stevia', 'turmer', 'manufactur', 'yet', 'thanksgiv', 'ap', 'interior', 'repair', 'marinara', 'rennet', 'habanero', 'juicer', 'lunch', 'herbal', 'judg', 'buffalo', 'cevich', 'cutter', 'applianc', 'homogen', 'distribut', 'uncov', 'oxid', 'describ', 'everyth', 'jaggeri', 'garnish', 'siphon', 'eggless', 'cost', 'bleach', 'sardin', 'jalapeno', 'lighter', 'health', 'stiff', 'film', 'harvest', 'scum', 'greasi', 'icecream', 'loav', 'tamal', 'sashimi', 'melon', 'chow', 'fenugreek', 'anis', 'price', 'becam', 'structur', 'chile', 'unus', 'flax', 'grit', 'bodi', 'sediment', 'vari', 'system', 'palat', 'young', 'bamboo', 'saffron', 'carv', 'alkalin', 'macaroni', 'angel', 'challah', 'chai', 'barbequ', 'identif', 'sift', 'explain', 'roti', 'bourbon', 'thermo', 'compress', 'morn', 'belgian', 'healthi', 'compens', 'u', 'glutin', 'toxic', 'chorizo', 'rose', 'procedur', 'skewer', 'composit', 'growth', 'friendli', 'cardamom', 'distinct', 'wise', 'bug', 'splatter', 'rod', 'fizz', 'dilut', 'pulp', 'solidifi', 'classic', 'cob', 'insect', 'capsaicin', 'may', 'entir', 'subsitut', 'interpret', 'overh', 'decreas', 'confus', 'satur', 'manual', 'variat', 'shaker', 'king', 'magic', 'nois', 'mein', 'lacto', 'coars', 'button', 'worm', 'liter', 'lecithin', 'applic', 'strength', 'fashion', 'guar', 'estim', 'gratin', 'parasit', 'beyond', 'camp', 'hollow', 'significantli', 'protect', 'spherif', 'scallion', 'bouillon', 'prosciutto', 'seawe', 'older', 'formula', 'salmonella', 'lemonad', 'teaspoon', 'fork', 'wedg', 'feet', 'warp', 'gooey', 'near', 'household', 'anod', 'format', 'slicer', 'weather', 'imit', 'bicarbon', 'cycl', 'tasteless', 'pho', 'cloudi', 'gallon', 'america', 'binder', 'teapot', 'creamer', 'schnitzel', 'via', 'speci', 'spiral', 'read', 'consider', 'brush', 'sherri', 'influenc', 'brandi', 'matur', 'score', 'decent', 'friend', 'rabbit', 'digest', 'min', 'durat', 'siev', 'lowest', 'sweeter', 'shank', 'fake', 'translat', 'garden', 'pomegran', 'granola', 'bear', 'mutton', 'moka', 'panna', 'four', 'eastern', 'grapefruit', 'puls', 'sunni', 'chlorid', 'ml', 'lactic', 'quart', 'basket', 'fajita', 'compani', 'desir', 'dead', 'breadmak', 'cotton', 'inform', 'fond', 'guid', 'okra', 'bird', 'flask', 'clot', 'mac', 'shrink', 'china', 'sick', 'closest', 'portabl', 'horseradish', 'leafi', 'feta', 'tilapia', 'worcestershir', 'sweat', 'clay', 'shallow', 'ciabatta', 'shallot', 'beginn', 'aromat', 'cork', 'individu', 'lack', 'dust', 'precis', 'thumb', 'seiz', 'nutmeg', 'wall', 'profil', 'oreo', 'udon', 'pin', 'dull', 'human', 'nougat', 'photo', 'huge', 'european', 'indoor', 'paddl', 'punch', 'caper', 'held', 'switch', 'husk', 'pear', 'suit', 'burrito', 'serrano', 'fuel', 'conserv', 'gin', 'dye', 'enchilada', 'suddenli', 'cotta', 'ounc', 'mesh', 'coil', 'stonewar', 'tree', 'mother', 'heart', 'popular', 'tone', 'relish', 'emuls', 'model', 'accid', 'parti', 'coagul', 'manag', 'specifi', 'y', 'congeal', 'patina', 'rosemari', 'glove', 'butcher', 'roaster', 'invert', 'oxygen', 'chunki', 'marzipan', 'garbanzo', 'distil', 'wear', 'biga', 'delay', 'rapid', 'toss', 'snail', 'mask', 'suppli', 'cornbread', 'f', 'c', 'tempura', 'outer', 'pass', 'resist', 'froth', 'potassium', 'dent', 'stringi', 'timer', 'oper', 'afterward', 'pantri', 'disintegr', 'umami', 'airtight', 'precaut', 'caster', 'odd', 'hood', 'mat', 'carbonara', 'unevenli', 'stomach', 'terribl', 'recook', 'nitrogen', 'unbak', 'lech', 'caught', 'tongu', 'peppermint', 'fed', 'parsnip', 'slide', 'essenti', 'overli', 'beetroot', 'tahini', 'diastat', 'summer', 'highest', 'mini', 'gravlax', 'word', 'recent', 'pocket', 'version', 'intact', 'upsid', 'wast', 'rotten', 'chowder', 'soybean', 'uneven', 'papaya', 'appet', 'starchi', 'focaccia', 'tandoori', 'keto', 'intend', 'principl', 'what', 'east', 'carton', 'gell', 'swirl', 'gold', 'wed', 'reprocess', 'elimin', 'settl', 'uniform', 'guava', 'master', 'defin', 'canist', 'fig', 'cloth', 'jackfruit', 'omelet', 'reproduc', 'toughen', 'chalki', 'tangi', 'provid', 'puf', 'inconsist', 'poppi', 'hull', 'prove', 'queso', 'transpar', 'thoroughli', 'hurt', 'thread', 'slowli', 'mimic', 'count', 'underneath', 'molten', 'difficult', 'major', 'smokey', 'countertop', 'radish', 'un', 'crackl', 'tail', 'enzym', 'nixtam', 'paratha', 'vent', 'millet', 'vital', 'flavorless', 'chick', 'cooler', 'whipper', 'skill', 'enrich', 'tagin', 'environ', 'counteract', 'gt', 'paint', 'bloom', 'play', 'carri', 'string', 'grater', 'exterior', 'plu', 'quesadilla', 'otherwis', 'distinguish', 'viscou', 'mostli', 'suffici', 'poke', 'decid', 'zone', 'hook', 'immers', 'froze', 'starbuck', 'dashi', 'inner', 'potenti', 'caramelis', 'shot', 'messi', 'usda', 'blow', 'thyme', 'granit', 'ye', 'climat', 'carnita', 'south', 'hair', 'ramekin', 'clog', 'charger', 'foami', 'disadvantag', 'info', 'jack', 'gelato', 'sale', 'commonli', 'porcelain', 'total', 'aka', 'bourguignon', 'screw', 'pesticid', 'mistak', 'cleanli', 'crown', 'natto', 'penetr', 'bass', 'panko', 'velvet', 'deli', 'scrape', 'pine', 'perform', 'idli', 'guacamol', 'ranch', 'risen', 'regul', 'clad', 'quicker', 'reconstitut', 'carob', 'coke', 'despit', 'cafe', 'wafer', 'inhibit', 'celsiu', 'dulc', 'swedish', 'averag', 'artisan', 'himalayan', 'bark', 'disast', 'substitu', 'isi', 'deposit', 'flourless', 'mung', 'thinner', 'strategi', 'beaten', 'carbohydr', 'inject', 'cappuccino', 'peeler', 'degrad', 'levain', 'feasibl', 'assum', 'guest', 'yellowish', 'valid', 'deliv', 'fritter', 'ammonia', 'blacken', 'halloumi', 'popov', 'stalk', 'allerg', 'ant', 'though', 'durum', 'collagen', 'adult', 'genois', 'hr', 'restor', 'tupperwar', 'mouldi', 'gourd', 'oregano', 'recipi', 'harina', 'cheaper', 'locat', 'length', 'accompani', 'downsid', 'ny', 'rim', 'differenti', 'julia', 'nori', 'wellington', 'erythritol', 'bigger', 'mainten', 'chew', 'macer', 'breath', 'truli', 'skinless', 'tripl', 'doughi', 'honeycomb', 'categori', 'uniqu', 'splenda', 'teriyaki', 'offic', 'ash', 'pinch', 'flaxse', 'tissu', 'soya', 'kfc', 'disinfect', 'combo', 'leather', 'elderberri', 'sprayer', 'video', 'wire', 'mari', 'crumpet', 'europ', 'seep', 'flatten', 'art', 'shiitak', 'purg', 'love', 'cours', 'georg', 'cap', 'obtain', 'dot', 'symbol', 'kombu', 'bloodi', 'carcass', 'hungarian', 'gave', 'group', 'la', 'fruitcak', 'throughout', 'swap', 'en', 'burst', 'cane', 'molecular', 'scobi', 'canadian', 'blowtorch', 'plantain', 'santoku', 'turnip', 'cater', 'longest', 'smoki', 'premix', 'detect', 'thinli', 'prolong', 'maida', 'current', 'object', 'behav', 'pepperoni', 'tight', 'calzon', 'canada', 'scovil', 'beforehand', 'wipe', 'either', 'height', 'lava', 'act', 'centuri', 'rel', 'halfway', 'drumstick', 'neapolitan', 'denatur', 'forg', 'glue', 'ident', 'depend', 'hen', 'stronger', 'arab', 'tint', 'macadamia', 'liquifi', 'complex', 'bleed', 'silki', 'whilst', 'physic', 'empti', 'dietari', 'potenc', 'wagyu', 'write', 'germ', 'built', 'beater', 'rectangular', 'crispier', 'spit', 'peak', 'vein', 'shellfish', 'detail', 'outag', 'minimis', 'durian', 'spare', 'wattag', 'histori', 'indefinit', 'along', 'correspond', 'perfectli', 'speck', 'five', 'elast', 'bin', 'creuset', 'insert', 'yeasti', 'anti', 'mole', 'lumpi', 'splash', 'kiwi', 'goo', 'delic', 'sherbet', 'unabl', 'itali', 'vermouth', 'rip', 'slime', 'broke', 'danish', 'sparkl', 'think', 'numb', 'toxin', 'dimens', 'churn', 'pump', 'ate', 'promot', 'plank', 'hit', 'outdoor', 'slight', 'extrud', 'popper', 'gammon', 'okara', 'mackerel', 'rot', 'brick', 'soapi', 'acet', 'strudel', 'foie', 'o', 'tier', 'hock', 'gastronomi', 'assembl', 'digit', 'futur', 'restrict', 'scissor', 'scrub', 'flank', 'cleaver', 'weak', 'scotch', 'japan', 'atta', 'lodg', 'websit', 'england', 'wilt', 'roe', 'fahrenheit', 'trash', 'especi', 'cone', 'spatchcock', 'horribl', 'calamari', 'peri', 'massag', 'sand', 'viscos', 'pancetta', 'longev', 'semisweet', 'react', 'knuckl', 'matzo', 'portugues', 'ridg', 'ribey', 'max', 'tandoor', 'bright', 'sage', 'airi', 'today', 'misto', 'caraway', 'goulash', 'shortcrust', 'brownish', 'foreman', 'giant', 'flash', 'mirepoix', 'simul', 'teabag', 'shall', 'die', 'garag', 'hong', 'nitrat', 'across', 'window', 'szechuan', 'scoop', 'kansui', 'lightli', 'sealer', 'dome', 'bisquick', 'flexibl', 'technolog', 'wors', 'fishi', 'le', 'bucket', 'difficulti', 'factori', 'posit', 'snow', 'petal', 'tall', 'astring', 'hydrogen', 'cutleri', 'failur', 'cell', 'kong', 'upper', 'funnel', 'infrar', 'famili', 'densiti', 'occur', 'halal', 'dirti', 'urad', 'roller', 'impli', 'spheric', 'shoot', 'kilo', 'essenc', 'bulb', 'australia', 'world', 'domest', 'syphon', 'child', 'autolys', 'variant', 'curv', 'predict', 'exposur', 'snap', 'zojirushi', 'clumpi', 'gamey', 'rotat', 'train', 'quit', 'curl', 'ventil', 'daili', 'vapor', 'pungenc', 'util', 'moroccan', 'drizzl', 'pierogi', 'oak', 'sensit', 'ear', 'forc', 'sludg', 'kid', 'hors', 'kvass', 'firmer', 'takeaway', 'bison', 'return', 'sriracha', 'unpeel', 'explan', 'occasion', 'unfrozen', 'took', 'bare', 'india', 'offici', 'doesnt', 'spark', 'characterist', 'jell', 'display', 'disappear', 'mellow', 'grassi', 'phyllo', 'pouch', 'skip', 'wheel', 'unwant', 'vin', 'thermal', 'vine', 'output', 'diffus', 'technic', 'african', 'unsatur', 'visual', 'refri', 'odour', 'involv', 'late', 'neg', 'liquefi', 'capabl', 'cylind', 'biriyani', 'sensat', 'serrat', 'angl', 'tweak', 'scientif', 'camembert', 'bailey', 'probe', 'hardwar', 'magnet', 'whistl', 'northern', 'dextros', 'tikka', 'jasmin', 'ago', 'popsicl', 'oxtail', 'mush', 'seriou', 'capsicum', 'breed', 'depth', 'tv', 'psyllium', 'gourmet', 'unknown', 'velveeta', 'transluc', 'fluffier', 'basqu', 'till', 'consequ', 'al', 'baklava', 'port', 'tangzhong', 'percent', 'hotter', 'shelv', 'histor', 'k', 'safer', 'divid', 'fungu', 'grown', 'biscotti', 'ragu', 'bain', 'error', 'unattend', 'mid', 'pasti', 'inexpens', 'springform', 'hazard', 'chard', 'durabl', 'imposs', 'choco', 'compot', 'wholem', 'copycat', 'centr', 'romanian', 'sole', 'gazpacho', 'crema', 'bunch', 'mayb', 'teff', 'click', 'ascorb', 'mandarin', 'deterg', 'glace', 'disk', 'fragranc', 'mud', 'liner', 'slurri', 'preseason', 'apparatu', 'quark', 'crunch', 'needl', 'spill', 'stockpot', 'lifetim', 'outcom', 'region', 'annatto', 'farro', 'uniformli', 'turntabl', 'alon', 'hygien', 'slab', 'ale', 'nib', 'strainer', 'mochi', 'ordinari', 'wonder', 'western', 'sichuan', 'overproof', 'drinkabl', 'fructos', 'lo', 'diabet', 'lollipop', 'accomod', 'cellulos', 'garbag', 'halva', 'taffi', 'fava', 'bisqu', 'streak', 'panetton', 'amaranth', 'thrown', 'unpasteur', 'dirt', 'fruiti', 'neck', 'quickbread', 'reset', 'jamon', 'particl', 'unpleas', 'drawback', 'whiski', 'demi', 'pecorino', 'spatter', 'boeuf', 'moos', 'everyday', 'worn', 'tzatziki', 'univers', 'kiwifruit', 'brought', 'pare', 'agav', 'eg', 'tamari', 'quinc', 'spongi', 'arborio', 'menthol', 'flow', 'pinto', 'share', 'talk', 'trout', 'lemongrass', 'bore', 'dump', 'overmix', 'alarm', 'limp', 'vintag', 'remedi', 'valv', 'campfir', 'blister', 'poor', 'choy', 'rubber', 'gra', 'hemp', 'tbsp', 'kraft', 'buffet', 'relationship', 'crusti', 'croquett', 'injera', 'custom', 'peruvian', 'tropic', 'mignon', 'loosen', 'jug', 'mistakenli', 'ined', 'asafoetida', 'floor', 'infect', 'kit', 'mail', 'chimney', 'fell', 'subtitut', 'invent', 'salin', 'hang', 'strata', 'amateur', 'warn', 'brat', 'cheesemak', 'sensibl', 'none', 'harissa', 'puffi', 'street', 'emulsif', 'gorgonzola', 'dioxid', 'mead', 'versa', 'panini', 'biltong', 'simplest', 'champagn', 'cannelloni', 'hike', 'iodiz', 'darker', 'note', 'sinc', 'freshwat', 'chipotl', 'korma', 'code', 'unroast', 'tougher', 'draw', 'casein', 'mouthfeel', 'lieu', 'eggi', 'cobbler', 'mothbal', 'dijon', 'pain', 'aubergin', 'ish', 'otg', 'soba', 'site', 'waxi', 'allspic', 'couvertur', 'classifi', 'insul', 'stretchi', 'yukon', 'crisper', 'circl', 'oz', 'portobello', 'wholewheat', 'germin', 'mirin', 'print', 'snake', 'moussaka', 'rusti', 'samosa', 'kabab', 'cheapest', 'crunchier', 'sel', 'poblano', 'sugari', 'lessen', 'nest', 'bonito', 'quarter', 'linger', 'proteas', 'shave', 'leach', 'eclair', 'paus', 'event', 'shabu', 'accord', 'coca', 'improvis', 'forev', 'search', 'problemat', 'aquafaba', 'boudin', 'parcook', 'badli', 'said', 'notic', 'emerg', 'tong', 'exud', 'wonton', 'anglais', 'ostrich', 'quorn', 'rough', 'respect', 'drawer', 'mate', 'waterbath', 'curli', 'hk', 'upon', 'afternoon', 'connect', 'exampl', 'initi', 'gut', 'omit', 'elev', 'confection', 'minestron', 'fizzi', 'chemex', 'betti', 'cuisinart', 'bok', 'treatment', 'silk', 'patch', 'ceylon', 'shawarma', 'refridger', 'sassafra', 'latex', 'roughli', 'cabinet', 'kick', 'teach', 'adequ', 'citi', 'pastrami', 'mull', 'frigidair', 'topsid', 'collard', 'gordon', 'lolli', 'horizont', 'romano', 'madelein', 'intak', 'chive', 'tonic', 'fairli', 'deterior', 'default', 'desert', 'bent', 'gap', 'grapese', 'koji', 'complement', 'chlorin', 'cassava', 'treacl', 'pore', 'takeout', 'cent', 'taiyaki', 'stroganoff', 'cannoli', 'btu', 'introduc', 'blossom', 'mr', 'cedar', 'knob', 'marsala', 'unusu', 'coq', 'anybodi', 'situat', 'bead', 'scald', 'bakewar', 'six', 'saver', 'teeth', 'st', 'hog', 'storebought', 'licoric', 'resembl', 'hydroxid', 'homini', 'research', 'hing', 'vegemit', 'slaw', 'trip', 'pet', 'silica', 'tadka', 'underbak', 'tort', 'bratwurst', 'anymor', 'interrupt', 'diamond', 'perhap', 'southern', 'calibr', 'earthi', 'student', 'abil', 'abalon', 'manner', 'lock', 'stapl', 'ran', 'bomb', 'lavend', 'reusabl', 'construct', 'flamb', 'conch', 'horchata', 'blackberri', 'kangaroo', 'propion', 'harder', 'cat', 'arm', 'wrinkl', 'opaqu', 'partli', 'skyr', 'mojito', 'gift', 'shaken', 'express', 'multipli', 'reviv', 'thermostat', 'pictur', 'children', 'movi', 'gain', 'whitebait', 'ladl', 'noir', 'carolina', 'calor', 'offset', 'shorter', 'sum', 'bump', 'tannin', 'surround', 'visibl', 'tvp', 'franc', 'australian', 'litr', 'constant', 'simultan', 'weep', 'nozzl', 'unbleach', 'carpaccio', 'fundament', 'marjoram', 'dum', 'gasket', 'trap', 'except', 'mind', 'san', 'safest', 'tie', 'groat', 'candl', 'realiz', 'trade', 'drier', 'cheat', 'drunk', 'shock', 'sport', 'tran', 'cling', 'pepe', 'glow', 'frittata', 'unseal', 'dauphinois', 'fuzzi', 'gaug', 'automat', 'coleslaw', 'cleaner', 'assist', 'creamier', 'ferrou', 'sturdi', 'newli', 'bulg', 'crowd', 'bulgur', 'victoria', 'lift', 'meyer', 'compromis', 'cutlet', 'potluck', 'puddl', 'di', 'transglutaminas', 'bacteri', 'puck', 'ambient', 'basi', 'track', 'quail', 'foreign', 'moment', 'krispi', 'lukewarm', 'knock', 'chayot', 'margarita', 'asid', 'mandolin', 'wider', 'callebaut', 'butan', 'gyro', 'prebak', 'fume', 'workabl', 'integr', 'econom', 'bearnais', 'taint', 'choc', 'her', 'probiot', 'somewher', 'pluck', 'kabob', 'cleav', 'mention', 'bran', 'june', 'moth', 'asia', 'untemp', 'amaretto', 'shuck', 'monkfish', 'cardboard', 'brewer', 'conveni', 'padano', 'haggi', 'perish', 'beauti', 'pic', 'web', 'amaretti', 'claim', 'fin', 'velout', 'bavarian', 'darken', 'amber', 'morel', 'mesquit', 'smoothli', 'pandan', 'engin', 'easter', 'whelk', 'noth', 'muesli', 'gluey', 'seltzer', 'access', 'stori', 'crispiest', 'discov', 'ware', 'moister', 'sodastream', 'tartin', 'sorbat', 'fleur', 'nugget', 'fingernail', 'chanc', 'tabletop', 'hoisin', 'optimum', 'carn', 'sundri', 'surviv', 'arugula', 'sampl', 'multipurpos', 'chana', 'saltwat', 'lieg', 'symmetr', 'trunk', 'upright', 'heel', 'pathogen', 'grana', 'cryovac', 'spin', 'author', 'raclett', 'maximis', 'perceiv', 'primari', 'net', 'paw', 'pitcher', 'borosil', 'shaox', 'clarif', 'premad', 'unsanitari', 'stripe', 'presoak', 'readymad', 'scraper', 'bleu', 'unmark', 'corrod', 'calphalon', 'tsp', 'forgotten', 'latk', 'chopstick', 'devil', 'titanium', 'galang', 'ornament', 'contribut', 'twist', 'invest', 'ahi', 'withstand', 'sunlight', 'welsh', 'retard', 'sideway', 'reaper', 'vertic', 'slower', 'bpa', 'convex', 'uv', 'action', 'programm', 'lebkuchen', 'dredg', 'arepa', 'displac', 'comparison', 'descript', 'lengthen', 'cheapli', 'quickest', 'boy', 'toad', 'biolog', 'intensifi', 'chapatti', 'workflow', 'shatter', 'distanc', 'inaccur', 'colleg', 'jamaican', 'ptfe', 'bhaji', 'handheld', 'desalin', 'alright', 'rocket', 'heard', 'transform', 'chimichurri', 'school', 'greec', 'log', 'aw', 'liquidi', 'nectarin', 'meet', 'brunch', 'birthday', 'bullet', 'placement', 'tend', 'boston', 'boba', 'precipit', 'nh', 'boul', 'ika', 'gadget', 'imag', 'deriv', 'oversalt', 'restart', 'everyon', 'gun', 'isol', 'razor', 'courgett', 'ramsay', 'manicotti', 'debon', 'ocean', 'mere', 'pane', 'sumac', 'topper', 'sparerib', 'dial', 'random', 'goopi', 'repeat', 'aioli', 'algin', 'pheasant', 'chart', 'flatul', 'weber', 'linear', 'tablet', 'indonesian', 'ikea', 'overwork', 'won', 'negat', 'slot', 'cordon', 'boar', 'turner', 'plug', 'oolong', 'escargot', 'substanti', 'bud', 'aga', 'beignet', 'cardamon', 'microscop', 'tightli', 'cricket', 'eel', 'globe', 'newbi', 'eggwash', 'london', 'mcdonald', 'marzano', 'pellet', 'confirm', 'bond', 'class', 'solv', 'gotham', 'hint', 'psi', 'finnish', 'foolproof', 'frappuccino', 'mastic', 'bao', 'daniel', 'friendship', 'duplic', 'absorpt', 'b', 'isnt', 'push', 'probabl', 'charg', 'reboil', 'unbreak', 'pigment', 'picnic', 'beneath', 'cornflour', 'ultra', 'stink', 'chamber', 'sting', 'blondi', 'muscovado', 'tang', 'multigrain', 'trader', 'mountain', 'fresco', 'spain', 'secur', 'crank', 'absolut', 'chocolat', 'tank', 'halwa', 'nitrou', 'earlier', 'fudgi', 'kopi', 'hut', 'butteri', 'rosett', 'luwak', 'balloon', 'respons', 'foul', 'establish', 'spreader', 'seper', 'seekh', 'speak', 'aliv', 'rusk', 'georgian', 'liquoric', 'tripe', 'greaseproof', 'aeropress', 'war', 'conflict', 'ghost', 'join', 'zabaglion', 'intoler', 'alik', 'hybrid', 'sanitari', 'prune', 'grew', 'exceed', 'swordfish', 'bunn', 'woodi', 'susbtitut', 'silken', 'nearli', 'circular', 'face', 'baba', 'groov', 'toler', 'mincemeat', 'instapot', 'shapton', 'tomatillo', 'peke', 'compat', 'torn', 'frier', 'bulgarian', 'salsifi', 'west', 'shrub', 'greenish', 'ninja', 'kofta', 'watt', 'strictli', 'pale', 'premium', 'tarragon', 'violent', 'absorbt', 'colder', 'anyway', 'interact', 'achiot', 'inflat', 'snickerdoodl', 'terminolog', 'nog', 'sequenc', 'rhum', 'bang', 'slipperi', 'gear', 'eu', 'uncur', 'orzo', 'biggest', 'hotcak', 'nasti', 'pari', 'support', 'tradeoff', 'modif', 'qualifi', 'mocha', 'hiss', 'ladi', 'nake', 'offal', 'improperli', 'lactofer', 'turtl', 'beeswax', 'filo', 'kamado', 'fibrou', 'task', 'modernist', 'saw', 'mildew', 'over', 'dahi', 'synthet', 'doesn', 'cantaloup', 'methylcellulos', 'opposit', 'escap', 'genoves', 'capac', 'jamun', 'bold', 'sat', 'fewer', 'rodent', 'unstick', 'coli', 'decaf', 'miracl', 'hotdog', 'mine', 'coland', 'fortifi', 'texa', 'ikon', 'wide', 'intuit', 'cole', 'eggshel', 'bronz', 'ooz', 'spelt', 'gradual', 'slash', 'sap', 'spike', 'diamet', 'demerara', 'brinjal', 'deactiv', 'lokum', 'cupboard', 'monday', 'papillot', 'brazil', 'chicori', 'ton', 'loui', 'incorrectli', 'toward', 'steelhead', 'regularli', 'butterfli', 'yesterday', 'flop', 'ultim', 'fda', 'chain', 'fuzz', 'multicook', 'spaetzl', 'cola', 'pint', 'global', 'claw', 'ink', 'dy', 'glasswar', 'motor', 'reseason', 'spritz', 'club', 'insist', 'crouton', 'variabl', 'extent', 'permeat', 'sulfur', 'blanc', 'centrifug', 'trigger', 'ammonium', 'spore', 'malai', 'adzuki', 'disolv', 'intent', 'tomorrow', 'data', 'ppm', 'emit', 'load', 'scent', 'philip', 'balkan', 'rooster', 'cacio', 'haddock', 'juicier', 'circul', 'zero', 'mace', 'dad', 'deer', 'tooth', 'paradis', 'succul', 'bound', 'joe', 'deepli', 'rosehip', 'bed', 'awar', 'job', 'hottest', 'gizzard', 'fleck', 'laid', 'chopper', 'isra', 'cloud', 'spirit', 'tatin', 'nonalcohol', 'pungent', 'tub', 'beard', 'passata', 'burr', 'freezabl', 'relax', 'braid', 'whose', 'spruce', 'combat', 'irrit', 'xma', 'unidentifi', 'heavili', 'crayfish', 'strongli', 'trace', 'refrigar', 'reflect', 'shakshuka', 'da', 'leech', 'pith', 'soil', 'maggi', 'serbia', 'victorinox', 'hermet', 'tan', 'stump', 'galett', 'tibetan', 'buri', 'wisdom', 'carnauba', 'residenti', 'databas', 'empanada', 'saccharomyc', 'spoilt', 'morton', 'caribbean', 'lubric', 'sharkfin', 'yak', 'devein', 'madeira', 'overrun', 'alaskan', 'clabber', 'arrowroot', 'planetari', 'shine', 'mexico', 'degass', 'unplug', 'clone', 'smelli', 'citrat', 'perfor', 'spicier', 'potent', 'kim', 'alton', 'tech', 'mei', 'couch', 'balm', 'thermophil', 'marscapon', 'nail', 'gradient', 'navi', 'erod', 'mise', 'goya', 'costa', 'crispbread', 'uncommon', 'threshold', 'interfac', 'cakey', 'plenti', 'unsightli', 'flakier', 'backyard', 'castor', 'chest', 'murgh', 'trifl', 'pomelo', 'montgomeri', 'chantilli', 'coffeemak', 'compet', 'conge', 'lactobacillu', 'askew', 'yougurt', 'blast', 'yeastless', 'gaseou', 'eas', 'champignon', 'benzoat', 'unground', 'offer', 'sprat', 'macau', 'dozen', 'monster', 'mistaken', 'cerevisia', 'hotpot', 'coppa', 'rosewat', 'suck', 'maldon', 'momo', 'stamp', 'cri', 'neccesari', 'readili', 'cm', 'airier', 'bacalao', 'redden', 'therefor', 'carcinogen', 'scorch', 'twine', 'quiet', 'didnt', 'caram', 'aim', 'progress', 'minimalist', 'penn', 'swollen', 'anova', 'heirloom', 'fragil', 'daikon', 'knowledg', 'buckl', 'emul', 'posset', 'roug', 'bristl', 'suffer', 'moong', 'doctor', 'cantones', 'montreal', 'detach', 'rapese', 'orka', 'tout', 'submers', 'analysi', 'game', 'iodin', 'fault', 'chapathi', 'slaughter', 'acidifi', 'quenel', 'crout', 'leatheri', 'michelin', 'bernais', 'tonka', 'equat', 'banoffe', 'drag', 'rectangl', 'bounci', 'match', 'buildup', 'dolma', 'incred', 'bicarb', 'kenwood', 'edit', 'swell', 'sizzler', 'nyc', 'creol', 'succeed', 'sulphit', 'nylon', 'program', 'alla', 'sandi', 'frypan', 'atlant', 'hatch', 'rain', 'tawa', 'address', 'kelp', 'semifreddo', 'fanci', 'grenadin', 'concav', 'hasn', 'lit', 'blown', 'overpoweringli', 'hindi', 'fun', 'massiv', 'acrid', 'mount', 'brazilian', 'crustacean', 'sent', 'shish', 'subtili', 'volatil', 'potstick', 'cluster', 'pam', 'mister', 'ethanol', 'carmel', 'belgium', 'disregard', 'malaysia', 'rasam', 'pat', 'nigari', 'portafilt', 'swamp', 'parmigiano', 'seller', 'flavoursom', 'matt', 'emeril', 'julienn', 'hakka', 'oelek', 'money', 'jambalaya', 'road', 'damascu', 'irradi', 'instantpot', 'clementin', 'extractor', 'wool', 'acacia', 'romain', 'jerk', 'lox', 'ness', 'legitim', 'pak', 'campagn', 'subtl', 'ziploc', 'liber', 'straw', 'nose', 'tonkotsu', 'spreadabl', 'criteria', 'gochujang', 'cuttlefish', 'hashbrown', 'entre', 'cockl', 'jami', 'scottish', 'turducken', 'coin', 'benefici', 'jame', 'enlarg', 'schmaltz', 'sangria', 'onida', 'muscat', 'templat', 'ptitim', 'catfish', 'sec', 'ragout', 'rapidli', 'tenderis', 'gather', 'africa', 'natt', 'floater', 'recal', 'forget', 'fibr', 'tagliatel', 'narrow', 'bow', 'fresher', 'useabl', 'alphabet', 'confectionari', 'gypsum', 'interv', 'rutabaga', 'keurig', 'unwittingli', 'constitut', 'ginseng', 'osmosi', 'saturday', 'reformul', 'silversid', 'rpm', 'unset', 'creas', 'pose', 'duchess', 'accuraci', 'caviti', 'reconcil', 'rabe', 'lattic', 'terrin', 'off', 'resum', 'belong', 'buyer', 'biscoff', 'amish', 'slack', 'lebanes', 'dukkah', 'electron', 'send', 'medicin', 'korea', 'cylindr', 'quattro', 'segment', 'pasteuris', 'paramet', 'kielbasa', 'stopper', 'venu', 'critic', 'monterey', 'squeezer', 'beansprout', 'eucalyptu', 'provenc', 'guajillo', 'rendang', 'caputo', 'trust', 'context', 'meld', 'rome', 'powderi', 'tabasco', 'calros', 'aleppo', 'interfer', 'gruyer', 'extrus', 'quaker', 'tempeh', 'orecchiett', 'cheescak', 'theoret', 'bourguignonn', 'obviou', 'tex', 'refrozen', 'smallest', 'spine', 'screen', 'tisan', 'ajar', 'presto', 'enrob', 'sambal', 'gyoza', 'span', 'colorless', 'weekend', 'neccessari', 'analog', 'cough', 'w', 'row', 'iceland', 'flavourless', 'var', 'law', 'unlik', 'exclus', 'purifi', 'r', 'enclos', 'acquir', 'x', 'trotter', 'malaysian', 'mainli', 'vermicelli', 'hershey', 'caesar', 'brassica', 'queri', 'pierr', 'pimento', 'slim', 'lax', 'ten', 'boat', 'hardboil', 'overheat', 'maggot', 'p', 'glossi', 'auger', 'dous', 'jacqu', 'autom', 'rig', 'coffeepot', 'jerusalem', 'hip', 'intermitt', 'celiac', 'marri', 'spam', 'allig', 'foot', 'tre', 'bait', 'genet', 'kohlrabi', 'nacho', 'whatev', 'n', 'skirt', 'truffel', 'maraschino', 'tomatoey', 'j', 'gochugaru', 'plump', 'cockroach', 'tsuyu', 'lamin', 'user', 'm', 'lao', 'lick', 'equivil', 'parma', 'tentacl', 'minor', 'orient', 'kinda', 'polypropylen', 'path', 'rican', 'refrigr', 'd', 'ebelskiv', 'heck', 'yakisoba', 'tapenad', 'lan', 'pregnant', 'diminish', 'fade', 'overwhelm', 'pizzel', 'nitrit', 'escoffi', 'hotel', 'specialti', 'jiaozi', 'gulab', 'flute', 'sank', 'pollen', 'rump', 'knot', 'tighten', 'tendon', 'oversteep', 'syrupi', 'mom', 'elect', 'hassl', 'crystallis', 'advers', 'gf', 'chelsea', 'seedless', 'exclud', 'gai', 'phase', 'commer', 'coal', 'shitak', 'sloe', 'unwash', 'arent', 'spent', 'gouda', 'rememb', 'hop', 'viabl', 'calabrian', 'skinni', 'scrap', 'impastata', 'cholesterol', 'leakag', 'pakora', 'dont', 'nondairi', 'unmix', 'disodium', 'cattl', 'ge', 'overpow', 'lab', 'stinki', 'versatil', 'verifi', 'angostura', 'infest', 'pralin', 'nerveux', 'peroxid', 'sunchok', 'waterston', 'acceler', 'bend', 'hickori', 'platter', 'male', 'complic', 'uned', 'rubbermaid', 'forward', 'agit', 'stout', 'braiser', 'mi', 'unrip', 'proofer', 'dreg', 'invis', 'allium', 'beani', 'aspic', 'arctic', 'reli', 'stiffen', 'justifi', 'brigadeiro', 'concord', 'springi', 'frustrat', 'torta', 'pretti', 'oddli', 'fettuccin', 'nitrid', 'mg', 'dimpl', 'fishmong', 'ss', 'implic', 'bother', 'particularli', 'faulti', 'su', 'mitig', 'reseal', 'coast', 'anaheim', 'paellera', 'hind', 'leanest', 'ambigu', 'shami', 'reuseabl', 'scari', 'waterproof', 'overs', 'alo', 'tinfoil', 'glycerin', 'perman', 'navel', 'classico', 'muski', 'inset', 'ma', 'binari', 'uzbek', 'gmo', 'receip', 'mudcak', 'shin', 'pringl', 'eater', 'prickli', 'layout', 'fever', 'told', 'associ', 'balti', 'filler', 'gingersnap', 'vinegari', 'persimmon', 'hub', 'vegat', 'locust', 'bircher', 'hay', 'anchor', 'newspap', 'banneton', 'bonbon', 'bouch', 'ribbon', 'disc', 'flatter', 'fabric', 'sterno', 'glucomannan', 'cereu', 'schedul', 'hardli', 'albumin', 'combi', 'oleoresin', 'ancient', 'court', 'magnesium', 'thousand', 'fair', 'deconstruct', 'plunger', 'mar', 'gastronorm', 'couli', 'krapfen', 'kashmiri', 'ziplock', 'kaffir', 'blond', 'decod', 'milkshak', 'iberico', 'hat', 'yr', 'nopal', 'nuke', 'index', 'squeaki', 'poori', 'mock', 'cubic', 'botulinum', 'decay', 'disher', 'squeak', 'preset', 'buzz', 'swing', 'vanillin', 'rag', 'ignit', 'sputter', 'cheesi', 'glutam', 'static', 'dim', 'suspend', 'clip', 'guard', 'candlenut', 'ratatouil', 'seek', 'windowpan', 'sunday', 'resolidifi', 'batteri', 'stagioni', 'pillsburi', 'upgrad', 'unsuit', 'legal', 'lactas', 'diseas', 'reggiano', 'phrase', 'doner', 'superior', 'undersid', 'hack', 'curcumin', 'pumpernickel', 'bacillu', 'softwar', 'struggl', 'diglycerid', 'wand', 'mongolian', 'adulter', 'quadrupl', 'zwill', 'porkchop', 'centigrad', 'authorit', 'evil', 'cal', 'blintz', 'antioxid', 'dual', 'clock', 'depressur', 'rillett', 'halogen', 'kobe', 'pronounc', 'spagetti', 'fireplac', 'mercuri', 'report', 'minti', 'comprehens', 'curiou', 'omlett', 'insecticid', 'brunost', 'wolf', 'tamper', 'canard', 'tame', 'uncut', 'callet', 'minu', 'section', 'link', 'sturgeon', 'seven', 'rte', 'ew', 'john', 'shown', 'ex', 'membran', 'supplement', 'junip', 'mildli', 'dalgona', 'santa', 'keeper', 'lindt', 'hear', 'sucros', 'resolv', 'paperi', 'pyrophosph', 'tonight', 'beeton', 'philadelphia', 'shun', 'nectar', 'donvier', 'milder', 'unhul', 'slowcook', 'pulver', 'constantli', 'satay', 'theme', 'microbi', 'kansa', 'heal', 'profiterol', 'xylitol', 'heap', 'firebrick', 'disabl', 'vaccum', 'evid', 'crutch', 'fluctuat', 'lysol', 'comal', 'lyche', 'muslin', 'matzoh', 'fillo', 'ignor', 'birch', 'seemingli', 'concoct', 'scandinavian', 'arriv', 'meaning', 'nigiri', 'bolster', 'weld', 'halloween', 'triangular', 'compressor', 'doubanjiang', 'desk', 'ladyfing', 'mathri', 'duo', 'goreng', 'el', 'underdon', 'third', 'scour', 'lighten', 'conundrum', 'sneez', 'sucre', 'spiki', 'guancial', 'rejuvelac', 'latin', 'feuill', 'perspect', 'elong', 'file', 'island', 'zester', 'worst', 'kazan', 'jewish', 'drill', 'concept', 'apron', 'hooch', 'vera', 'crocker', 'california', 'werther', 'flatwar', 'handmak', 'graph', 'katsu', 'substut', 'liverwurst', 'burmes', 'subway', 'oop', 'hario', 'refresh', 'vinegarett', 'wiener', 'destin', 'muscl', 'bengal', 'malfunct', 'cheesesteak', 'suckl', 'algorithm', 'holiday', 'sarsaparilla', 'pemmican', 'mayonais', 'dislik', 'germani', 'centric', 'sag', 'adhes', 'barista', 'radioact', 'loud', 'austrian', 'accent', 'qt', 'unrend', 'calabaza', 'unsur', 'instal', 'setup', 'urgent', 'carrageenan', 'nomin', 'margerin', 'solar', 'flare', 'lunchbox', 'patata', 'teacak', 'onigiri', 'erupt', 'citron', 'funki', 'discharg', 'grime', 'accomplish', 'overrip', 'exhaust', 'cuban', 'difer', 'tarnish', 'smash', 'weed', 'falvour', 'novemb', 'nestl', 'allergen', 'hibachi', 'jicama', 'overpressur', 'rope', 'utilis', 'foodborn', 'turnov', 'amus', 'particul', 'crop', 'mapp', 'taro', 'domin', 'onto', 'extens', 'gravel', 'hung', 'molecul', 'shield', 'servic', 'tequila', 'licens', 'mont', 'proceed', 'granular', 'chakki', 'onioni', 'macaroon', 'peanutbutt', 'preval', 'farmer', 'brain', 'lupin', 'lightweight', 'cannellini', 'flapjack', 'immun', 'lotu', 'provolon', 'cellar', 'corner', 'detector', 'maiz', 'cooldown', 'cornichon', 'ping', 'vice', 'makhani', 'backpack', 'mono', 'wreck', 'eatabl', 'unnecessari', 'sabji', 'anywher', 'puffier', 'mocktail', 'hydrocolloid', 'vendor', 'logic', 'bruschetta', 'barrel', 'roil', 'strand', 'lima', 'duxel', 'buffer', 'smart', 'breadi', 'hospit', 'unripen', 'pulao', 'matzah', 'monk', 'observ', 'briefli', 'catsup', 'chewier', 'meter', 'prick', 'theori', 'crudo', 'ju', 'omega', 'newer', 'quantifi', 'manipul', 'shrivel', 'khinkali', 'thermomix', 'julep', 'thought', 'bhut', 'venetian', 'russet', 'mastrad', 'sofrito', 'persian', 'confect', 'myth', 'katsuobushi', 'dryer', 'interest', 'mex', 'testicl']"
     ]
    }
   ],
   "source": [
    "count_vectorizer_model.vocabulary"
   ]
  },
  {
   "cell_type": "code",
   "execution_count": 136,
   "id": "d3522d84",
   "metadata": {},
   "outputs": [
    {
     "data": {
      "application/vnd.jupyter.widget-view+json": {
       "model_id": "a73aa3318c2047269cfc325b9afeebad",
       "version_major": 2,
       "version_minor": 0
      },
      "text/plain": [
       "VBox()"
      ]
     },
     "metadata": {},
     "output_type": "display_data"
    },
    {
     "data": {
      "application/vnd.jupyter.widget-view+json": {
       "model_id": "",
       "version_major": 2,
       "version_minor": 0
      },
      "text/plain": [
       "FloatProgress(value=0.0, bar_style='info', description='Progress:', layout=Layout(height='25px', width='50%'),…"
      ]
     },
     "metadata": {},
     "output_type": "display_data"
    },
    {
     "name": "stdout",
     "output_type": "stream",
     "text": [
      "4551"
     ]
    }
   ],
   "source": [
    "len(count_vectorizer_model.vocabulary)"
   ]
  },
  {
   "cell_type": "code",
   "execution_count": 137,
   "id": "eade4b15",
   "metadata": {},
   "outputs": [
    {
     "data": {
      "application/vnd.jupyter.widget-view+json": {
       "model_id": "7f2836c425ed49f892ba1f273386dad4",
       "version_major": 2,
       "version_minor": 0
      },
      "text/plain": [
       "VBox()"
      ]
     },
     "metadata": {},
     "output_type": "display_data"
    },
    {
     "data": {
      "application/vnd.jupyter.widget-view+json": {
       "model_id": "",
       "version_major": 2,
       "version_minor": 0
      },
      "text/plain": [
       "FloatProgress(value=0.0, bar_style='info', description='Progress:', layout=Layout(height='25px', width='50%'),…"
      ]
     },
     "metadata": {},
     "output_type": "display_data"
    },
    {
     "name": "stdout",
     "output_type": "stream",
     "text": [
      "+--------------------+\n",
      "|           term_freq|\n",
      "+--------------------+\n",
      "|(4551,[136,729],[...|\n",
      "|(4551,[51,89,393,...|\n",
      "|(4551,[17,87,278,...|\n",
      "|(4551,[35,204,135...|\n",
      "|(4551,[10,1056],[...|\n",
      "+--------------------+\n",
      "only showing top 5 rows"
     ]
    }
   ],
   "source": [
    "titles.select('term_freq').show(5)"
   ]
  },
  {
   "cell_type": "code",
   "execution_count": 138,
   "id": "896e96bb",
   "metadata": {},
   "outputs": [
    {
     "data": {
      "application/vnd.jupyter.widget-view+json": {
       "model_id": "5db98574f47b4ea186ccbdf13bc9b159",
       "version_major": 2,
       "version_minor": 0
      },
      "text/plain": [
       "VBox()"
      ]
     },
     "metadata": {},
     "output_type": "display_data"
    },
    {
     "data": {
      "application/vnd.jupyter.widget-view+json": {
       "model_id": "",
       "version_major": 2,
       "version_minor": 0
      },
      "text/plain": [
       "FloatProgress(value=0.0, bar_style='info', description='Progress:', layout=Layout(height='25px', width='50%'),…"
      ]
     },
     "metadata": {},
     "output_type": "display_data"
    }
   ],
   "source": [
    "idf = IDF(inputCol=\"term_freq\", outputCol=\"tfidf\")\n",
    "idf_model = idf.fit(titles)"
   ]
  },
  {
   "cell_type": "code",
   "execution_count": 139,
   "id": "4237852d",
   "metadata": {},
   "outputs": [
    {
     "data": {
      "application/vnd.jupyter.widget-view+json": {
       "model_id": "8cc91cc5919141d1aef322004b51ffda",
       "version_major": 2,
       "version_minor": 0
      },
      "text/plain": [
       "VBox()"
      ]
     },
     "metadata": {},
     "output_type": "display_data"
    },
    {
     "data": {
      "application/vnd.jupyter.widget-view+json": {
       "model_id": "",
       "version_major": 2,
       "version_minor": 0
      },
      "text/plain": [
       "FloatProgress(value=0.0, bar_style='info', description='Progress:', layout=Layout(height='25px', width='50%'),…"
      ]
     },
     "metadata": {},
     "output_type": "display_data"
    }
   ],
   "source": [
    "titles = idf_model.transform(titles)"
   ]
  },
  {
   "cell_type": "code",
   "execution_count": 140,
   "id": "5b3a919a",
   "metadata": {},
   "outputs": [
    {
     "data": {
      "application/vnd.jupyter.widget-view+json": {
       "model_id": "fbad90a4f2584b3e9beb5b55879f3067",
       "version_major": 2,
       "version_minor": 0
      },
      "text/plain": [
       "VBox()"
      ]
     },
     "metadata": {},
     "output_type": "display_data"
    },
    {
     "data": {
      "application/vnd.jupyter.widget-view+json": {
       "model_id": "",
       "version_major": 2,
       "version_minor": 0
      },
      "text/plain": [
       "FloatProgress(value=0.0, bar_style='info', description='Progress:', layout=Layout(height='25px', width='50%'),…"
      ]
     },
     "metadata": {},
     "output_type": "display_data"
    },
    {
     "name": "stdout",
     "output_type": "stream",
     "text": [
      "+--------------------+--------------------+--------------------+--------------------+--------------------+--------------------+\n",
      "|               title|               words|       words_cleaned|       words_stemmed|           term_freq|               tfidf|\n",
      "+--------------------+--------------------+--------------------+--------------------+--------------------+--------------------+\n",
      "|has my cider ferm...|[has, my, cider, ...|  [cider, fermented]|    [cider, ferment]|(4551,[136,729],[...|(4551,[136,729],[...|\n",
      "|how to identify f...|[how, to, identif...|[identify, fresh,...|[identifi, fresh,...|(4551,[51,89,393,...|(4551,[51,89,393,...|\n",
      "|first onion or fi...|[first, onion, or...|[first, onion, fi...|[first, onion, fi...|(4551,[17,87,278,...|(4551,[17,87,278,...|\n",
      "|chocolate choux p...|[chocolate, choux...|[chocolate, choux...|[chocol, choux, p...|(4551,[35,204,135...|(4551,[35,204,135...|\n",
      "|can substitute bl...|[can, substitute,...|[substitute, blac...|[substitut, black...|(4551,[10,1056],[...|(4551,[10,1056],[...|\n",
      "|how to make vegan...|[how, to, make, v...|[make, vegan, may...|[make, vegan, may...|(4551,[1,16,18,19...|(4551,[1,16,18,19...|\n",
      "|what are these wh...|[what, are, these...|[white, flecks, l...|[white, fleck, le...|(4551,[46,396,429...|(4551,[46,396,429...|\n",
      "|buttercream frost...|[buttercream, fro...|[buttercream, fro...|[buttercream, fro...|(4551,[70,205,486...|(4551,[70,205,486...|\n",
      "|spoiled garlic ok...|[spoiled, garlic,...|[spoiled, garlic,...|[spoil, garlic, o...|(4551,[2,103,290,...|(4551,[2,103,290,...|\n",
      "|     creamer returns|  [creamer, returns]|  [creamer, returns]|   [creamer, return]|(4551,[1703,2438]...|(4551,[1703,2438]...|\n",
      "|will artificial s...|[will, artificial...|[artificial, swee...|[artifici, sweete...|(4551,[7,73,167,1...|(4551,[7,73,167,1...|\n",
      "|is sausage casing...|[is, sausage, cas...|[sausage, casing,...|[sausag, case, ed...|(4551,[246,295,10...|(4551,[246,295,10...|\n",
      "|what would happen...|[what, would, hap...|[happen, add, win...|[happen, add, win...|(4551,[5,64,90,13...|(4551,[5,64,90,13...|\n",
      "|  does pesto go bad |[does, pesto, go,...|    [pesto, go, bad]|    [pesto, go, bad]|(4551,[132,146,79...|(4551,[132,146,79...|\n",
      "|potato ricer subs...|[potato, ricer, s...|[potato, ricer, s...|[potato, ricer, s...|(4551,[10,44],[1....|(4551,[10,44],[3....|\n",
      "|the three cs spic...|[the, three, cs, ...|[three, cs, spice...|[three, cs, spice...|(4551,[6,131,957]...|(4551,[6,131,957]...|\n",
      "|what cheeses work...|[what, cheeses, w...|[cheeses, work, m...|[chees, work, mel...|(4551,[39,168,177...|(4551,[39,168,177...|\n",
      "|will msg improve ...|[will, msg, impro...|[msg, improve, ta...|[msg, improv, tas...|(4551,[1,8,36,408...|(4551,[1,8,36,408...|\n",
      "|how to store what...|[how, to, store, ...|[store, leftovers...|[store, leftov, a...|(4551,[30,179,263...|(4551,[30,179,263...|\n",
      "|what is the liqui...|[what, is, the, l...|[liquid, often, l...|[liquid, often, l...|(4551,[97,110,117...|(4551,[97,110,117...|\n",
      "+--------------------+--------------------+--------------------+--------------------+--------------------+--------------------+\n",
      "only showing top 20 rows"
     ]
    }
   ],
   "source": [
    "titles.show()"
   ]
  },
  {
   "cell_type": "code",
   "execution_count": 141,
   "id": "5fd6ed79",
   "metadata": {},
   "outputs": [
    {
     "data": {
      "application/vnd.jupyter.widget-view+json": {
       "model_id": "7b946862fd1f4338878d1137bfcb8867",
       "version_major": 2,
       "version_minor": 0
      },
      "text/plain": [
       "VBox()"
      ]
     },
     "metadata": {},
     "output_type": "display_data"
    },
    {
     "data": {
      "application/vnd.jupyter.widget-view+json": {
       "model_id": "",
       "version_major": 2,
       "version_minor": 0
      },
      "text/plain": [
       "FloatProgress(value=0.0, bar_style='info', description='Progress:', layout=Layout(height='25px', width='50%'),…"
      ]
     },
     "metadata": {},
     "output_type": "display_data"
    }
   ],
   "source": [
    "words_df = titles.select(explode(\"words_stemmed\").alias(\"word\"))"
   ]
  },
  {
   "cell_type": "code",
   "execution_count": 142,
   "id": "2871fbbb",
   "metadata": {},
   "outputs": [
    {
     "data": {
      "application/vnd.jupyter.widget-view+json": {
       "model_id": "eacd1c219568478683e8ed399b722551",
       "version_major": 2,
       "version_minor": 0
      },
      "text/plain": [
       "VBox()"
      ]
     },
     "metadata": {},
     "output_type": "display_data"
    },
    {
     "data": {
      "application/vnd.jupyter.widget-view+json": {
       "model_id": "",
       "version_major": 2,
       "version_minor": 0
      },
      "text/plain": [
       "FloatProgress(value=0.0, bar_style='info', description='Progress:', layout=Layout(height='25px', width='50%'),…"
      ]
     },
     "metadata": {},
     "output_type": "display_data"
    }
   ],
   "source": [
    "word_frequencies = words_df.groupBy(\"word\").count().orderBy(\"count\", ascending=False)"
   ]
  },
  {
   "cell_type": "code",
   "execution_count": 143,
   "id": "36f99f61",
   "metadata": {},
   "outputs": [
    {
     "data": {
      "application/vnd.jupyter.widget-view+json": {
       "model_id": "bd4e1b77b0844e0fbd0c6c6352f86baf",
       "version_major": 2,
       "version_minor": 0
      },
      "text/plain": [
       "VBox()"
      ]
     },
     "metadata": {},
     "output_type": "display_data"
    },
    {
     "data": {
      "application/vnd.jupyter.widget-view+json": {
       "model_id": "",
       "version_major": 2,
       "version_minor": 0
      },
      "text/plain": [
       "FloatProgress(value=0.0, bar_style='info', description='Progress:', layout=Layout(height='25px', width='50%'),…"
      ]
     },
     "metadata": {},
     "output_type": "display_data"
    },
    {
     "name": "stdout",
     "output_type": "stream",
     "text": [
      "+---------+-----+\n",
      "|     word|count|\n",
      "+---------+-----+\n",
      "|     cook| 2552|\n",
      "|     make| 2471|\n",
      "|      use| 2250|\n",
      "|     quot| 1741|\n",
      "|     bake| 1154|\n",
      "|    bread| 1089|\n",
      "|  chicken|  979|\n",
      "|    recip|  891|\n",
      "|     food|  866|\n",
      "|     safe|  853|\n",
      "|substitut|  840|\n",
      "|      egg|  836|\n",
      "|   differ|  828|\n",
      "|     oven|  802|\n",
      "|     sauc|  784|\n",
      "|      pan|  783|\n",
      "|      oil|  778|\n",
      "|     meat|  773|\n",
      "|    water|  762|\n",
      "|  without|  739|\n",
      "+---------+-----+\n",
      "only showing top 20 rows"
     ]
    }
   ],
   "source": [
    "word_frequencies.show(20)"
   ]
  },
  {
   "cell_type": "markdown",
   "id": "a889f04c",
   "metadata": {},
   "source": [
    "Wniosek: najczę\u015Bciej powtarzane s\u0142owa to podstawowe rzeczowniki i czasowniki zwi\u0105zane z gotowaniem"
   ]
  },
  {
   "cell_type": "markdown",
   "id": "ce940708",
   "metadata": {},
   "source": [
    "+ wordcloud (package wordcloud: https://medium.com/@m3redithw/wordclouds-with-python-c287887acc8b)"
   ]
  },
  {
   "cell_type": "code",
   "execution_count": 144,
   "id": "47313c8c",
   "metadata": {},
   "outputs": [
    {
     "data": {
      "application/vnd.jupyter.widget-view+json": {
       "model_id": "04fcb9c693524ac18e35728f24aba046",
       "version_major": 2,
       "version_minor": 0
      },
      "text/plain": [
       "VBox()"
      ]
     },
     "metadata": {},
     "output_type": "display_data"
    },
    {
     "data": {
      "application/vnd.jupyter.widget-view+json": {
       "model_id": "",
       "version_major": 2,
       "version_minor": 0
      },
      "text/plain": [
       "FloatProgress(value=0.0, bar_style='info', description='Progress:', layout=Layout(height='25px', width='50%'),…"
      ]
     },
     "metadata": {},
     "output_type": "display_data"
    }
   ],
   "source": [
    "word_selection = word_frequencies.limit(100)"
   ]
  },
  {
   "cell_type": "code",
   "execution_count": 145,
   "id": "e7cc2c94",
   "metadata": {},
   "outputs": [
    {
     "data": {
      "application/vnd.jupyter.widget-view+json": {
       "model_id": "b90afc54bb9144aeb55583390f185cf9",
       "version_major": 2,
       "version_minor": 0
      },
      "text/plain": [
       "VBox()"
      ]
     },
     "metadata": {},
     "output_type": "display_data"
    },
    {
     "data": {
      "application/vnd.jupyter.widget-view+json": {
       "model_id": "",
       "version_major": 2,
       "version_minor": 0
      },
      "text/plain": [
       "FloatProgress(value=0.0, bar_style='info', description='Progress:', layout=Layout(height='25px', width='50%'),…"
      ]
     },
     "metadata": {},
     "output_type": "display_data"
    }
   ],
   "source": [
    "word_selection_pd = word_selection.toPandas()"
   ]
  },
  {
   "cell_type": "code",
   "execution_count": 146,
   "id": "30267bd3",
   "metadata": {},
   "outputs": [
    {
     "data": {
      "application/vnd.jupyter.widget-view+json": {
       "model_id": "faebc6ed91284f58b3128f3f8535fe50",
       "version_major": 2,
       "version_minor": 0
      },
      "text/plain": [
       "VBox()"
      ]
     },
     "metadata": {},
     "output_type": "display_data"
    },
    {
     "data": {
      "application/vnd.jupyter.widget-view+json": {
       "model_id": "",
       "version_major": 2,
       "version_minor": 0
      },
      "text/plain": [
       "FloatProgress(value=0.0, bar_style='info', description='Progress:', layout=Layout(height='25px', width='50%'),…"
      ]
     },
     "metadata": {},
     "output_type": "display_data"
    }
   ],
   "source": [
    "word_count_dict = dict(zip(word_selection_pd['word'], word_selection_pd['count']))"
   ]
  },
  {
   "cell_type": "code",
   "execution_count": 147,
   "id": "89dded6b",
   "metadata": {},
   "outputs": [
    {
     "data": {
      "application/vnd.jupyter.widget-view+json": {
       "model_id": "110b15d59e954ea8a4114a2e1ca3d96e",
       "version_major": 2,
       "version_minor": 0
      },
      "text/plain": [
       "VBox()"
      ]
     },
     "metadata": {},
     "output_type": "display_data"
    },
    {
     "data": {
      "application/vnd.jupyter.widget-view+json": {
       "model_id": "",
       "version_major": 2,
       "version_minor": 0
      },
      "text/plain": [
       "FloatProgress(value=0.0, bar_style='info', description='Progress:', layout=Layout(height='25px', width='50%'),…"
      ]
     },
     "metadata": {},
     "output_type": "display_data"
    },
    {
     "data": {
      "image/png": "[encoded data removed]",
      "text/plain": [
       "<IPython.core.display.Image object>"
      ]
     },
     "metadata": {},
     "output_type": "display_data"
    }
   ],
   "source": [
    "wordcloud = WordCloud(width=800, height=400, background_color='white').generate_from_frequencies(word_count_dict)\n",
    "plt.figure(figsize=(10, 5))\n",
    "plt.imshow(wordcloud, interpolation='bilinear')\n",
    "plt.axis('off')\n",
    "%matplot plt"
   ]
  },
  {
   "cell_type": "markdown",
   "id": "db60218c",
   "metadata": {},
   "source": [
    "## I: procent u\u017Cytkownik\u00F3w kt\u00F3rzy nigdy nic nie zapostowali"
   ]
  },
  {
   "cell_type": "code",
   "execution_count": 148,
   "id": "21cecf48",
   "metadata": {},
   "outputs": [
    {
     "data": {
      "application/vnd.jupyter.widget-view+json": {
       "model_id": "f1ffc28490b449e3be0b6c900ec9fdcc",
       "version_major": 2,
       "version_minor": 0
      },
      "text/plain": [
       "VBox()"
      ]
     },
     "metadata": {},
     "output_type": "display_data"
    },
    {
     "data": {
      "application/vnd.jupyter.widget-view+json": {
       "model_id": "",
       "version_major": 2,
       "version_minor": 0
      },
      "text/plain": [
       "FloatProgress(value=0.0, bar_style='info', description='Progress:', layout=Layout(height='25px', width='50%'),…"
      ]
     },
     "metadata": {},
     "output_type": "display_data"
    }
   ],
   "source": [
    "# Wczytanie danych z S3\n",
    "users = spark.read.json('s3://raw-users/users.json')"
   ]
  },
  {
   "cell_type": "code",
   "execution_count": 149,
   "id": "6b147e55",
   "metadata": {},
   "outputs": [
    {
     "data": {
      "application/vnd.jupyter.widget-view+json": {
       "model_id": "622c0def51a44e25a2df6b28c285aab5",
       "version_major": 2,
       "version_minor": 0
      },
      "text/plain": [
       "VBox()"
      ]
     },
     "metadata": {},
     "output_type": "display_data"
    },
    {
     "data": {
      "application/vnd.jupyter.widget-view+json": {
       "model_id": "",
       "version_major": 2,
       "version_minor": 0
      },
      "text/plain": [
       "FloatProgress(value=0.0, bar_style='info', description='Progress:', layout=Layout(height='25px', width='50%'),…"
      ]
     },
     "metadata": {},
     "output_type": "display_data"
    },
    {
     "name": "stdout",
     "output_type": "stream",
     "text": [
      "root\n",
      " |-- account_id: long (nullable = true)\n",
      " |-- answer_count: long (nullable = true)\n",
      " |-- question_count: long (nullable = true)"
     ]
    }
   ],
   "source": [
    "# Sprawdzenie schematu i typu danych\n",
    "users.printSchema()"
   ]
  },
  {
   "cell_type": "code",
   "execution_count": 150,
   "id": "cd58f256",
   "metadata": {},
   "outputs": [
    {
     "data": {
      "application/vnd.jupyter.widget-view+json": {
       "model_id": "fa0acbe58cad4db4be606ee0c4a2e8d0",
       "version_major": 2,
       "version_minor": 0
      },
      "text/plain": [
       "VBox()"
      ]
     },
     "metadata": {},
     "output_type": "display_data"
    },
    {
     "data": {
      "application/vnd.jupyter.widget-view+json": {
       "model_id": "",
       "version_major": 2,
       "version_minor": 0
      },
      "text/plain": [
       "FloatProgress(value=0.0, bar_style='info', description='Progress:', layout=Layout(height='25px', width='50%'),…"
      ]
     },
     "metadata": {},
     "output_type": "display_data"
    }
   ],
   "source": [
    "# Zamiana typu danych w kolumnie answer_count i question_count na 'int'\n",
    "users = users.withColumn(\"answer_count\", col(\"answer_count\").cast(\"int\"))\n",
    "users = users.withColumn(\"question_count\", col(\"question_count\").cast(\"int\"))"
   ]
  },
  {
   "cell_type": "code",
   "execution_count": 151,
   "id": "53178591",
   "metadata": {},
   "outputs": [
    {
     "data": {
      "application/vnd.jupyter.widget-view+json": {
       "model_id": "c9fbdb553fa44a66ae2d779d7853fab1",
       "version_major": 2,
       "version_minor": 0
      },
      "text/plain": [
       "VBox()"
      ]
     },
     "metadata": {},
     "output_type": "display_data"
    },
    {
     "data": {
      "application/vnd.jupyter.widget-view+json": {
       "model_id": "",
       "version_major": 2,
       "version_minor": 0
      },
      "text/plain": [
       "FloatProgress(value=0.0, bar_style='info', description='Progress:', layout=Layout(height='25px', width='50%'),…"
      ]
     },
     "metadata": {},
     "output_type": "display_data"
    }
   ],
   "source": [
    "# Dodanie kolumny zliczaj\u0105cej sumę post\u00F3w\n",
    "users = users.withColumn(\"posts_total\", col(\"answer_count\") + col(\"question_count\"))"
   ]
  },
  {
   "cell_type": "code",
   "execution_count": 152,
   "id": "8ed525d8",
   "metadata": {},
   "outputs": [
    {
     "data": {
      "application/vnd.jupyter.widget-view+json": {
       "model_id": "9039058c240c43afa3037341c8336022",
       "version_major": 2,
       "version_minor": 0
      },
      "text/plain": [
       "VBox()"
      ]
     },
     "metadata": {},
     "output_type": "display_data"
    },
    {
     "data": {
      "application/vnd.jupyter.widget-view+json": {
       "model_id": "",
       "version_major": 2,
       "version_minor": 0
      },
      "text/plain": [
       "FloatProgress(value=0.0, bar_style='info', description='Progress:', layout=Layout(height='25px', width='50%'),…"
      ]
     },
     "metadata": {},
     "output_type": "display_data"
    },
    {
     "name": "stdout",
     "output_type": "stream",
     "text": [
      "+----------+------------+--------------+-----------+\n",
      "|account_id|answer_count|question_count|posts_total|\n",
      "+----------+------------+--------------+-----------+\n",
      "|    266065|        2174|           127|       2301|\n",
      "|     48394|        1507|            21|       1528|\n",
      "|    175757|        1234|            10|       1244|\n",
      "|   2459758|        1467|             5|       1472|\n",
      "|   1148237|        1253|            17|       1270|\n",
      "|    542323|         873|            81|        954|\n",
      "|   4948536|         691|            11|        702|\n",
      "|   3302527|         793|           141|        934|\n",
      "|     41301|         762|            65|        827|\n",
      "|     17239|         414|            27|        441|\n",
      "|    505193|         527|            56|        583|\n",
      "|   2618090|         733|            38|        771|\n",
      "|    508233|         591|            21|        612|\n",
      "|     36994|         309|            17|        326|\n",
      "|   2195448|         383|            13|        396|\n",
      "|    505186|         386|            40|        426|\n",
      "|   4744458|         423|             7|        430|\n",
      "|    413689|         428|             3|        431|\n",
      "|     26385|         476|            11|        487|\n",
      "|    200445|         581|             8|        589|\n",
      "+----------+------------+--------------+-----------+\n",
      "only showing top 20 rows"
     ]
    }
   ],
   "source": [
    "# Podgl\u0105d danych\n",
    "users.show()"
   ]
  },
  {
   "cell_type": "code",
   "execution_count": 153,
   "id": "d86905fd",
   "metadata": {},
   "outputs": [
    {
     "data": {
      "application/vnd.jupyter.widget-view+json": {
       "model_id": "19f69649090247ff9df6d793836d1fb4",
       "version_major": 2,
       "version_minor": 0
      },
      "text/plain": [
       "VBox()"
      ]
     },
     "metadata": {},
     "output_type": "display_data"
    },
    {
     "data": {
      "application/vnd.jupyter.widget-view+json": {
       "model_id": "",
       "version_major": 2,
       "version_minor": 0
      },
      "text/plain": [
       "FloatProgress(value=0.0, bar_style='info', description='Progress:', layout=Layout(height='25px', width='50%'),…"
      ]
     },
     "metadata": {},
     "output_type": "display_data"
    }
   ],
   "source": [
    "# Zliczenie u\u017Cytkownik\u00F3w, kt\u00F3rzy nigdy nic nie zapostowali\n",
    "inactive_users = users.filter(col('posts_total')==0).count()"
   ]
  },
  {
   "cell_type": "code",
   "execution_count": 154,
   "id": "cb4de78f",
   "metadata": {},
   "outputs": [
    {
     "data": {
      "application/vnd.jupyter.widget-view+json": {
       "model_id": "f46f43d6a976491dba8d94ed87068815",
       "version_major": 2,
       "version_minor": 0
      },
      "text/plain": [
       "VBox()"
      ]
     },
     "metadata": {},
     "output_type": "display_data"
    },
    {
     "data": {
      "application/vnd.jupyter.widget-view+json": {
       "model_id": "",
       "version_major": 2,
       "version_minor": 0
      },
      "text/plain": [
       "FloatProgress(value=0.0, bar_style='info', description='Progress:', layout=Layout(height='25px', width='50%'),…"
      ]
     },
     "metadata": {},
     "output_type": "display_data"
    }
   ],
   "source": [
    "# Zliczenie wszystkich u\u017Cytkownik\u00F3w\n",
    "all_users = users.count()"
   ]
  },
  {
   "cell_type": "code",
   "execution_count": 155,
   "id": "afe94d01",
   "metadata": {},
   "outputs": [
    {
     "data": {
      "application/vnd.jupyter.widget-view+json": {
       "model_id": "183d44330b48454b89a029fe5380e6ad",
       "version_major": 2,
       "version_minor": 0
      },
      "text/plain": [
       "VBox()"
      ]
     },
     "metadata": {},
     "output_type": "display_data"
    },
    {
     "data": {
      "application/vnd.jupyter.widget-view+json": {
       "model_id": "",
       "version_major": 2,
       "version_minor": 0
      },
      "text/plain": [
       "FloatProgress(value=0.0, bar_style='info', description='Progress:', layout=Layout(height='25px', width='50%'),…"
      ]
     },
     "metadata": {},
     "output_type": "display_data"
    }
   ],
   "source": [
    "# Obliczenie procentu nieaktywnych u\u017Cytkownik\u00F3w\n",
    "inactive_users_percentage = (inactive_users * 100) / all_users"
   ]
  },
  {
   "cell_type": "code",
   "execution_count": 156,
   "id": "3baa7c1d",
   "metadata": {},
   "outputs": [
    {
     "data": {
      "application/vnd.jupyter.widget-view+json": {
       "model_id": "652e8afb33104a619705c3fadbf942ef",
       "version_major": 2,
       "version_minor": 0
      },
      "text/plain": [
       "VBox()"
      ]
     },
     "metadata": {},
     "output_type": "display_data"
    },
    {
     "data": {
      "application/vnd.jupyter.widget-view+json": {
       "model_id": "",
       "version_major": 2,
       "version_minor": 0
      },
      "text/plain": [
       "FloatProgress(value=0.0, bar_style='info', description='Progress:', layout=Layout(height='25px', width='50%'),…"
      ]
     },
     "metadata": {},
     "output_type": "display_data"
    },
    {
     "name": "stdout",
     "output_type": "stream",
     "text": [
      "Procent nieaktywnych u\u017Cytkownik\u00F3w to: 65.50%"
     ]
    }
   ],
   "source": [
    "# Wy\u015Bwietlenie wyniku\n",
    "print(f\"Procent nieaktywnych u\\u017Cytkownik\\u00F3w to: {inactive_users_percentage:.2f}%\")"
   ]
  },
  {
   "cell_type": "markdown",
   "id": "393a4ae3",
   "metadata": {},
   "source": [
    "## J. \u015Aredni czas od pojawienia się pytania do pojawienia się zaakceptowanej odpowiedzi"
   ]
  },
  {
   "cell_type": "code",
   "execution_count": 157,
   "id": "81833c64",
   "metadata": {},
   "outputs": [
    {
     "data": {
      "application/vnd.jupyter.widget-view+json": {
       "model_id": "9f28fb9078414b20badb08f0176fa4c3",
       "version_major": 2,
       "version_minor": 0
      },
      "text/plain": [
       "VBox()"
      ]
     },
     "metadata": {},
     "output_type": "display_data"
    },
    {
     "data": {
      "application/vnd.jupyter.widget-view+json": {
       "model_id": "",
       "version_major": 2,
       "version_minor": 0
      },
      "text/plain": [
       "FloatProgress(value=0.0, bar_style='info', description='Progress:', layout=Layout(height='25px', width='50%'),…"
      ]
     },
     "metadata": {},
     "output_type": "display_data"
    },
    {
     "name": "stdout",
     "output_type": "stream",
     "text": [
      "root\n",
      " |-- accepted_answer_id: long (nullable = true)\n",
      " |-- answer_count: long (nullable = true)\n",
      " |-- answers: array (nullable = true)\n",
      " |    |-- element: struct (containsNull = true)\n",
      " |    |    |-- answer_id: long (nullable = true)\n",
      " |    |    |-- creation_date: long (nullable = true)\n",
      " |    |    |-- is_accepted: boolean (nullable = true)\n",
      " |    |    |-- owner: struct (nullable = true)\n",
      " |    |    |    |-- user_id: long (nullable = true)\n",
      " |    |    |-- question_id: long (nullable = true)\n",
      " |    |    |-- score: long (nullable = true)\n",
      " |-- body: string (nullable = true)\n",
      " |-- creation_date: long (nullable = true)\n",
      " |-- is_answered: boolean (nullable = true)\n",
      " |-- owner: struct (nullable = true)\n",
      " |    |-- user_id: long (nullable = true)\n",
      " |-- question_id: long (nullable = true)\n",
      " |-- score: long (nullable = true)\n",
      " |-- tags: array (nullable = true)\n",
      " |    |-- element: string (containsNull = true)\n",
      " |-- title: string (nullable = true)\n",
      " |-- view_count: long (nullable = true)"
     ]
    }
   ],
   "source": [
    "questions_and_answers.printSchema()"
   ]
  },
  {
   "cell_type": "code",
   "execution_count": 158,
   "id": "7e52a2ba",
   "metadata": {},
   "outputs": [
    {
     "data": {
      "application/vnd.jupyter.widget-view+json": {
       "model_id": "1a670322af6a4d55bb1ffb15ac43cfce",
       "version_major": 2,
       "version_minor": 0
      },
      "text/plain": [
       "VBox()"
      ]
     },
     "metadata": {},
     "output_type": "display_data"
    },
    {
     "data": {
      "application/vnd.jupyter.widget-view+json": {
       "model_id": "",
       "version_major": 2,
       "version_minor": 0
      },
      "text/plain": [
       "FloatProgress(value=0.0, bar_style='info', description='Progress:', layout=Layout(height='25px', width='50%'),…"
      ]
     },
     "metadata": {},
     "output_type": "display_data"
    }
   ],
   "source": [
    "avg_response_time = questions_and_answers.filter(col('is_answered') == True)"
   ]
  },
  {
   "cell_type": "code",
   "execution_count": 159,
   "id": "3a764f48",
   "metadata": {},
   "outputs": [
    {
     "data": {
      "application/vnd.jupyter.widget-view+json": {
       "model_id": "a03fd8ff0d2b4ff0b9d8e4f578426d08",
       "version_major": 2,
       "version_minor": 0
      },
      "text/plain": [
       "VBox()"
      ]
     },
     "metadata": {},
     "output_type": "display_data"
    },
    {
     "data": {
      "application/vnd.jupyter.widget-view+json": {
       "model_id": "",
       "version_major": 2,
       "version_minor": 0
      },
      "text/plain": [
       "FloatProgress(value=0.0, bar_style='info', description='Progress:', layout=Layout(height='25px', width='50%'),…"
      ]
     },
     "metadata": {},
     "output_type": "display_data"
    }
   ],
   "source": [
    "avg_response_time = avg_response_time.withColumn(\"answer\", explode(\"answers\"))"
   ]
  },
  {
   "cell_type": "code",
   "execution_count": 160,
   "id": "8f967220",
   "metadata": {},
   "outputs": [
    {
     "data": {
      "application/vnd.jupyter.widget-view+json": {
       "model_id": "c5d418febb66449592f83f37d66362fc",
       "version_major": 2,
       "version_minor": 0
      },
      "text/plain": [
       "VBox()"
      ]
     },
     "metadata": {},
     "output_type": "display_data"
    },
    {
     "data": {
      "application/vnd.jupyter.widget-view+json": {
       "model_id": "",
       "version_major": 2,
       "version_minor": 0
      },
      "text/plain": [
       "FloatProgress(value=0.0, bar_style='info', description='Progress:', layout=Layout(height='25px', width='50%'),…"
      ]
     },
     "metadata": {},
     "output_type": "display_data"
    },
    {
     "name": "stdout",
     "output_type": "stream",
     "text": [
      "+------------------+------------+--------------------+--------------------+-------------+-----------+-------+-----------+-----+--------------------+--------------------+----------+--------------------+\n",
      "|accepted_answer_id|answer_count|             answers|                body|creation_date|is_answered|  owner|question_id|score|                tags|               title|view_count|              answer|\n",
      "+------------------+------------+--------------------+--------------------+-------------+-----------+-------+-----------+-----+--------------------+--------------------+----------+--------------------+\n",
      "|              8949|           9|[{8946, 128922728...|Most chefs recomm...|   1289183621|       true|  {141}|       8934|   19|[pasta, salt, boi...|When cooking past...|     23213|{8946, 1289227283...|\n",
      "|              8949|           9|[{8946, 128922728...|Most chefs recomm...|   1289183621|       true|  {141}|       8934|   19|[pasta, salt, boi...|When cooking past...|     23213|{8947, 1289229299...|\n",
      "|              8949|           9|[{8946, 128922728...|Most chefs recomm...|   1289183621|       true|  {141}|       8934|   19|[pasta, salt, boi...|When cooking past...|     23213|{8949, 1289243174...|\n",
      "|              8949|           9|[{8946, 128922728...|Most chefs recomm...|   1289183621|       true|  {141}|       8934|   19|[pasta, salt, boi...|When cooking past...|     23213|{42592, 139421619...|\n",
      "|              8949|           9|[{8946, 128922728...|Most chefs recomm...|   1289183621|       true|  {141}|       8934|   19|[pasta, salt, boi...|When cooking past...|     23213|{57819, 143276411...|\n",
      "|              8949|           9|[{8946, 128922728...|Most chefs recomm...|   1289183621|       true|  {141}|       8934|   19|[pasta, salt, boi...|When cooking past...|     23213|{71765, 146982791...|\n",
      "|              8949|           9|[{8946, 128922728...|Most chefs recomm...|   1289183621|       true|  {141}|       8934|   19|[pasta, salt, boi...|When cooking past...|     23213|{103073, 15720254...|\n",
      "|              8949|           9|[{8946, 128922728...|Most chefs recomm...|   1289183621|       true|  {141}|       8934|   19|[pasta, salt, boi...|When cooking past...|     23213|{125745, 16992754...|\n",
      "|              8949|           9|[{8946, 128922728...|Most chefs recomm...|   1289183621|       true|  {141}|       8934|   19|[pasta, salt, boi...|When cooking past...|     23213|{128423, 17169250...|\n",
      "|             65907|           2|[{65887, 14538040...|Anchovies, tinned...|   1453803359|       true|{42169}|      65886|    4|[food-safety, foo...|Do tinned anchovi...|      9690|{65887, 145380400...|\n",
      "|             65907|           2|[{65887, 14538040...|Anchovies, tinned...|   1453803359|       true|{42169}|      65886|    4|[food-safety, foo...|Do tinned anchovi...|      9690|{65907, 145383681...|\n",
      "|             87552|           3|[{87552, 15178514...|Preamble: Okay, s...|   1517847516|       true|{52058}|      87548|    5|[food-safety, fer...|Homemade sauerkra...|     33550|{87552, 151785141...|\n",
      "|             87552|           3|[{87552, 15178514...|Preamble: Okay, s...|   1517847516|       true|{52058}|      87548|    5|[food-safety, fer...|Homemade sauerkra...|     33550|{87559, 151786721...|\n",
      "|             87552|           3|[{87552, 15178514...|Preamble: Okay, s...|   1517847516|       true|{52058}|      87548|    5|[food-safety, fer...|Homemade sauerkra...|     33550|{128420, 17168807...|\n",
      "|              5887|           4|[{5886, 128267017...|What would happen...|   1282666001|       true| {1083}|       5882|    5| [potatoes, blender]|Pre-blending Pota...|      5787|{5886, 1282670171...|\n",
      "|              5887|           4|[{5886, 128267017...|What would happen...|   1282666001|       true| {1083}|       5882|    5| [potatoes, blender]|Pre-blending Pota...|      5787|{5887, 1282670233...|\n",
      "|              5887|           4|[{5886, 128267017...|What would happen...|   1282666001|       true| {1083}|       5882|    5| [potatoes, blender]|Pre-blending Pota...|      5787|{76898, 148296669...|\n",
      "|              5887|           4|[{5886, 128267017...|What would happen...|   1282666001|       true| {1083}|       5882|    5| [potatoes, blender]|Pre-blending Pota...|      5787|{128419, 17168698...|\n",
      "|              NULL|           2|[{46828, 14097005...|I am relatively n...|   1409677085|       true|{26889}|      46820|    3|  [boiling, canning]|Cans are all seal...|      3825|{46828, 140970054...|\n",
      "|              NULL|           2|[{46828, 14097005...|I am relatively n...|   1409677085|       true|{26889}|      46820|    3|  [boiling, canning]|Cans are all seal...|      3825|{128418, 17168592...|\n",
      "+------------------+------------+--------------------+--------------------+-------------+-----------+-------+-----------+-----+--------------------+--------------------+----------+--------------------+\n",
      "only showing top 20 rows"
     ]
    }
   ],
   "source": [
    "avg_response_time.show()"
   ]
  },
  {
   "cell_type": "code",
   "execution_count": 161,
   "id": "811fc534",
   "metadata": {},
   "outputs": [
    {
     "data": {
      "application/vnd.jupyter.widget-view+json": {
       "model_id": "6a852edd1d4247b1b17f075da16c3be2",
       "version_major": 2,
       "version_minor": 0
      },
      "text/plain": [
       "VBox()"
      ]
     },
     "metadata": {},
     "output_type": "display_data"
    },
    {
     "data": {
      "application/vnd.jupyter.widget-view+json": {
       "model_id": "",
       "version_major": 2,
       "version_minor": 0
      },
      "text/plain": [
       "FloatProgress(value=0.0, bar_style='info', description='Progress:', layout=Layout(height='25px', width='50%'),…"
      ]
     },
     "metadata": {},
     "output_type": "display_data"
    }
   ],
   "source": [
    "avg_response_time = avg_response_time.select(\n",
    "    col(\"question_id\"),\n",
    "    col(\"creation_date\").alias(\"question_creation_date\"),\n",
    "    col(\"is_answered\"),\n",
    "    col(\"answer.answer_id\").alias(\"answer_id\"),\n",
    "    col(\"answer.is_accepted\").alias(\"is_accepted\"),\n",
    "    col(\"answer.creation_date\").alias(\"answer_creation_date\")\n",
    ")"
   ]
  },
  {
   "cell_type": "code",
   "execution_count": 162,
   "id": "ef8b7133",
   "metadata": {},
   "outputs": [
    {
     "data": {
      "application/vnd.jupyter.widget-view+json": {
       "model_id": "f82197eefe3643fcb983c410a53fa964",
       "version_major": 2,
       "version_minor": 0
      },
      "text/plain": [
       "VBox()"
      ]
     },
     "metadata": {},
     "output_type": "display_data"
    },
    {
     "data": {
      "application/vnd.jupyter.widget-view+json": {
       "model_id": "",
       "version_major": 2,
       "version_minor": 0
      },
      "text/plain": [
       "FloatProgress(value=0.0, bar_style='info', description='Progress:', layout=Layout(height='25px', width='50%'),…"
      ]
     },
     "metadata": {},
     "output_type": "display_data"
    },
    {
     "name": "stdout",
     "output_type": "stream",
     "text": [
      "+-----------+----------------------+-----------+---------+-----------+--------------------+\n",
      "|question_id|question_creation_date|is_answered|answer_id|is_accepted|answer_creation_date|\n",
      "+-----------+----------------------+-----------+---------+-----------+--------------------+\n",
      "|       8934|            1289183621|       true|     8946|      false|          1289227283|\n",
      "|       8934|            1289183621|       true|     8947|      false|          1289229299|\n",
      "|       8934|            1289183621|       true|     8949|       true|          1289243174|\n",
      "|       8934|            1289183621|       true|    42592|      false|          1394216197|\n",
      "|       8934|            1289183621|       true|    57819|      false|          1432764110|\n",
      "|       8934|            1289183621|       true|    71765|      false|          1469827911|\n",
      "|       8934|            1289183621|       true|   103073|      false|          1572025419|\n",
      "|       8934|            1289183621|       true|   125745|      false|          1699275462|\n",
      "|       8934|            1289183621|       true|   128423|      false|          1716925098|\n",
      "|      65886|            1453803359|       true|    65887|      false|          1453804008|\n",
      "|      65886|            1453803359|       true|    65907|       true|          1453836815|\n",
      "|      87548|            1517847516|       true|    87552|       true|          1517851411|\n",
      "|      87548|            1517847516|       true|    87559|      false|          1517867215|\n",
      "|      87548|            1517847516|       true|   128420|      false|          1716880708|\n",
      "|       5882|            1282666001|       true|     5886|      false|          1282670171|\n",
      "|       5882|            1282666001|       true|     5887|       true|          1282670233|\n",
      "|       5882|            1282666001|       true|    76898|      false|          1482966698|\n",
      "|       5882|            1282666001|       true|   128419|      false|          1716869892|\n",
      "|      46820|            1409677085|       true|    46828|      false|          1409700544|\n",
      "|      46820|            1409677085|       true|   128418|      false|          1716859236|\n",
      "+-----------+----------------------+-----------+---------+-----------+--------------------+\n",
      "only showing top 20 rows"
     ]
    }
   ],
   "source": [
    "avg_response_time.show()"
   ]
  },
  {
   "cell_type": "code",
   "execution_count": 163,
   "id": "4bb4f08a",
   "metadata": {},
   "outputs": [
    {
     "data": {
      "application/vnd.jupyter.widget-view+json": {
       "model_id": "b9c3d1ad3eda4b88ab0aa01c4deb682d",
       "version_major": 2,
       "version_minor": 0
      },
      "text/plain": [
       "VBox()"
      ]
     },
     "metadata": {},
     "output_type": "display_data"
    },
    {
     "data": {
      "application/vnd.jupyter.widget-view+json": {
       "model_id": "",
       "version_major": 2,
       "version_minor": 0
      },
      "text/plain": [
       "FloatProgress(value=0.0, bar_style='info', description='Progress:', layout=Layout(height='25px', width='50%'),…"
      ]
     },
     "metadata": {},
     "output_type": "display_data"
    }
   ],
   "source": [
    "avg_response_time = avg_response_time.filter(col('is_accepted')=='true')"
   ]
  },
  {
   "cell_type": "code",
   "execution_count": 164,
   "id": "da1387f2",
   "metadata": {},
   "outputs": [
    {
     "data": {
      "application/vnd.jupyter.widget-view+json": {
       "model_id": "456e26b4b43b4195b4d657b015dc987f",
       "version_major": 2,
       "version_minor": 0
      },
      "text/plain": [
       "VBox()"
      ]
     },
     "metadata": {},
     "output_type": "display_data"
    },
    {
     "data": {
      "application/vnd.jupyter.widget-view+json": {
       "model_id": "",
       "version_major": 2,
       "version_minor": 0
      },
      "text/plain": [
       "FloatProgress(value=0.0, bar_style='info', description='Progress:', layout=Layout(height='25px', width='50%'),…"
      ]
     },
     "metadata": {},
     "output_type": "display_data"
    }
   ],
   "source": [
    "avg_response_time = avg_response_time.withColumn(\"response_time\", col(\"answer_creation_date\") - col(\"question_creation_date\"))"
   ]
  },
  {
   "cell_type": "code",
   "execution_count": 165,
   "id": "0b14a8f1",
   "metadata": {},
   "outputs": [
    {
     "data": {
      "application/vnd.jupyter.widget-view+json": {
       "model_id": "571c92515c814a2cbe89132fef0c8418",
       "version_major": 2,
       "version_minor": 0
      },
      "text/plain": [
       "VBox()"
      ]
     },
     "metadata": {},
     "output_type": "display_data"
    },
    {
     "data": {
      "application/vnd.jupyter.widget-view+json": {
       "model_id": "",
       "version_major": 2,
       "version_minor": 0
      },
      "text/plain": [
       "FloatProgress(value=0.0, bar_style='info', description='Progress:', layout=Layout(height='25px', width='50%'),…"
      ]
     },
     "metadata": {},
     "output_type": "display_data"
    },
    {
     "name": "stdout",
     "output_type": "stream",
     "text": [
      "+-----------+----------------------+-----------+---------+-----------+--------------------+-------------+\n",
      "|question_id|question_creation_date|is_answered|answer_id|is_accepted|answer_creation_date|response_time|\n",
      "+-----------+----------------------+-----------+---------+-----------+--------------------+-------------+\n",
      "|       8934|            1289183621|       true|     8949|       true|          1289243174|        59553|\n",
      "|      65886|            1453803359|       true|    65907|       true|          1453836815|        33456|\n",
      "|      87548|            1517847516|       true|    87552|       true|          1517851411|         3895|\n",
      "|       5882|            1282666001|       true|     5887|       true|          1282670233|         4232|\n",
      "|      74737|            1476451146|       true|    74748|       true|          1476470983|        19837|\n",
      "|     128181|            1713715990|       true|   128185|       true|          1713726198|        10208|\n",
      "|      96658|            1551551439|       true|    96665|       true|          1551559366|         7927|\n",
      "|      12134|            1297706431|       true|    12146|       true|          1297712098|         5667|\n",
      "|     128372|            1716248048|       true|   128383|       true|          1716340439|        92391|\n",
      "|      37605|            1381792690|       true|    70999|       true|          1467085560|     85292870|\n",
      "|     123053|            1673902239|       true|   123056|       true|          1673906588|         4349|\n",
      "|       7717|            1285870981|       true|     7718|       true|          1285871409|          428|\n",
      "|     125605|            1697820310|       true|   125609|       true|          1697826293|         5983|\n",
      "|      31906|            1360833167|       true|    31910|       true|          1360846507|        13340|\n",
      "|     128391|            1716453072|       true|   128393|       true|          1716457554|         4482|\n",
      "|      42966|            1395662983|       true|    42967|       true|          1395665166|         2183|\n",
      "|     128384|            1716366107|       true|   128386|       true|          1716370447|         4340|\n",
      "|       8856|            1288926990|       true|     8868|       true|          1288950320|        23330|\n",
      "|      78349|            1486902917|       true|    78372|       true|          1486980112|        77195|\n",
      "|     128379|            1716312099|       true|   128381|       true|          1716326941|        14842|\n",
      "+-----------+----------------------+-----------+---------+-----------+--------------------+-------------+\n",
      "only showing top 20 rows"
     ]
    }
   ],
   "source": [
    "avg_response_time.show()"
   ]
  },
  {
   "cell_type": "code",
   "execution_count": 166,
   "id": "2feb22a3",
   "metadata": {},
   "outputs": [
    {
     "data": {
      "application/vnd.jupyter.widget-view+json": {
       "model_id": "6c8144c15f6b49da99abcb47c68edc3a",
       "version_major": 2,
       "version_minor": 0
      },
      "text/plain": [
       "VBox()"
      ]
     },
     "metadata": {},
     "output_type": "display_data"
    },
    {
     "data": {
      "application/vnd.jupyter.widget-view+json": {
       "model_id": "",
       "version_major": 2,
       "version_minor": 0
      },
      "text/plain": [
       "FloatProgress(value=0.0, bar_style='info', description='Progress:', layout=Layout(height='25px', width='50%'),…"
      ]
     },
     "metadata": {},
     "output_type": "display_data"
    }
   ],
   "source": [
    "avg_response_time = avg_response_time.agg(avg(\"response_time\").alias(\"avg_response_time_EPOCH\"))"
   ]
  },
  {
   "cell_type": "code",
   "execution_count": 167,
   "id": "2053a3e2",
   "metadata": {},
   "outputs": [
    {
     "data": {
      "application/vnd.jupyter.widget-view+json": {
       "model_id": "c80d39920e6a41518f7cb2cbfb0407a5",
       "version_major": 2,
       "version_minor": 0
      },
      "text/plain": [
       "VBox()"
      ]
     },
     "metadata": {},
     "output_type": "display_data"
    },
    {
     "data": {
      "application/vnd.jupyter.widget-view+json": {
       "model_id": "",
       "version_major": 2,
       "version_minor": 0
      },
      "text/plain": [
       "FloatProgress(value=0.0, bar_style='info', description='Progress:', layout=Layout(height='25px', width='50%'),…"
      ]
     },
     "metadata": {},
     "output_type": "display_data"
    },
    {
     "name": "stdout",
     "output_type": "stream",
     "text": [
      "+-----------------------+\n",
      "|avg_response_time_EPOCH|\n",
      "+-----------------------+\n",
      "|     1294970.6020059434|\n",
      "+-----------------------+"
     ]
    }
   ],
   "source": [
    "avg_response_time.show()"
   ]
  },
  {
   "cell_type": "code",
   "execution_count": 168,
   "id": "a240acd5",
   "metadata": {},
   "outputs": [
    {
     "data": {
      "application/vnd.jupyter.widget-view+json": {
       "model_id": "f4d9851c398f40e4950506611c6d3069",
       "version_major": 2,
       "version_minor": 0
      },
      "text/plain": [
       "VBox()"
      ]
     },
     "metadata": {},
     "output_type": "display_data"
    },
    {
     "data": {
      "application/vnd.jupyter.widget-view+json": {
       "model_id": "",
       "version_major": 2,
       "version_minor": 0
      },
      "text/plain": [
       "FloatProgress(value=0.0, bar_style='info', description='Progress:', layout=Layout(height='25px', width='50%'),…"
      ]
     },
     "metadata": {},
     "output_type": "display_data"
    }
   ],
   "source": [
    "avg_response_time = avg_response_time.withColumn('avg_response_time_days', round(col('avg_response_time_EPOCH')/86400))"
   ]
  },
  {
   "cell_type": "code",
   "execution_count": 169,
   "id": "c27c18f3",
   "metadata": {},
   "outputs": [
    {
     "data": {
      "application/vnd.jupyter.widget-view+json": {
       "model_id": "dcfcf6f7911f4c80ab97f02d3fe85eec",
       "version_major": 2,
       "version_minor": 0
      },
      "text/plain": [
       "VBox()"
      ]
     },
     "metadata": {},
     "output_type": "display_data"
    },
    {
     "data": {
      "application/vnd.jupyter.widget-view+json": {
       "model_id": "",
       "version_major": 2,
       "version_minor": 0
      },
      "text/plain": [
       "FloatProgress(value=0.0, bar_style='info', description='Progress:', layout=Layout(height='25px', width='50%'),…"
      ]
     },
     "metadata": {},
     "output_type": "display_data"
    },
    {
     "name": "stdout",
     "output_type": "stream",
     "text": [
      "+-----------------------+----------------------+\n",
      "|avg_response_time_EPOCH|avg_response_time_days|\n",
      "+-----------------------+----------------------+\n",
      "|     1294970.6020059434|                  15.0|\n",
      "+-----------------------+----------------------+"
     ]
    }
   ],
   "source": [
    "avg_response_time.show()"
   ]
  },
  {
   "cell_type": "markdown",
   "id": "05b174a4",
   "metadata": {},
   "source": [
    "\u015Aredni czas oczekiwania na zaakceptowan\u0105 odpowied\u017A to 15 dni"
   ]
  },
  {
   "cell_type": "code",
   "execution_count": null,
   "id": "28d89f66",
   "metadata": {},
   "outputs": [],
   "source": []
  }
 ],
 "metadata": {
  "kernelspec": {
   "display_name": "PySpark",
   "language": "python",
   "name": "pysparkkernel"
  },
  "language_info": {
   "codemirror_mode": {
    "name": "python",
    "version": 3
   },
   "file_extension": ".py",
   "mimetype": "text/x-python",
   "name": "pyspark",
   "pygments_lexer": "python3"
  }
 },
 "nbformat": 4,
 "nbformat_minor": 5
}
